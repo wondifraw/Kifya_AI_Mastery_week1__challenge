{
 "cells": [
  {
   "cell_type": "markdown",
   "metadata": {},
   "source": [
    "##### Financial News vs Stock dat Corelation Analysis \n",
    "##### imporing Neccessary Libraries"
   ]
  },
  {
   "cell_type": "code",
   "execution_count": null,
   "metadata": {},
   "outputs": [],
   "source": [
    "import numpy as np\n",
    "import pandas as pd\n",
    "import matplotlib.pyplot as plt \n",
    "import seaborn as sns\n",
    "from textblob import TextBlob"
   ]
  },
  {
   "cell_type": "markdown",
   "metadata": {},
   "source": []
  },
  {
   "cell_type": "markdown",
   "metadata": {},
   "source": [
    "#### Loading dataset as dataframe"
   ]
  },
  {
   "cell_type": "code",
   "execution_count": null,
   "metadata": {},
   "outputs": [],
   "source": [
    "apple = pd.read_csv('../data/AAPL_historical_data.csv')\n",
    "amazon = pd.read_csv('../data/AMZN_historical_data.csv')\n",
    "google = pd.read_csv('../data/GOOG_historical_data.csv')\n",
    "meta = pd.read_csv('../data/META_historical_data.csv')\n",
    "microsoft = pd.read_csv('../data/MSFT_historical_data.csv')\n",
    "nividia = pd.read_csv('../data/NVDA_historical_data.csv')\n",
    "tesla = pd.read_csv('../data/TSLA_historical_data.csv')\n",
    "\n",
    "news_df = pd.read_csv('../data/raw_analyst_ratings.csv')"
   ]
  },
  {
   "cell_type": "markdown",
   "metadata": {},
   "source": [
    "#### Adding Company Column\n",
    "##### Objective\n",
    " * Each DataFrame represents data for a specific company, and adding a 'Company' column helps clearly identify the source of the data.\n",
    " * If you plan to merge multiple DataFrames later, having a 'Company' column allows you to distinguish between the different companies' data.\n",
    " * When analyzing or visualizing the data, you can easily filter or group by the 'Company' column, making it easier to compare metrics across different companies.\n",
    " * Adding this column increases the readability of the DataFrame, especially when displaying or exporting the data."
   ]
  },
  {
   "cell_type": "code",
   "execution_count": 55,
   "metadata": {},
   "outputs": [],
   "source": [
    "# Add a 'Company' column to each dataframe\n",
    "apple['Company'] = 'Apple'\n",
    "amazon['Company'] = 'Amazon'\n",
    "google['Company'] = 'Google'\n",
    "meta['Company'] = 'Meta'\n",
    "microsoft['Company'] = 'Microsoft'\n",
    "nividia['Company'] = 'Nvidia'\n",
    "tesla['Company'] = 'Tesla'\n",
    "\n",
    "# Concatenate the dataframes\n",
    "stock_df = pd.concat([apple, amazon, google, meta, microsoft, nividia, tesla])"
   ]
  },
  {
   "cell_type": "code",
   "execution_count": 7,
   "metadata": {},
   "outputs": [
    {
     "data": {
      "application/vnd.microsoft.datawrangler.viewer.v0+json": {
       "columns": [
        {
         "name": "index",
         "rawType": "int64",
         "type": "integer"
        },
        {
         "name": "Unnamed: 0",
         "rawType": "int64",
         "type": "integer"
        },
        {
         "name": "headline",
         "rawType": "object",
         "type": "string"
        },
        {
         "name": "url",
         "rawType": "object",
         "type": "string"
        },
        {
         "name": "publisher",
         "rawType": "object",
         "type": "string"
        },
        {
         "name": "date",
         "rawType": "object",
         "type": "string"
        },
        {
         "name": "stock",
         "rawType": "object",
         "type": "string"
        }
       ],
       "ref": "e0b696a7-2035-403d-84a1-357eb2a5a4eb",
       "rows": [
        [
         "0",
         "0",
         "Stocks That Hit 52-Week Highs On Friday",
         "https://www.benzinga.com/news/20/06/16190091/stocks-that-hit-52-week-highs-on-friday",
         "Benzinga Insights",
         "2020-06-05 10:30:54-04:00",
         "A"
        ],
        [
         "1",
         "1",
         "Stocks That Hit 52-Week Highs On Wednesday",
         "https://www.benzinga.com/news/20/06/16170189/stocks-that-hit-52-week-highs-on-wednesday",
         "Benzinga Insights",
         "2020-06-03 10:45:20-04:00",
         "A"
        ],
        [
         "2",
         "2",
         "71 Biggest Movers From Friday",
         "https://www.benzinga.com/news/20/05/16103463/71-biggest-movers-from-friday",
         "Lisa Levin",
         "2020-05-26 04:30:07-04:00",
         "A"
        ],
        [
         "3",
         "3",
         "46 Stocks Moving In Friday's Mid-Day Session",
         "https://www.benzinga.com/news/20/05/16095921/46-stocks-moving-in-fridays-mid-day-session",
         "Lisa Levin",
         "2020-05-22 12:45:06-04:00",
         "A"
        ],
        [
         "4",
         "4",
         "B of A Securities Maintains Neutral on Agilent Technologies, Raises Price Target to $88",
         "https://www.benzinga.com/news/20/05/16095304/b-of-a-securities-maintains-neutral-on-agilent-technologies-raises-price-target-to-88",
         "Vick Meyer",
         "2020-05-22 11:38:59-04:00",
         "A"
        ]
       ],
       "shape": {
        "columns": 6,
        "rows": 5
       }
      },
      "text/html": [
       "<div>\n",
       "<style scoped>\n",
       "    .dataframe tbody tr th:only-of-type {\n",
       "        vertical-align: middle;\n",
       "    }\n",
       "\n",
       "    .dataframe tbody tr th {\n",
       "        vertical-align: top;\n",
       "    }\n",
       "\n",
       "    .dataframe thead th {\n",
       "        text-align: right;\n",
       "    }\n",
       "</style>\n",
       "<table border=\"1\" class=\"dataframe\">\n",
       "  <thead>\n",
       "    <tr style=\"text-align: right;\">\n",
       "      <th></th>\n",
       "      <th>Unnamed: 0</th>\n",
       "      <th>headline</th>\n",
       "      <th>url</th>\n",
       "      <th>publisher</th>\n",
       "      <th>date</th>\n",
       "      <th>stock</th>\n",
       "    </tr>\n",
       "  </thead>\n",
       "  <tbody>\n",
       "    <tr>\n",
       "      <th>0</th>\n",
       "      <td>0</td>\n",
       "      <td>Stocks That Hit 52-Week Highs On Friday</td>\n",
       "      <td>https://www.benzinga.com/news/20/06/16190091/s...</td>\n",
       "      <td>Benzinga Insights</td>\n",
       "      <td>2020-06-05 10:30:54-04:00</td>\n",
       "      <td>A</td>\n",
       "    </tr>\n",
       "    <tr>\n",
       "      <th>1</th>\n",
       "      <td>1</td>\n",
       "      <td>Stocks That Hit 52-Week Highs On Wednesday</td>\n",
       "      <td>https://www.benzinga.com/news/20/06/16170189/s...</td>\n",
       "      <td>Benzinga Insights</td>\n",
       "      <td>2020-06-03 10:45:20-04:00</td>\n",
       "      <td>A</td>\n",
       "    </tr>\n",
       "    <tr>\n",
       "      <th>2</th>\n",
       "      <td>2</td>\n",
       "      <td>71 Biggest Movers From Friday</td>\n",
       "      <td>https://www.benzinga.com/news/20/05/16103463/7...</td>\n",
       "      <td>Lisa Levin</td>\n",
       "      <td>2020-05-26 04:30:07-04:00</td>\n",
       "      <td>A</td>\n",
       "    </tr>\n",
       "    <tr>\n",
       "      <th>3</th>\n",
       "      <td>3</td>\n",
       "      <td>46 Stocks Moving In Friday's Mid-Day Session</td>\n",
       "      <td>https://www.benzinga.com/news/20/05/16095921/4...</td>\n",
       "      <td>Lisa Levin</td>\n",
       "      <td>2020-05-22 12:45:06-04:00</td>\n",
       "      <td>A</td>\n",
       "    </tr>\n",
       "    <tr>\n",
       "      <th>4</th>\n",
       "      <td>4</td>\n",
       "      <td>B of A Securities Maintains Neutral on Agilent...</td>\n",
       "      <td>https://www.benzinga.com/news/20/05/16095304/b...</td>\n",
       "      <td>Vick Meyer</td>\n",
       "      <td>2020-05-22 11:38:59-04:00</td>\n",
       "      <td>A</td>\n",
       "    </tr>\n",
       "  </tbody>\n",
       "</table>\n",
       "</div>"
      ],
      "text/plain": [
       "   Unnamed: 0                                           headline  \\\n",
       "0           0            Stocks That Hit 52-Week Highs On Friday   \n",
       "1           1         Stocks That Hit 52-Week Highs On Wednesday   \n",
       "2           2                      71 Biggest Movers From Friday   \n",
       "3           3       46 Stocks Moving In Friday's Mid-Day Session   \n",
       "4           4  B of A Securities Maintains Neutral on Agilent...   \n",
       "\n",
       "                                                 url          publisher  \\\n",
       "0  https://www.benzinga.com/news/20/06/16190091/s...  Benzinga Insights   \n",
       "1  https://www.benzinga.com/news/20/06/16170189/s...  Benzinga Insights   \n",
       "2  https://www.benzinga.com/news/20/05/16103463/7...         Lisa Levin   \n",
       "3  https://www.benzinga.com/news/20/05/16095921/4...         Lisa Levin   \n",
       "4  https://www.benzinga.com/news/20/05/16095304/b...         Vick Meyer   \n",
       "\n",
       "                        date stock  \n",
       "0  2020-06-05 10:30:54-04:00     A  \n",
       "1  2020-06-03 10:45:20-04:00     A  \n",
       "2  2020-05-26 04:30:07-04:00     A  \n",
       "3  2020-05-22 12:45:06-04:00     A  \n",
       "4  2020-05-22 11:38:59-04:00     A  "
      ]
     },
     "execution_count": 7,
     "metadata": {},
     "output_type": "execute_result"
    }
   ],
   "source": [
    "news_df.head()"
   ]
  },
  {
   "cell_type": "code",
   "execution_count": 8,
   "metadata": {},
   "outputs": [
    {
     "data": {
      "application/vnd.microsoft.datawrangler.viewer.v0+json": {
       "columns": [
        {
         "name": "index",
         "rawType": "int64",
         "type": "integer"
        },
        {
         "name": "Date",
         "rawType": "object",
         "type": "string"
        },
        {
         "name": "Open",
         "rawType": "float64",
         "type": "float"
        },
        {
         "name": "High",
         "rawType": "float64",
         "type": "float"
        },
        {
         "name": "Low",
         "rawType": "float64",
         "type": "float"
        },
        {
         "name": "Close",
         "rawType": "float64",
         "type": "float"
        },
        {
         "name": "Adj Close",
         "rawType": "float64",
         "type": "float"
        },
        {
         "name": "Volume",
         "rawType": "int64",
         "type": "integer"
        },
        {
         "name": "Dividends",
         "rawType": "float64",
         "type": "float"
        },
        {
         "name": "Stock Splits",
         "rawType": "float64",
         "type": "float"
        },
        {
         "name": "Company",
         "rawType": "object",
         "type": "string"
        }
       ],
       "ref": "50a8c340-d794-46d4-adfe-4b880da6f115",
       "rows": [
        [
         "0",
         "1980-12-12",
         "0.1283479928970337",
         "0.1289059966802597",
         "0.1283479928970337",
         "0.1283479928970337",
         "0.098943218588829",
         "469033600",
         "0.0",
         "0.0",
         "Apple"
        ],
        [
         "1",
         "1980-12-15",
         "0.1222100034356117",
         "0.1222100034356117",
         "0.1216519996523857",
         "0.1216519996523857",
         "0.093781292438507",
         "175884800",
         "0.0",
         "0.0",
         "Apple"
        ],
        [
         "2",
         "1980-12-16",
         "0.1132809966802597",
         "0.1132809966802597",
         "0.1127230003476142",
         "0.1127230003476142",
         "0.0868979692459106",
         "105728000",
         "0.0",
         "0.0",
         "Apple"
        ],
        [
         "3",
         "1980-12-17",
         "0.1155129969120025",
         "0.1160710006952285",
         "0.1155129969120025",
         "0.1155129969120025",
         "0.089048758149147",
         "86441600",
         "0.0",
         "0.0",
         "Apple"
        ],
        [
         "4",
         "1980-12-18",
         "0.1188620030879974",
         "0.1194199994206428",
         "0.1188620030879974",
         "0.1188620030879974",
         "0.0916304588317871",
         "73449600",
         "0.0",
         "0.0",
         "Apple"
        ]
       ],
       "shape": {
        "columns": 10,
        "rows": 5
       }
      },
      "text/html": [
       "<div>\n",
       "<style scoped>\n",
       "    .dataframe tbody tr th:only-of-type {\n",
       "        vertical-align: middle;\n",
       "    }\n",
       "\n",
       "    .dataframe tbody tr th {\n",
       "        vertical-align: top;\n",
       "    }\n",
       "\n",
       "    .dataframe thead th {\n",
       "        text-align: right;\n",
       "    }\n",
       "</style>\n",
       "<table border=\"1\" class=\"dataframe\">\n",
       "  <thead>\n",
       "    <tr style=\"text-align: right;\">\n",
       "      <th></th>\n",
       "      <th>Date</th>\n",
       "      <th>Open</th>\n",
       "      <th>High</th>\n",
       "      <th>Low</th>\n",
       "      <th>Close</th>\n",
       "      <th>Adj Close</th>\n",
       "      <th>Volume</th>\n",
       "      <th>Dividends</th>\n",
       "      <th>Stock Splits</th>\n",
       "      <th>Company</th>\n",
       "    </tr>\n",
       "  </thead>\n",
       "  <tbody>\n",
       "    <tr>\n",
       "      <th>0</th>\n",
       "      <td>1980-12-12</td>\n",
       "      <td>0.128348</td>\n",
       "      <td>0.128906</td>\n",
       "      <td>0.128348</td>\n",
       "      <td>0.128348</td>\n",
       "      <td>0.098943</td>\n",
       "      <td>469033600</td>\n",
       "      <td>0.0</td>\n",
       "      <td>0.0</td>\n",
       "      <td>Apple</td>\n",
       "    </tr>\n",
       "    <tr>\n",
       "      <th>1</th>\n",
       "      <td>1980-12-15</td>\n",
       "      <td>0.122210</td>\n",
       "      <td>0.122210</td>\n",
       "      <td>0.121652</td>\n",
       "      <td>0.121652</td>\n",
       "      <td>0.093781</td>\n",
       "      <td>175884800</td>\n",
       "      <td>0.0</td>\n",
       "      <td>0.0</td>\n",
       "      <td>Apple</td>\n",
       "    </tr>\n",
       "    <tr>\n",
       "      <th>2</th>\n",
       "      <td>1980-12-16</td>\n",
       "      <td>0.113281</td>\n",
       "      <td>0.113281</td>\n",
       "      <td>0.112723</td>\n",
       "      <td>0.112723</td>\n",
       "      <td>0.086898</td>\n",
       "      <td>105728000</td>\n",
       "      <td>0.0</td>\n",
       "      <td>0.0</td>\n",
       "      <td>Apple</td>\n",
       "    </tr>\n",
       "    <tr>\n",
       "      <th>3</th>\n",
       "      <td>1980-12-17</td>\n",
       "      <td>0.115513</td>\n",
       "      <td>0.116071</td>\n",
       "      <td>0.115513</td>\n",
       "      <td>0.115513</td>\n",
       "      <td>0.089049</td>\n",
       "      <td>86441600</td>\n",
       "      <td>0.0</td>\n",
       "      <td>0.0</td>\n",
       "      <td>Apple</td>\n",
       "    </tr>\n",
       "    <tr>\n",
       "      <th>4</th>\n",
       "      <td>1980-12-18</td>\n",
       "      <td>0.118862</td>\n",
       "      <td>0.119420</td>\n",
       "      <td>0.118862</td>\n",
       "      <td>0.118862</td>\n",
       "      <td>0.091630</td>\n",
       "      <td>73449600</td>\n",
       "      <td>0.0</td>\n",
       "      <td>0.0</td>\n",
       "      <td>Apple</td>\n",
       "    </tr>\n",
       "  </tbody>\n",
       "</table>\n",
       "</div>"
      ],
      "text/plain": [
       "         Date      Open      High       Low     Close  Adj Close     Volume  \\\n",
       "0  1980-12-12  0.128348  0.128906  0.128348  0.128348   0.098943  469033600   \n",
       "1  1980-12-15  0.122210  0.122210  0.121652  0.121652   0.093781  175884800   \n",
       "2  1980-12-16  0.113281  0.113281  0.112723  0.112723   0.086898  105728000   \n",
       "3  1980-12-17  0.115513  0.116071  0.115513  0.115513   0.089049   86441600   \n",
       "4  1980-12-18  0.118862  0.119420  0.118862  0.118862   0.091630   73449600   \n",
       "\n",
       "   Dividends  Stock Splits Company  \n",
       "0        0.0           0.0   Apple  \n",
       "1        0.0           0.0   Apple  \n",
       "2        0.0           0.0   Apple  \n",
       "3        0.0           0.0   Apple  \n",
       "4        0.0           0.0   Apple  "
      ]
     },
     "execution_count": 8,
     "metadata": {},
     "output_type": "execute_result"
    }
   ],
   "source": [
    "stock_df.head()"
   ]
  },
  {
   "cell_type": "code",
   "execution_count": 9,
   "metadata": {},
   "outputs": [
    {
     "data": {
      "text/plain": [
       "((1048575, 6), (45428, 10))"
      ]
     },
     "execution_count": 9,
     "metadata": {},
     "output_type": "execute_result"
    }
   ],
   "source": [
    "news_df.shape, stock_df.shape"
   ]
  },
  {
   "cell_type": "markdown",
   "metadata": {},
   "source": [
    "#### Data Cleaning \n",
    " * remove the first column from the news_df DataFrame. This operation is typically performed for the following reasons:\n",
    "    *  dropping irrelevant columns\n",
    "    *  focus only on the columns that contain meaningful information for subsequent analyses, such as sentiment scores or dates."
   ]
  },
  {
   "cell_type": "code",
   "execution_count": 57,
   "metadata": {},
   "outputs": [],
   "source": [
    "news_df= news_df.drop(news_df.columns[0], axis=1)"
   ]
  },
  {
   "cell_type": "markdown",
   "metadata": {},
   "source": [
    "#### Output Analysis\n",
    "* After executing the above line of code, the structure of the news_df DataFrame changed, with one less column.\n",
    "* The remaining columns include relevant data such as sentiment scores, dates, or other attributes pertinent to the news articles\n",
    "* Impact on Analysis:\n",
    "      * Removing the first column may enhance the clarity of the DataFrame, making it easier to analyze sentiment in relation to stock data. If the dropped column contained extraneous or non-informative data, this cleanup will help avoid confusion and potential errors in future analyses."
   ]
  },
  {
   "cell_type": "markdown",
   "metadata": {},
   "source": [
    "### Normalize Data:\n",
    "#### Objective\n",
    "  * Ensuring  that the date columns in both DataFrames are consistently formatted and free of timezone information, facilitating accurate analysis and comparison of the data.\n"
   ]
  },
  {
   "cell_type": "code",
   "execution_count": null,
   "metadata": {},
   "outputs": [],
   "source": [
    "# Convert 'date' columns to datetime\n",
    "news_df['date'] = pd.to_datetime(news_df['date'],  errors='coerce').dt.tz_localize(None)\n",
    "stock_df['Date'] = pd.to_datetime(stock_df['Date'],  errors='coerce').dt.tz_localize(None) "
   ]
  },
  {
   "cell_type": "markdown",
   "metadata": {},
   "source": [
    "### Code Analysis \n",
    "1. Function Used: pd.to_datetime()\n",
    "     * This function converts a series of dates (in string format) into pandas datetime objects.\n",
    "     * It enables various datetime operations and manipulations, such as filtering, sorting, and time series analysis.\n",
    "2. Error Handling: errors='coerce'\n",
    "     * This parameter ensures that if any date conversion fails (e.g., due to an invalid date string), the result will be NaT (Not a Time) instead of raising an error.\n",
    "     * This is helpful for maintaining the integrity of the DataFrame, allowing the analysis to continue without interruption.\n",
    "1. Removing Time Zone Information: .dt.tz_localize(None)\n",
    "     * This method removes any time zone information from the datetime objects.\n",
    "     * Standardizing datetime values without time zones is crucial when merging or comparing datasets from different sources, as it prevents mismatches due to time zone differences."
   ]
  },
  {
   "cell_type": "code",
   "execution_count": 12,
   "metadata": {},
   "outputs": [
    {
     "data": {
      "application/vnd.microsoft.datawrangler.viewer.v0+json": {
       "columns": [
        {
         "name": "index",
         "rawType": "int64",
         "type": "integer"
        },
        {
         "name": "headline",
         "rawType": "object",
         "type": "string"
        },
        {
         "name": "url",
         "rawType": "object",
         "type": "string"
        },
        {
         "name": "publisher",
         "rawType": "object",
         "type": "string"
        },
        {
         "name": "date",
         "rawType": "datetime64[ns]",
         "type": "datetime"
        },
        {
         "name": "stock",
         "rawType": "object",
         "type": "string"
        }
       ],
       "ref": "988023ab-877f-4302-b84f-f7a0447bf520",
       "rows": [
        [
         "0",
         "Stocks That Hit 52-Week Highs On Friday",
         "https://www.benzinga.com/news/20/06/16190091/stocks-that-hit-52-week-highs-on-friday",
         "Benzinga Insights",
         "2020-06-05 10:30:54",
         "A"
        ],
        [
         "1",
         "Stocks That Hit 52-Week Highs On Wednesday",
         "https://www.benzinga.com/news/20/06/16170189/stocks-that-hit-52-week-highs-on-wednesday",
         "Benzinga Insights",
         "2020-06-03 10:45:20",
         "A"
        ],
        [
         "2",
         "71 Biggest Movers From Friday",
         "https://www.benzinga.com/news/20/05/16103463/71-biggest-movers-from-friday",
         "Lisa Levin",
         "2020-05-26 04:30:07",
         "A"
        ],
        [
         "3",
         "46 Stocks Moving In Friday's Mid-Day Session",
         "https://www.benzinga.com/news/20/05/16095921/46-stocks-moving-in-fridays-mid-day-session",
         "Lisa Levin",
         "2020-05-22 12:45:06",
         "A"
        ],
        [
         "4",
         "B of A Securities Maintains Neutral on Agilent Technologies, Raises Price Target to $88",
         "https://www.benzinga.com/news/20/05/16095304/b-of-a-securities-maintains-neutral-on-agilent-technologies-raises-price-target-to-88",
         "Vick Meyer",
         "2020-05-22 11:38:59",
         "A"
        ]
       ],
       "shape": {
        "columns": 5,
        "rows": 5
       }
      },
      "text/html": [
       "<div>\n",
       "<style scoped>\n",
       "    .dataframe tbody tr th:only-of-type {\n",
       "        vertical-align: middle;\n",
       "    }\n",
       "\n",
       "    .dataframe tbody tr th {\n",
       "        vertical-align: top;\n",
       "    }\n",
       "\n",
       "    .dataframe thead th {\n",
       "        text-align: right;\n",
       "    }\n",
       "</style>\n",
       "<table border=\"1\" class=\"dataframe\">\n",
       "  <thead>\n",
       "    <tr style=\"text-align: right;\">\n",
       "      <th></th>\n",
       "      <th>headline</th>\n",
       "      <th>url</th>\n",
       "      <th>publisher</th>\n",
       "      <th>date</th>\n",
       "      <th>stock</th>\n",
       "    </tr>\n",
       "  </thead>\n",
       "  <tbody>\n",
       "    <tr>\n",
       "      <th>0</th>\n",
       "      <td>Stocks That Hit 52-Week Highs On Friday</td>\n",
       "      <td>https://www.benzinga.com/news/20/06/16190091/s...</td>\n",
       "      <td>Benzinga Insights</td>\n",
       "      <td>2020-06-05 10:30:54</td>\n",
       "      <td>A</td>\n",
       "    </tr>\n",
       "    <tr>\n",
       "      <th>1</th>\n",
       "      <td>Stocks That Hit 52-Week Highs On Wednesday</td>\n",
       "      <td>https://www.benzinga.com/news/20/06/16170189/s...</td>\n",
       "      <td>Benzinga Insights</td>\n",
       "      <td>2020-06-03 10:45:20</td>\n",
       "      <td>A</td>\n",
       "    </tr>\n",
       "    <tr>\n",
       "      <th>2</th>\n",
       "      <td>71 Biggest Movers From Friday</td>\n",
       "      <td>https://www.benzinga.com/news/20/05/16103463/7...</td>\n",
       "      <td>Lisa Levin</td>\n",
       "      <td>2020-05-26 04:30:07</td>\n",
       "      <td>A</td>\n",
       "    </tr>\n",
       "    <tr>\n",
       "      <th>3</th>\n",
       "      <td>46 Stocks Moving In Friday's Mid-Day Session</td>\n",
       "      <td>https://www.benzinga.com/news/20/05/16095921/4...</td>\n",
       "      <td>Lisa Levin</td>\n",
       "      <td>2020-05-22 12:45:06</td>\n",
       "      <td>A</td>\n",
       "    </tr>\n",
       "    <tr>\n",
       "      <th>4</th>\n",
       "      <td>B of A Securities Maintains Neutral on Agilent...</td>\n",
       "      <td>https://www.benzinga.com/news/20/05/16095304/b...</td>\n",
       "      <td>Vick Meyer</td>\n",
       "      <td>2020-05-22 11:38:59</td>\n",
       "      <td>A</td>\n",
       "    </tr>\n",
       "  </tbody>\n",
       "</table>\n",
       "</div>"
      ],
      "text/plain": [
       "                                            headline  \\\n",
       "0            Stocks That Hit 52-Week Highs On Friday   \n",
       "1         Stocks That Hit 52-Week Highs On Wednesday   \n",
       "2                      71 Biggest Movers From Friday   \n",
       "3       46 Stocks Moving In Friday's Mid-Day Session   \n",
       "4  B of A Securities Maintains Neutral on Agilent...   \n",
       "\n",
       "                                                 url          publisher  \\\n",
       "0  https://www.benzinga.com/news/20/06/16190091/s...  Benzinga Insights   \n",
       "1  https://www.benzinga.com/news/20/06/16170189/s...  Benzinga Insights   \n",
       "2  https://www.benzinga.com/news/20/05/16103463/7...         Lisa Levin   \n",
       "3  https://www.benzinga.com/news/20/05/16095921/4...         Lisa Levin   \n",
       "4  https://www.benzinga.com/news/20/05/16095304/b...         Vick Meyer   \n",
       "\n",
       "                 date stock  \n",
       "0 2020-06-05 10:30:54     A  \n",
       "1 2020-06-03 10:45:20     A  \n",
       "2 2020-05-26 04:30:07     A  \n",
       "3 2020-05-22 12:45:06     A  \n",
       "4 2020-05-22 11:38:59     A  "
      ]
     },
     "execution_count": 12,
     "metadata": {},
     "output_type": "execute_result"
    }
   ],
   "source": [
    "news_df.head()"
   ]
  },
  {
   "cell_type": "code",
   "execution_count": 13,
   "metadata": {},
   "outputs": [
    {
     "data": {
      "application/vnd.microsoft.datawrangler.viewer.v0+json": {
       "columns": [
        {
         "name": "index",
         "rawType": "int64",
         "type": "integer"
        },
        {
         "name": "Date",
         "rawType": "datetime64[ns]",
         "type": "datetime"
        },
        {
         "name": "Open",
         "rawType": "float64",
         "type": "float"
        },
        {
         "name": "High",
         "rawType": "float64",
         "type": "float"
        },
        {
         "name": "Low",
         "rawType": "float64",
         "type": "float"
        },
        {
         "name": "Close",
         "rawType": "float64",
         "type": "float"
        },
        {
         "name": "Adj Close",
         "rawType": "float64",
         "type": "float"
        },
        {
         "name": "Volume",
         "rawType": "int64",
         "type": "integer"
        },
        {
         "name": "Dividends",
         "rawType": "float64",
         "type": "float"
        },
        {
         "name": "Stock Splits",
         "rawType": "float64",
         "type": "float"
        },
        {
         "name": "Company",
         "rawType": "object",
         "type": "string"
        }
       ],
       "ref": "0b72180c-624f-4891-9d22-3878e6ceb655",
       "rows": [
        [
         "0",
         "1980-12-12 00:00:00",
         "0.1283479928970337",
         "0.1289059966802597",
         "0.1283479928970337",
         "0.1283479928970337",
         "0.098943218588829",
         "469033600",
         "0.0",
         "0.0",
         "Apple"
        ],
        [
         "1",
         "1980-12-15 00:00:00",
         "0.1222100034356117",
         "0.1222100034356117",
         "0.1216519996523857",
         "0.1216519996523857",
         "0.093781292438507",
         "175884800",
         "0.0",
         "0.0",
         "Apple"
        ],
        [
         "2",
         "1980-12-16 00:00:00",
         "0.1132809966802597",
         "0.1132809966802597",
         "0.1127230003476142",
         "0.1127230003476142",
         "0.0868979692459106",
         "105728000",
         "0.0",
         "0.0",
         "Apple"
        ],
        [
         "3",
         "1980-12-17 00:00:00",
         "0.1155129969120025",
         "0.1160710006952285",
         "0.1155129969120025",
         "0.1155129969120025",
         "0.089048758149147",
         "86441600",
         "0.0",
         "0.0",
         "Apple"
        ],
        [
         "4",
         "1980-12-18 00:00:00",
         "0.1188620030879974",
         "0.1194199994206428",
         "0.1188620030879974",
         "0.1188620030879974",
         "0.0916304588317871",
         "73449600",
         "0.0",
         "0.0",
         "Apple"
        ]
       ],
       "shape": {
        "columns": 10,
        "rows": 5
       }
      },
      "text/html": [
       "<div>\n",
       "<style scoped>\n",
       "    .dataframe tbody tr th:only-of-type {\n",
       "        vertical-align: middle;\n",
       "    }\n",
       "\n",
       "    .dataframe tbody tr th {\n",
       "        vertical-align: top;\n",
       "    }\n",
       "\n",
       "    .dataframe thead th {\n",
       "        text-align: right;\n",
       "    }\n",
       "</style>\n",
       "<table border=\"1\" class=\"dataframe\">\n",
       "  <thead>\n",
       "    <tr style=\"text-align: right;\">\n",
       "      <th></th>\n",
       "      <th>Date</th>\n",
       "      <th>Open</th>\n",
       "      <th>High</th>\n",
       "      <th>Low</th>\n",
       "      <th>Close</th>\n",
       "      <th>Adj Close</th>\n",
       "      <th>Volume</th>\n",
       "      <th>Dividends</th>\n",
       "      <th>Stock Splits</th>\n",
       "      <th>Company</th>\n",
       "    </tr>\n",
       "  </thead>\n",
       "  <tbody>\n",
       "    <tr>\n",
       "      <th>0</th>\n",
       "      <td>1980-12-12</td>\n",
       "      <td>0.128348</td>\n",
       "      <td>0.128906</td>\n",
       "      <td>0.128348</td>\n",
       "      <td>0.128348</td>\n",
       "      <td>0.098943</td>\n",
       "      <td>469033600</td>\n",
       "      <td>0.0</td>\n",
       "      <td>0.0</td>\n",
       "      <td>Apple</td>\n",
       "    </tr>\n",
       "    <tr>\n",
       "      <th>1</th>\n",
       "      <td>1980-12-15</td>\n",
       "      <td>0.122210</td>\n",
       "      <td>0.122210</td>\n",
       "      <td>0.121652</td>\n",
       "      <td>0.121652</td>\n",
       "      <td>0.093781</td>\n",
       "      <td>175884800</td>\n",
       "      <td>0.0</td>\n",
       "      <td>0.0</td>\n",
       "      <td>Apple</td>\n",
       "    </tr>\n",
       "    <tr>\n",
       "      <th>2</th>\n",
       "      <td>1980-12-16</td>\n",
       "      <td>0.113281</td>\n",
       "      <td>0.113281</td>\n",
       "      <td>0.112723</td>\n",
       "      <td>0.112723</td>\n",
       "      <td>0.086898</td>\n",
       "      <td>105728000</td>\n",
       "      <td>0.0</td>\n",
       "      <td>0.0</td>\n",
       "      <td>Apple</td>\n",
       "    </tr>\n",
       "    <tr>\n",
       "      <th>3</th>\n",
       "      <td>1980-12-17</td>\n",
       "      <td>0.115513</td>\n",
       "      <td>0.116071</td>\n",
       "      <td>0.115513</td>\n",
       "      <td>0.115513</td>\n",
       "      <td>0.089049</td>\n",
       "      <td>86441600</td>\n",
       "      <td>0.0</td>\n",
       "      <td>0.0</td>\n",
       "      <td>Apple</td>\n",
       "    </tr>\n",
       "    <tr>\n",
       "      <th>4</th>\n",
       "      <td>1980-12-18</td>\n",
       "      <td>0.118862</td>\n",
       "      <td>0.119420</td>\n",
       "      <td>0.118862</td>\n",
       "      <td>0.118862</td>\n",
       "      <td>0.091630</td>\n",
       "      <td>73449600</td>\n",
       "      <td>0.0</td>\n",
       "      <td>0.0</td>\n",
       "      <td>Apple</td>\n",
       "    </tr>\n",
       "  </tbody>\n",
       "</table>\n",
       "</div>"
      ],
      "text/plain": [
       "        Date      Open      High       Low     Close  Adj Close     Volume  \\\n",
       "0 1980-12-12  0.128348  0.128906  0.128348  0.128348   0.098943  469033600   \n",
       "1 1980-12-15  0.122210  0.122210  0.121652  0.121652   0.093781  175884800   \n",
       "2 1980-12-16  0.113281  0.113281  0.112723  0.112723   0.086898  105728000   \n",
       "3 1980-12-17  0.115513  0.116071  0.115513  0.115513   0.089049   86441600   \n",
       "4 1980-12-18  0.118862  0.119420  0.118862  0.118862   0.091630   73449600   \n",
       "\n",
       "   Dividends  Stock Splits Company  \n",
       "0        0.0           0.0   Apple  \n",
       "1        0.0           0.0   Apple  \n",
       "2        0.0           0.0   Apple  \n",
       "3        0.0           0.0   Apple  \n",
       "4        0.0           0.0   Apple  "
      ]
     },
     "execution_count": 13,
     "metadata": {},
     "output_type": "execute_result"
    }
   ],
   "source": [
    "stock_df.head()"
   ]
  },
  {
   "cell_type": "code",
   "execution_count": 54,
   "metadata": {},
   "outputs": [
    {
     "data": {
      "text/plain": [
       "(Index(['url', 'publisher', 'date', 'stock', 'sentiment'], dtype='object'),\n",
       " Index(['date', 'Open', 'High', 'Low', 'Close', 'Adj Close', 'Volume',\n",
       "        'Dividends', 'Stock Splits', 'Company', 'Date'],\n",
       "       dtype='object'))"
      ]
     },
     "execution_count": 54,
     "metadata": {},
     "output_type": "execute_result"
    }
   ],
   "source": [
    "news_df.columns, stock_df.columns"
   ]
  },
  {
   "cell_type": "markdown",
   "metadata": {},
   "source": [
    "#### Renaming Date Column\n",
    "  * Renaming the column from 'Date' to 'date' in stock_df is a step toward standardizing the DataFrame’s structure, which simplifies further data processing and analysis."
   ]
  },
  {
   "cell_type": "code",
   "execution_count": 60,
   "metadata": {},
   "outputs": [],
   "source": [
    "# Rename 'Date' column to 'date' in stock_df and convert to datetime format\n",
    "stock_df.rename(columns={'Date': 'date'}, inplace=True)"
   ]
  },
  {
   "cell_type": "markdown",
   "metadata": {},
   "source": [
    "#### Date Format standardization\n",
    " * The code converts the date columns in both news_df and stock_df to a specific string format ('YYYY-MM-DD').\n",
    " * This format is a common standard for representing dates, making it easier to read and understand.\n",
    " * By formatting both DataFrames to the same date string format, we ensure consistency. This is particularly important when comparing or merging the two DataFrames, as it eliminates potential mismatches due to different date formats."
   ]
  },
  {
   "cell_type": "code",
   "execution_count": 61,
   "metadata": {},
   "outputs": [],
   "source": [
    "# Format 'date' column to 'yyyy-mm-dd' format\n",
    "news_df['date'] = news_df['date'].dt.strftime('%Y-%m-%d')\n",
    "stock_df['date'] = stock_df['date'].dt.strftime('%Y-%m-%d')"
   ]
  },
  {
   "cell_type": "code",
   "execution_count": 62,
   "metadata": {},
   "outputs": [
    {
     "data": {
      "application/vnd.microsoft.datawrangler.viewer.v0+json": {
       "columns": [
        {
         "name": "index",
         "rawType": "int64",
         "type": "integer"
        },
        {
         "name": "headline",
         "rawType": "object",
         "type": "string"
        },
        {
         "name": "url",
         "rawType": "object",
         "type": "string"
        },
        {
         "name": "publisher",
         "rawType": "object",
         "type": "string"
        },
        {
         "name": "date",
         "rawType": "object",
         "type": "string"
        },
        {
         "name": "stock",
         "rawType": "object",
         "type": "string"
        }
       ],
       "ref": "de693322-cc0e-4559-8050-035c58ef39b3",
       "rows": [
        [
         "0",
         "Stocks That Hit 52-Week Highs On Friday",
         "https://www.benzinga.com/news/20/06/16190091/stocks-that-hit-52-week-highs-on-friday",
         "Benzinga Insights",
         "2020-06-05",
         "A"
        ],
        [
         "1",
         "Stocks That Hit 52-Week Highs On Wednesday",
         "https://www.benzinga.com/news/20/06/16170189/stocks-that-hit-52-week-highs-on-wednesday",
         "Benzinga Insights",
         "2020-06-03",
         "A"
        ],
        [
         "2",
         "71 Biggest Movers From Friday",
         "https://www.benzinga.com/news/20/05/16103463/71-biggest-movers-from-friday",
         "Lisa Levin",
         "2020-05-26",
         "A"
        ],
        [
         "3",
         "46 Stocks Moving In Friday's Mid-Day Session",
         "https://www.benzinga.com/news/20/05/16095921/46-stocks-moving-in-fridays-mid-day-session",
         "Lisa Levin",
         "2020-05-22",
         "A"
        ],
        [
         "4",
         "B of A Securities Maintains Neutral on Agilent Technologies, Raises Price Target to $88",
         "https://www.benzinga.com/news/20/05/16095304/b-of-a-securities-maintains-neutral-on-agilent-technologies-raises-price-target-to-88",
         "Vick Meyer",
         "2020-05-22",
         "A"
        ]
       ],
       "shape": {
        "columns": 5,
        "rows": 5
       }
      },
      "text/html": [
       "<div>\n",
       "<style scoped>\n",
       "    .dataframe tbody tr th:only-of-type {\n",
       "        vertical-align: middle;\n",
       "    }\n",
       "\n",
       "    .dataframe tbody tr th {\n",
       "        vertical-align: top;\n",
       "    }\n",
       "\n",
       "    .dataframe thead th {\n",
       "        text-align: right;\n",
       "    }\n",
       "</style>\n",
       "<table border=\"1\" class=\"dataframe\">\n",
       "  <thead>\n",
       "    <tr style=\"text-align: right;\">\n",
       "      <th></th>\n",
       "      <th>headline</th>\n",
       "      <th>url</th>\n",
       "      <th>publisher</th>\n",
       "      <th>date</th>\n",
       "      <th>stock</th>\n",
       "    </tr>\n",
       "  </thead>\n",
       "  <tbody>\n",
       "    <tr>\n",
       "      <th>0</th>\n",
       "      <td>Stocks That Hit 52-Week Highs On Friday</td>\n",
       "      <td>https://www.benzinga.com/news/20/06/16190091/s...</td>\n",
       "      <td>Benzinga Insights</td>\n",
       "      <td>2020-06-05</td>\n",
       "      <td>A</td>\n",
       "    </tr>\n",
       "    <tr>\n",
       "      <th>1</th>\n",
       "      <td>Stocks That Hit 52-Week Highs On Wednesday</td>\n",
       "      <td>https://www.benzinga.com/news/20/06/16170189/s...</td>\n",
       "      <td>Benzinga Insights</td>\n",
       "      <td>2020-06-03</td>\n",
       "      <td>A</td>\n",
       "    </tr>\n",
       "    <tr>\n",
       "      <th>2</th>\n",
       "      <td>71 Biggest Movers From Friday</td>\n",
       "      <td>https://www.benzinga.com/news/20/05/16103463/7...</td>\n",
       "      <td>Lisa Levin</td>\n",
       "      <td>2020-05-26</td>\n",
       "      <td>A</td>\n",
       "    </tr>\n",
       "    <tr>\n",
       "      <th>3</th>\n",
       "      <td>46 Stocks Moving In Friday's Mid-Day Session</td>\n",
       "      <td>https://www.benzinga.com/news/20/05/16095921/4...</td>\n",
       "      <td>Lisa Levin</td>\n",
       "      <td>2020-05-22</td>\n",
       "      <td>A</td>\n",
       "    </tr>\n",
       "    <tr>\n",
       "      <th>4</th>\n",
       "      <td>B of A Securities Maintains Neutral on Agilent...</td>\n",
       "      <td>https://www.benzinga.com/news/20/05/16095304/b...</td>\n",
       "      <td>Vick Meyer</td>\n",
       "      <td>2020-05-22</td>\n",
       "      <td>A</td>\n",
       "    </tr>\n",
       "  </tbody>\n",
       "</table>\n",
       "</div>"
      ],
      "text/plain": [
       "                                            headline  \\\n",
       "0            Stocks That Hit 52-Week Highs On Friday   \n",
       "1         Stocks That Hit 52-Week Highs On Wednesday   \n",
       "2                      71 Biggest Movers From Friday   \n",
       "3       46 Stocks Moving In Friday's Mid-Day Session   \n",
       "4  B of A Securities Maintains Neutral on Agilent...   \n",
       "\n",
       "                                                 url          publisher  \\\n",
       "0  https://www.benzinga.com/news/20/06/16190091/s...  Benzinga Insights   \n",
       "1  https://www.benzinga.com/news/20/06/16170189/s...  Benzinga Insights   \n",
       "2  https://www.benzinga.com/news/20/05/16103463/7...         Lisa Levin   \n",
       "3  https://www.benzinga.com/news/20/05/16095921/4...         Lisa Levin   \n",
       "4  https://www.benzinga.com/news/20/05/16095304/b...         Vick Meyer   \n",
       "\n",
       "         date stock  \n",
       "0  2020-06-05     A  \n",
       "1  2020-06-03     A  \n",
       "2  2020-05-26     A  \n",
       "3  2020-05-22     A  \n",
       "4  2020-05-22     A  "
      ]
     },
     "execution_count": 62,
     "metadata": {},
     "output_type": "execute_result"
    }
   ],
   "source": [
    "news_df.head()"
   ]
  },
  {
   "cell_type": "code",
   "execution_count": 19,
   "metadata": {},
   "outputs": [
    {
     "data": {
      "application/vnd.microsoft.datawrangler.viewer.v0+json": {
       "columns": [
        {
         "name": "index",
         "rawType": "int64",
         "type": "integer"
        },
        {
         "name": "date",
         "rawType": "object",
         "type": "string"
        },
        {
         "name": "Open",
         "rawType": "float64",
         "type": "float"
        },
        {
         "name": "High",
         "rawType": "float64",
         "type": "float"
        },
        {
         "name": "Low",
         "rawType": "float64",
         "type": "float"
        },
        {
         "name": "Close",
         "rawType": "float64",
         "type": "float"
        },
        {
         "name": "Adj Close",
         "rawType": "float64",
         "type": "float"
        },
        {
         "name": "Volume",
         "rawType": "int64",
         "type": "integer"
        },
        {
         "name": "Dividends",
         "rawType": "float64",
         "type": "float"
        },
        {
         "name": "Stock Splits",
         "rawType": "float64",
         "type": "float"
        },
        {
         "name": "Company",
         "rawType": "object",
         "type": "string"
        }
       ],
       "ref": "fba0ac49-82a7-4b9d-b819-aad957ff7ef4",
       "rows": [
        [
         "0",
         "1980-12-12",
         "0.1283479928970337",
         "0.1289059966802597",
         "0.1283479928970337",
         "0.1283479928970337",
         "0.098943218588829",
         "469033600",
         "0.0",
         "0.0",
         "Apple"
        ],
        [
         "1",
         "1980-12-15",
         "0.1222100034356117",
         "0.1222100034356117",
         "0.1216519996523857",
         "0.1216519996523857",
         "0.093781292438507",
         "175884800",
         "0.0",
         "0.0",
         "Apple"
        ],
        [
         "2",
         "1980-12-16",
         "0.1132809966802597",
         "0.1132809966802597",
         "0.1127230003476142",
         "0.1127230003476142",
         "0.0868979692459106",
         "105728000",
         "0.0",
         "0.0",
         "Apple"
        ],
        [
         "3",
         "1980-12-17",
         "0.1155129969120025",
         "0.1160710006952285",
         "0.1155129969120025",
         "0.1155129969120025",
         "0.089048758149147",
         "86441600",
         "0.0",
         "0.0",
         "Apple"
        ],
        [
         "4",
         "1980-12-18",
         "0.1188620030879974",
         "0.1194199994206428",
         "0.1188620030879974",
         "0.1188620030879974",
         "0.0916304588317871",
         "73449600",
         "0.0",
         "0.0",
         "Apple"
        ]
       ],
       "shape": {
        "columns": 10,
        "rows": 5
       }
      },
      "text/html": [
       "<div>\n",
       "<style scoped>\n",
       "    .dataframe tbody tr th:only-of-type {\n",
       "        vertical-align: middle;\n",
       "    }\n",
       "\n",
       "    .dataframe tbody tr th {\n",
       "        vertical-align: top;\n",
       "    }\n",
       "\n",
       "    .dataframe thead th {\n",
       "        text-align: right;\n",
       "    }\n",
       "</style>\n",
       "<table border=\"1\" class=\"dataframe\">\n",
       "  <thead>\n",
       "    <tr style=\"text-align: right;\">\n",
       "      <th></th>\n",
       "      <th>date</th>\n",
       "      <th>Open</th>\n",
       "      <th>High</th>\n",
       "      <th>Low</th>\n",
       "      <th>Close</th>\n",
       "      <th>Adj Close</th>\n",
       "      <th>Volume</th>\n",
       "      <th>Dividends</th>\n",
       "      <th>Stock Splits</th>\n",
       "      <th>Company</th>\n",
       "    </tr>\n",
       "  </thead>\n",
       "  <tbody>\n",
       "    <tr>\n",
       "      <th>0</th>\n",
       "      <td>1980-12-12</td>\n",
       "      <td>0.128348</td>\n",
       "      <td>0.128906</td>\n",
       "      <td>0.128348</td>\n",
       "      <td>0.128348</td>\n",
       "      <td>0.098943</td>\n",
       "      <td>469033600</td>\n",
       "      <td>0.0</td>\n",
       "      <td>0.0</td>\n",
       "      <td>Apple</td>\n",
       "    </tr>\n",
       "    <tr>\n",
       "      <th>1</th>\n",
       "      <td>1980-12-15</td>\n",
       "      <td>0.122210</td>\n",
       "      <td>0.122210</td>\n",
       "      <td>0.121652</td>\n",
       "      <td>0.121652</td>\n",
       "      <td>0.093781</td>\n",
       "      <td>175884800</td>\n",
       "      <td>0.0</td>\n",
       "      <td>0.0</td>\n",
       "      <td>Apple</td>\n",
       "    </tr>\n",
       "    <tr>\n",
       "      <th>2</th>\n",
       "      <td>1980-12-16</td>\n",
       "      <td>0.113281</td>\n",
       "      <td>0.113281</td>\n",
       "      <td>0.112723</td>\n",
       "      <td>0.112723</td>\n",
       "      <td>0.086898</td>\n",
       "      <td>105728000</td>\n",
       "      <td>0.0</td>\n",
       "      <td>0.0</td>\n",
       "      <td>Apple</td>\n",
       "    </tr>\n",
       "    <tr>\n",
       "      <th>3</th>\n",
       "      <td>1980-12-17</td>\n",
       "      <td>0.115513</td>\n",
       "      <td>0.116071</td>\n",
       "      <td>0.115513</td>\n",
       "      <td>0.115513</td>\n",
       "      <td>0.089049</td>\n",
       "      <td>86441600</td>\n",
       "      <td>0.0</td>\n",
       "      <td>0.0</td>\n",
       "      <td>Apple</td>\n",
       "    </tr>\n",
       "    <tr>\n",
       "      <th>4</th>\n",
       "      <td>1980-12-18</td>\n",
       "      <td>0.118862</td>\n",
       "      <td>0.119420</td>\n",
       "      <td>0.118862</td>\n",
       "      <td>0.118862</td>\n",
       "      <td>0.091630</td>\n",
       "      <td>73449600</td>\n",
       "      <td>0.0</td>\n",
       "      <td>0.0</td>\n",
       "      <td>Apple</td>\n",
       "    </tr>\n",
       "  </tbody>\n",
       "</table>\n",
       "</div>"
      ],
      "text/plain": [
       "         date      Open      High       Low     Close  Adj Close     Volume  \\\n",
       "0  1980-12-12  0.128348  0.128906  0.128348  0.128348   0.098943  469033600   \n",
       "1  1980-12-15  0.122210  0.122210  0.121652  0.121652   0.093781  175884800   \n",
       "2  1980-12-16  0.113281  0.113281  0.112723  0.112723   0.086898  105728000   \n",
       "3  1980-12-17  0.115513  0.116071  0.115513  0.115513   0.089049   86441600   \n",
       "4  1980-12-18  0.118862  0.119420  0.118862  0.118862   0.091630   73449600   \n",
       "\n",
       "   Dividends  Stock Splits Company  \n",
       "0        0.0           0.0   Apple  \n",
       "1        0.0           0.0   Apple  \n",
       "2        0.0           0.0   Apple  \n",
       "3        0.0           0.0   Apple  \n",
       "4        0.0           0.0   Apple  "
      ]
     },
     "execution_count": 19,
     "metadata": {},
     "output_type": "execute_result"
    }
   ],
   "source": [
    "stock_df.head()"
   ]
  },
  {
   "cell_type": "markdown",
   "metadata": {},
   "source": [
    "#### Merging the two DataFrames\n",
    " * The code merges the news_df and stock_df DataFrames based on the common column 'date'.\n",
    " * This operation combines rows from both DataFrames where the date values match, effectively aligning news headlines with their corresponding stock data."
   ]
  },
  {
   "cell_type": "code",
   "execution_count": 63,
   "metadata": {},
   "outputs": [],
   "source": [
    "# Merge the two DataFrames on the 'date' column\n",
    "merged_df = pd.merge(news_df, stock_df, on='date')\n"
   ]
  },
  {
   "cell_type": "markdown",
   "metadata": {},
   "source": [
    "#### Analysis of Output\n",
    " * The resulting DataFrame merged_df  have all columns from both news_df and stock_df, with the rows aligned based on matching dates.\n",
    " * If a date exists in one DataFrame but not in the other, the resulting DataFrame will not include that date unless specified otherwise \n",
    " * Review the merged DataFrame for any NaN values, which indicate that there were dates in one DataFrame without corresponding entries in the other. This can affect analysis and should be addressed based on the requirements of your analysis (e.g., filling missing values or filtering them out).\n",
    "   * The merged dataset allows for a variety of analyses, such as:\n",
    "   * Comparing stock price movements with sentiment changes over time.\n",
    "   * Performing time series analyses to see how news affects stock performance.\n",
    "   * Visualizing trends and correlations between news sentiment and stock prices."
   ]
  },
  {
   "cell_type": "code",
   "execution_count": 64,
   "metadata": {},
   "outputs": [
    {
     "data": {
      "application/vnd.microsoft.datawrangler.viewer.v0+json": {
       "columns": [
        {
         "name": "index",
         "rawType": "int64",
         "type": "integer"
        },
        {
         "name": "headline",
         "rawType": "object",
         "type": "string"
        },
        {
         "name": "url",
         "rawType": "object",
         "type": "string"
        },
        {
         "name": "publisher",
         "rawType": "object",
         "type": "string"
        },
        {
         "name": "date",
         "rawType": "object",
         "type": "string"
        },
        {
         "name": "stock",
         "rawType": "object",
         "type": "string"
        },
        {
         "name": "Open",
         "rawType": "float64",
         "type": "float"
        },
        {
         "name": "High",
         "rawType": "float64",
         "type": "float"
        },
        {
         "name": "Low",
         "rawType": "float64",
         "type": "float"
        },
        {
         "name": "Close",
         "rawType": "float64",
         "type": "float"
        },
        {
         "name": "Adj Close",
         "rawType": "float64",
         "type": "float"
        },
        {
         "name": "Volume",
         "rawType": "int64",
         "type": "integer"
        },
        {
         "name": "Dividends",
         "rawType": "float64",
         "type": "float"
        },
        {
         "name": "Stock Splits",
         "rawType": "float64",
         "type": "float"
        },
        {
         "name": "Company",
         "rawType": "object",
         "type": "string"
        }
       ],
       "ref": "6caf5a3a-c34b-4af9-9833-468dd7c478f9",
       "rows": [
        [
         "0",
         "Stocks That Hit 52-Week Highs On Friday",
         "https://www.benzinga.com/news/20/06/16190091/stocks-that-hit-52-week-highs-on-friday",
         "Benzinga Insights",
         "2020-06-05",
         "A",
         "80.8375015258789",
         "82.9375",
         "80.80750274658203",
         "82.875",
         "80.8434066772461",
         "137250400",
         "0.0",
         "0.0",
         "Apple"
        ],
        [
         "1",
         "Stocks That Hit 52-Week Highs On Friday",
         "https://www.benzinga.com/news/20/06/16190091/stocks-that-hit-52-week-highs-on-friday",
         "Benzinga Insights",
         "2020-06-05",
         "A",
         "122.22550201416016",
         "124.43250274658205",
         "121.85649871826172",
         "124.1500015258789",
         "124.1500015258789",
         "66128000",
         "0.0",
         "0.0",
         "Amazon"
        ],
        [
         "2",
         "Stocks That Hit 52-Week Highs On Friday",
         "https://www.benzinga.com/news/20/06/16190091/stocks-that-hit-52-week-highs-on-friday",
         "Benzinga Insights",
         "2020-06-05",
         "A",
         "70.65850067138672",
         "72.25250244140625",
         "70.30000305175781",
         "71.91950225830078",
         "71.83775329589844",
         "34698000",
         "0.0",
         "0.0",
         "Google"
        ],
        [
         "3",
         "Stocks That Hit 52-Week Highs On Friday",
         "https://www.benzinga.com/news/20/06/16190091/stocks-that-hit-52-week-highs-on-friday",
         "Benzinga Insights",
         "2020-06-05",
         "A",
         "226.7100067138672",
         "231.3500061035156",
         "225.30999755859372",
         "230.7700042724609",
         "230.2967529296875",
         "16750400",
         "0.0",
         "0.0",
         "Meta"
        ],
        [
         "4",
         "Stocks That Hit 52-Week Highs On Friday",
         "https://www.benzinga.com/news/20/06/16190091/stocks-that-hit-52-week-highs-on-friday",
         "Benzinga Insights",
         "2020-06-05",
         "A",
         "182.6199951171875",
         "187.72999572753903",
         "182.00999450683597",
         "187.1999969482422",
         "180.403564453125",
         "39893600",
         "0.0",
         "0.0",
         "Microsoft"
        ]
       ],
       "shape": {
        "columns": 14,
        "rows": 5
       }
      },
      "text/html": [
       "<div>\n",
       "<style scoped>\n",
       "    .dataframe tbody tr th:only-of-type {\n",
       "        vertical-align: middle;\n",
       "    }\n",
       "\n",
       "    .dataframe tbody tr th {\n",
       "        vertical-align: top;\n",
       "    }\n",
       "\n",
       "    .dataframe thead th {\n",
       "        text-align: right;\n",
       "    }\n",
       "</style>\n",
       "<table border=\"1\" class=\"dataframe\">\n",
       "  <thead>\n",
       "    <tr style=\"text-align: right;\">\n",
       "      <th></th>\n",
       "      <th>headline</th>\n",
       "      <th>url</th>\n",
       "      <th>publisher</th>\n",
       "      <th>date</th>\n",
       "      <th>stock</th>\n",
       "      <th>Open</th>\n",
       "      <th>High</th>\n",
       "      <th>Low</th>\n",
       "      <th>Close</th>\n",
       "      <th>Adj Close</th>\n",
       "      <th>Volume</th>\n",
       "      <th>Dividends</th>\n",
       "      <th>Stock Splits</th>\n",
       "      <th>Company</th>\n",
       "    </tr>\n",
       "  </thead>\n",
       "  <tbody>\n",
       "    <tr>\n",
       "      <th>0</th>\n",
       "      <td>Stocks That Hit 52-Week Highs On Friday</td>\n",
       "      <td>https://www.benzinga.com/news/20/06/16190091/s...</td>\n",
       "      <td>Benzinga Insights</td>\n",
       "      <td>2020-06-05</td>\n",
       "      <td>A</td>\n",
       "      <td>80.837502</td>\n",
       "      <td>82.937500</td>\n",
       "      <td>80.807503</td>\n",
       "      <td>82.875000</td>\n",
       "      <td>80.843407</td>\n",
       "      <td>137250400</td>\n",
       "      <td>0.0</td>\n",
       "      <td>0.0</td>\n",
       "      <td>Apple</td>\n",
       "    </tr>\n",
       "    <tr>\n",
       "      <th>1</th>\n",
       "      <td>Stocks That Hit 52-Week Highs On Friday</td>\n",
       "      <td>https://www.benzinga.com/news/20/06/16190091/s...</td>\n",
       "      <td>Benzinga Insights</td>\n",
       "      <td>2020-06-05</td>\n",
       "      <td>A</td>\n",
       "      <td>122.225502</td>\n",
       "      <td>124.432503</td>\n",
       "      <td>121.856499</td>\n",
       "      <td>124.150002</td>\n",
       "      <td>124.150002</td>\n",
       "      <td>66128000</td>\n",
       "      <td>0.0</td>\n",
       "      <td>0.0</td>\n",
       "      <td>Amazon</td>\n",
       "    </tr>\n",
       "    <tr>\n",
       "      <th>2</th>\n",
       "      <td>Stocks That Hit 52-Week Highs On Friday</td>\n",
       "      <td>https://www.benzinga.com/news/20/06/16190091/s...</td>\n",
       "      <td>Benzinga Insights</td>\n",
       "      <td>2020-06-05</td>\n",
       "      <td>A</td>\n",
       "      <td>70.658501</td>\n",
       "      <td>72.252502</td>\n",
       "      <td>70.300003</td>\n",
       "      <td>71.919502</td>\n",
       "      <td>71.837753</td>\n",
       "      <td>34698000</td>\n",
       "      <td>0.0</td>\n",
       "      <td>0.0</td>\n",
       "      <td>Google</td>\n",
       "    </tr>\n",
       "    <tr>\n",
       "      <th>3</th>\n",
       "      <td>Stocks That Hit 52-Week Highs On Friday</td>\n",
       "      <td>https://www.benzinga.com/news/20/06/16190091/s...</td>\n",
       "      <td>Benzinga Insights</td>\n",
       "      <td>2020-06-05</td>\n",
       "      <td>A</td>\n",
       "      <td>226.710007</td>\n",
       "      <td>231.350006</td>\n",
       "      <td>225.309998</td>\n",
       "      <td>230.770004</td>\n",
       "      <td>230.296753</td>\n",
       "      <td>16750400</td>\n",
       "      <td>0.0</td>\n",
       "      <td>0.0</td>\n",
       "      <td>Meta</td>\n",
       "    </tr>\n",
       "    <tr>\n",
       "      <th>4</th>\n",
       "      <td>Stocks That Hit 52-Week Highs On Friday</td>\n",
       "      <td>https://www.benzinga.com/news/20/06/16190091/s...</td>\n",
       "      <td>Benzinga Insights</td>\n",
       "      <td>2020-06-05</td>\n",
       "      <td>A</td>\n",
       "      <td>182.619995</td>\n",
       "      <td>187.729996</td>\n",
       "      <td>182.009995</td>\n",
       "      <td>187.199997</td>\n",
       "      <td>180.403564</td>\n",
       "      <td>39893600</td>\n",
       "      <td>0.0</td>\n",
       "      <td>0.0</td>\n",
       "      <td>Microsoft</td>\n",
       "    </tr>\n",
       "  </tbody>\n",
       "</table>\n",
       "</div>"
      ],
      "text/plain": [
       "                                  headline  \\\n",
       "0  Stocks That Hit 52-Week Highs On Friday   \n",
       "1  Stocks That Hit 52-Week Highs On Friday   \n",
       "2  Stocks That Hit 52-Week Highs On Friday   \n",
       "3  Stocks That Hit 52-Week Highs On Friday   \n",
       "4  Stocks That Hit 52-Week Highs On Friday   \n",
       "\n",
       "                                                 url          publisher  \\\n",
       "0  https://www.benzinga.com/news/20/06/16190091/s...  Benzinga Insights   \n",
       "1  https://www.benzinga.com/news/20/06/16190091/s...  Benzinga Insights   \n",
       "2  https://www.benzinga.com/news/20/06/16190091/s...  Benzinga Insights   \n",
       "3  https://www.benzinga.com/news/20/06/16190091/s...  Benzinga Insights   \n",
       "4  https://www.benzinga.com/news/20/06/16190091/s...  Benzinga Insights   \n",
       "\n",
       "         date stock        Open        High         Low       Close  \\\n",
       "0  2020-06-05     A   80.837502   82.937500   80.807503   82.875000   \n",
       "1  2020-06-05     A  122.225502  124.432503  121.856499  124.150002   \n",
       "2  2020-06-05     A   70.658501   72.252502   70.300003   71.919502   \n",
       "3  2020-06-05     A  226.710007  231.350006  225.309998  230.770004   \n",
       "4  2020-06-05     A  182.619995  187.729996  182.009995  187.199997   \n",
       "\n",
       "    Adj Close     Volume  Dividends  Stock Splits    Company  \n",
       "0   80.843407  137250400        0.0           0.0      Apple  \n",
       "1  124.150002   66128000        0.0           0.0     Amazon  \n",
       "2   71.837753   34698000        0.0           0.0     Google  \n",
       "3  230.296753   16750400        0.0           0.0       Meta  \n",
       "4  180.403564   39893600        0.0           0.0  Microsoft  "
      ]
     },
     "execution_count": 64,
     "metadata": {},
     "output_type": "execute_result"
    }
   ],
   "source": [
    "merged_df.head()"
   ]
  },
  {
   "cell_type": "code",
   "execution_count": 21,
   "metadata": {},
   "outputs": [
    {
     "data": {
      "text/plain": [
       "(285028, 14)"
      ]
     },
     "execution_count": 21,
     "metadata": {},
     "output_type": "execute_result"
    }
   ],
   "source": [
    "merged_df.shape"
   ]
  },
  {
   "cell_type": "code",
   "execution_count": 22,
   "metadata": {},
   "outputs": [
    {
     "data": {
      "application/vnd.microsoft.datawrangler.viewer.v0+json": {
       "columns": [
        {
         "name": "index",
         "rawType": "object",
         "type": "string"
        },
        {
         "name": "0",
         "rawType": "int64",
         "type": "integer"
        }
       ],
       "ref": "661d678d-3a63-4f54-b81a-7941c757a9fd",
       "rows": [
        [
         "headline",
         "0"
        ],
        [
         "url",
         "0"
        ],
        [
         "publisher",
         "0"
        ],
        [
         "date",
         "0"
        ],
        [
         "stock",
         "0"
        ],
        [
         "Open",
         "0"
        ],
        [
         "High",
         "0"
        ],
        [
         "Low",
         "0"
        ],
        [
         "Close",
         "0"
        ],
        [
         "Adj Close",
         "0"
        ],
        [
         "Volume",
         "0"
        ],
        [
         "Dividends",
         "0"
        ],
        [
         "Stock Splits",
         "0"
        ],
        [
         "Company",
         "0"
        ]
       ],
       "shape": {
        "columns": 1,
        "rows": 14
       }
      },
      "text/plain": [
       "headline        0\n",
       "url             0\n",
       "publisher       0\n",
       "date            0\n",
       "stock           0\n",
       "Open            0\n",
       "High            0\n",
       "Low             0\n",
       "Close           0\n",
       "Adj Close       0\n",
       "Volume          0\n",
       "Dividends       0\n",
       "Stock Splits    0\n",
       "Company         0\n",
       "dtype: int64"
      ]
     },
     "execution_count": 22,
     "metadata": {},
     "output_type": "execute_result"
    }
   ],
   "source": [
    "merged_df.isnull().sum()"
   ]
  },
  {
   "cell_type": "code",
   "execution_count": 23,
   "metadata": {},
   "outputs": [
    {
     "data": {
      "text/plain": [
       "np.int64(0)"
      ]
     },
     "execution_count": 23,
     "metadata": {},
     "output_type": "execute_result"
    }
   ],
   "source": [
    "merged_df.duplicated().sum()"
   ]
  },
  {
   "cell_type": "code",
   "execution_count": 24,
   "metadata": {},
   "outputs": [
    {
     "data": {
      "application/vnd.microsoft.datawrangler.viewer.v0+json": {
       "columns": [
        {
         "name": "index",
         "rawType": "object",
         "type": "string"
        },
        {
         "name": "Open",
         "rawType": "float64",
         "type": "float"
        },
        {
         "name": "High",
         "rawType": "float64",
         "type": "float"
        },
        {
         "name": "Low",
         "rawType": "float64",
         "type": "float"
        },
        {
         "name": "Close",
         "rawType": "float64",
         "type": "float"
        },
        {
         "name": "Adj Close",
         "rawType": "float64",
         "type": "float"
        },
        {
         "name": "Volume",
         "rawType": "float64",
         "type": "float"
        },
        {
         "name": "Dividends",
         "rawType": "float64",
         "type": "float"
        },
        {
         "name": "Stock Splits",
         "rawType": "float64",
         "type": "float"
        }
       ],
       "ref": "f35d32c9-f279-4e57-9725-f00b8a1f92ec",
       "rows": [
        [
         "count",
         "285028.0",
         "285028.0",
         "285028.0",
         "285028.0",
         "285028.0",
         "285028.0",
         "285028.0",
         "285028.0"
        ],
        [
         "mean",
         "76.11221309119557",
         "77.27787630769424",
         "75.07137693698645",
         "76.21012419114534",
         "74.92538240724963",
         "155129534.86479926",
         "0.0017232685525632569",
         "0.00012643561860589136"
        ],
        [
         "std",
         "62.45252238686438",
         "63.36988278619343",
         "61.634852081326954",
         "62.555049460075125",
         "61.79718621735236",
         "202670187.72655863",
         "0.025836662090891454",
         "0.02399264405363348"
        ],
        [
         "min",
         "0.2872500121593475",
         "0.2907499969005584",
         "0.2787500023841858",
         "0.2845000028610229",
         "0.2609510123729706",
         "158434.0",
         "0.0",
         "0.0"
        ],
        [
         "25%",
         "24.667499542236328",
         "25.059999465942383",
         "24.07999992370605",
         "24.665000915527344",
         "23.30250072479248",
         "32410000.0",
         "0.0",
         "0.0"
        ],
        [
         "50%",
         "61.56666564941406",
         "62.94449996948242",
         "60.61066818237305",
         "61.23249816894531",
         "60.25362014770508",
         "75872000.0",
         "0.0",
         "0.0"
        ],
        [
         "75%",
         "116.47200012207033",
         "117.56999969482422",
         "114.20999908447266",
         "115.79949951171876",
         "115.7040023803711",
         "189620000.0",
         "0.0",
         "0.0"
        ],
        [
         "max",
         "240.9600067138672",
         "241.2100067138672",
         "235.27999877929688",
         "238.6699981689453",
         "238.18055725097656",
         "3692928000.0",
         "0.51",
         "7.0"
        ]
       ],
       "shape": {
        "columns": 8,
        "rows": 8
       }
      },
      "text/html": [
       "<div>\n",
       "<style scoped>\n",
       "    .dataframe tbody tr th:only-of-type {\n",
       "        vertical-align: middle;\n",
       "    }\n",
       "\n",
       "    .dataframe tbody tr th {\n",
       "        vertical-align: top;\n",
       "    }\n",
       "\n",
       "    .dataframe thead th {\n",
       "        text-align: right;\n",
       "    }\n",
       "</style>\n",
       "<table border=\"1\" class=\"dataframe\">\n",
       "  <thead>\n",
       "    <tr style=\"text-align: right;\">\n",
       "      <th></th>\n",
       "      <th>Open</th>\n",
       "      <th>High</th>\n",
       "      <th>Low</th>\n",
       "      <th>Close</th>\n",
       "      <th>Adj Close</th>\n",
       "      <th>Volume</th>\n",
       "      <th>Dividends</th>\n",
       "      <th>Stock Splits</th>\n",
       "    </tr>\n",
       "  </thead>\n",
       "  <tbody>\n",
       "    <tr>\n",
       "      <th>count</th>\n",
       "      <td>285028.000000</td>\n",
       "      <td>285028.000000</td>\n",
       "      <td>285028.000000</td>\n",
       "      <td>285028.000000</td>\n",
       "      <td>285028.000000</td>\n",
       "      <td>2.850280e+05</td>\n",
       "      <td>285028.000000</td>\n",
       "      <td>285028.000000</td>\n",
       "    </tr>\n",
       "    <tr>\n",
       "      <th>mean</th>\n",
       "      <td>76.112213</td>\n",
       "      <td>77.277876</td>\n",
       "      <td>75.071377</td>\n",
       "      <td>76.210124</td>\n",
       "      <td>74.925382</td>\n",
       "      <td>1.551295e+08</td>\n",
       "      <td>0.001723</td>\n",
       "      <td>0.000126</td>\n",
       "    </tr>\n",
       "    <tr>\n",
       "      <th>std</th>\n",
       "      <td>62.452522</td>\n",
       "      <td>63.369883</td>\n",
       "      <td>61.634852</td>\n",
       "      <td>62.555049</td>\n",
       "      <td>61.797186</td>\n",
       "      <td>2.026702e+08</td>\n",
       "      <td>0.025837</td>\n",
       "      <td>0.023993</td>\n",
       "    </tr>\n",
       "    <tr>\n",
       "      <th>min</th>\n",
       "      <td>0.287250</td>\n",
       "      <td>0.290750</td>\n",
       "      <td>0.278750</td>\n",
       "      <td>0.284500</td>\n",
       "      <td>0.260951</td>\n",
       "      <td>1.584340e+05</td>\n",
       "      <td>0.000000</td>\n",
       "      <td>0.000000</td>\n",
       "    </tr>\n",
       "    <tr>\n",
       "      <th>25%</th>\n",
       "      <td>24.667500</td>\n",
       "      <td>25.059999</td>\n",
       "      <td>24.080000</td>\n",
       "      <td>24.665001</td>\n",
       "      <td>23.302501</td>\n",
       "      <td>3.241000e+07</td>\n",
       "      <td>0.000000</td>\n",
       "      <td>0.000000</td>\n",
       "    </tr>\n",
       "    <tr>\n",
       "      <th>50%</th>\n",
       "      <td>61.566666</td>\n",
       "      <td>62.944500</td>\n",
       "      <td>60.610668</td>\n",
       "      <td>61.232498</td>\n",
       "      <td>60.253620</td>\n",
       "      <td>7.587200e+07</td>\n",
       "      <td>0.000000</td>\n",
       "      <td>0.000000</td>\n",
       "    </tr>\n",
       "    <tr>\n",
       "      <th>75%</th>\n",
       "      <td>116.472000</td>\n",
       "      <td>117.570000</td>\n",
       "      <td>114.209999</td>\n",
       "      <td>115.799500</td>\n",
       "      <td>115.704002</td>\n",
       "      <td>1.896200e+08</td>\n",
       "      <td>0.000000</td>\n",
       "      <td>0.000000</td>\n",
       "    </tr>\n",
       "    <tr>\n",
       "      <th>max</th>\n",
       "      <td>240.960007</td>\n",
       "      <td>241.210007</td>\n",
       "      <td>235.279999</td>\n",
       "      <td>238.669998</td>\n",
       "      <td>238.180557</td>\n",
       "      <td>3.692928e+09</td>\n",
       "      <td>0.510000</td>\n",
       "      <td>7.000000</td>\n",
       "    </tr>\n",
       "  </tbody>\n",
       "</table>\n",
       "</div>"
      ],
      "text/plain": [
       "                Open           High            Low          Close  \\\n",
       "count  285028.000000  285028.000000  285028.000000  285028.000000   \n",
       "mean       76.112213      77.277876      75.071377      76.210124   \n",
       "std        62.452522      63.369883      61.634852      62.555049   \n",
       "min         0.287250       0.290750       0.278750       0.284500   \n",
       "25%        24.667500      25.059999      24.080000      24.665001   \n",
       "50%        61.566666      62.944500      60.610668      61.232498   \n",
       "75%       116.472000     117.570000     114.209999     115.799500   \n",
       "max       240.960007     241.210007     235.279999     238.669998   \n",
       "\n",
       "           Adj Close        Volume      Dividends   Stock Splits  \n",
       "count  285028.000000  2.850280e+05  285028.000000  285028.000000  \n",
       "mean       74.925382  1.551295e+08       0.001723       0.000126  \n",
       "std        61.797186  2.026702e+08       0.025837       0.023993  \n",
       "min         0.260951  1.584340e+05       0.000000       0.000000  \n",
       "25%        23.302501  3.241000e+07       0.000000       0.000000  \n",
       "50%        60.253620  7.587200e+07       0.000000       0.000000  \n",
       "75%       115.704002  1.896200e+08       0.000000       0.000000  \n",
       "max       238.180557  3.692928e+09       0.510000       7.000000  "
      ]
     },
     "execution_count": 24,
     "metadata": {},
     "output_type": "execute_result"
    }
   ],
   "source": [
    "merged_df.describe()"
   ]
  },
  {
   "cell_type": "markdown",
   "metadata": {},
   "source": [
    "#### Sentiment Analysis\n",
    "##### Objective\n",
    "1. Sentiment Analysis:\n",
    "   * The function takes a string input (text) and analyzes its sentiment using TextBlob, which provides a simple API for natural language processing tasks.\n",
    "2. Return Sentiment Polarity:\n",
    "   * The function returns the sentiment polarity score of the input text. This score ranges from -1.0 to 1.0:\n",
    "     * Negative Sentiment: Scores close to -1 indicate negative sentiment.\n",
    "     * Neutral Sentiment: Scores around 0 indicate neutral sentiment.\n",
    "     * Positive Sentiment: Scores close to 1 indicate positive sentiment."
   ]
  },
  {
   "cell_type": "code",
   "execution_count": 27,
   "metadata": {},
   "outputs": [],
   "source": [
    "def analyze_sentiment(text):\n",
    "    analysis = TextBlob(text)\n",
    "    return analysis.sentiment.polarity"
   ]
  },
  {
   "cell_type": "code",
   "execution_count": 26,
   "metadata": {},
   "outputs": [],
   "source": [
    "merged_df['sentiment'] = merged_df['headline'].apply(analyze_sentiment)"
   ]
  },
  {
   "cell_type": "code",
   "execution_count": 28,
   "metadata": {},
   "outputs": [],
   "source": [
    "# Save the sentimented dataset to a CSV file\n",
    "merged_df.to_csv('sentimented_df.csv', index=False)"
   ]
  },
  {
   "cell_type": "code",
   "execution_count": 29,
   "metadata": {},
   "outputs": [
    {
     "data": {
      "application/vnd.microsoft.datawrangler.viewer.v0+json": {
       "columns": [
        {
         "name": "index",
         "rawType": "int64",
         "type": "integer"
        },
        {
         "name": "headline",
         "rawType": "object",
         "type": "string"
        },
        {
         "name": "url",
         "rawType": "object",
         "type": "string"
        },
        {
         "name": "publisher",
         "rawType": "object",
         "type": "string"
        },
        {
         "name": "date",
         "rawType": "object",
         "type": "string"
        },
        {
         "name": "stock",
         "rawType": "object",
         "type": "string"
        },
        {
         "name": "Open",
         "rawType": "float64",
         "type": "float"
        },
        {
         "name": "High",
         "rawType": "float64",
         "type": "float"
        },
        {
         "name": "Low",
         "rawType": "float64",
         "type": "float"
        },
        {
         "name": "Close",
         "rawType": "float64",
         "type": "float"
        },
        {
         "name": "Adj Close",
         "rawType": "float64",
         "type": "float"
        },
        {
         "name": "Volume",
         "rawType": "int64",
         "type": "integer"
        },
        {
         "name": "Dividends",
         "rawType": "float64",
         "type": "float"
        },
        {
         "name": "Stock Splits",
         "rawType": "float64",
         "type": "float"
        },
        {
         "name": "Company",
         "rawType": "object",
         "type": "string"
        },
        {
         "name": "sentiment",
         "rawType": "float64",
         "type": "float"
        }
       ],
       "ref": "4b1d1eb5-25cb-468b-aedf-9948cb585c42",
       "rows": [
        [
         "0",
         "Stocks That Hit 52-Week Highs On Friday",
         "https://www.benzinga.com/news/20/06/16190091/stocks-that-hit-52-week-highs-on-friday",
         "Benzinga Insights",
         "2020-06-05",
         "A",
         "80.8375015258789",
         "82.9375",
         "80.80750274658203",
         "82.875",
         "80.8434066772461",
         "137250400",
         "0.0",
         "0.0",
         "Apple",
         "0.0"
        ],
        [
         "1",
         "Stocks That Hit 52-Week Highs On Friday",
         "https://www.benzinga.com/news/20/06/16190091/stocks-that-hit-52-week-highs-on-friday",
         "Benzinga Insights",
         "2020-06-05",
         "A",
         "122.22550201416016",
         "124.43250274658205",
         "121.85649871826172",
         "124.1500015258789",
         "124.1500015258789",
         "66128000",
         "0.0",
         "0.0",
         "Amazon",
         "0.0"
        ],
        [
         "2",
         "Stocks That Hit 52-Week Highs On Friday",
         "https://www.benzinga.com/news/20/06/16190091/stocks-that-hit-52-week-highs-on-friday",
         "Benzinga Insights",
         "2020-06-05",
         "A",
         "70.65850067138672",
         "72.25250244140625",
         "70.30000305175781",
         "71.91950225830078",
         "71.83775329589844",
         "34698000",
         "0.0",
         "0.0",
         "Google",
         "0.0"
        ],
        [
         "3",
         "Stocks That Hit 52-Week Highs On Friday",
         "https://www.benzinga.com/news/20/06/16190091/stocks-that-hit-52-week-highs-on-friday",
         "Benzinga Insights",
         "2020-06-05",
         "A",
         "226.7100067138672",
         "231.3500061035156",
         "225.30999755859372",
         "230.7700042724609",
         "230.2967529296875",
         "16750400",
         "0.0",
         "0.0",
         "Meta",
         "0.0"
        ],
        [
         "4",
         "Stocks That Hit 52-Week Highs On Friday",
         "https://www.benzinga.com/news/20/06/16190091/stocks-that-hit-52-week-highs-on-friday",
         "Benzinga Insights",
         "2020-06-05",
         "A",
         "182.6199951171875",
         "187.72999572753903",
         "182.00999450683597",
         "187.1999969482422",
         "180.403564453125",
         "39893600",
         "0.0",
         "0.0",
         "Microsoft",
         "0.0"
        ]
       ],
       "shape": {
        "columns": 15,
        "rows": 5
       }
      },
      "text/html": [
       "<div>\n",
       "<style scoped>\n",
       "    .dataframe tbody tr th:only-of-type {\n",
       "        vertical-align: middle;\n",
       "    }\n",
       "\n",
       "    .dataframe tbody tr th {\n",
       "        vertical-align: top;\n",
       "    }\n",
       "\n",
       "    .dataframe thead th {\n",
       "        text-align: right;\n",
       "    }\n",
       "</style>\n",
       "<table border=\"1\" class=\"dataframe\">\n",
       "  <thead>\n",
       "    <tr style=\"text-align: right;\">\n",
       "      <th></th>\n",
       "      <th>headline</th>\n",
       "      <th>url</th>\n",
       "      <th>publisher</th>\n",
       "      <th>date</th>\n",
       "      <th>stock</th>\n",
       "      <th>Open</th>\n",
       "      <th>High</th>\n",
       "      <th>Low</th>\n",
       "      <th>Close</th>\n",
       "      <th>Adj Close</th>\n",
       "      <th>Volume</th>\n",
       "      <th>Dividends</th>\n",
       "      <th>Stock Splits</th>\n",
       "      <th>Company</th>\n",
       "      <th>sentiment</th>\n",
       "    </tr>\n",
       "  </thead>\n",
       "  <tbody>\n",
       "    <tr>\n",
       "      <th>0</th>\n",
       "      <td>Stocks That Hit 52-Week Highs On Friday</td>\n",
       "      <td>https://www.benzinga.com/news/20/06/16190091/s...</td>\n",
       "      <td>Benzinga Insights</td>\n",
       "      <td>2020-06-05</td>\n",
       "      <td>A</td>\n",
       "      <td>80.837502</td>\n",
       "      <td>82.937500</td>\n",
       "      <td>80.807503</td>\n",
       "      <td>82.875000</td>\n",
       "      <td>80.843407</td>\n",
       "      <td>137250400</td>\n",
       "      <td>0.0</td>\n",
       "      <td>0.0</td>\n",
       "      <td>Apple</td>\n",
       "      <td>0.0</td>\n",
       "    </tr>\n",
       "    <tr>\n",
       "      <th>1</th>\n",
       "      <td>Stocks That Hit 52-Week Highs On Friday</td>\n",
       "      <td>https://www.benzinga.com/news/20/06/16190091/s...</td>\n",
       "      <td>Benzinga Insights</td>\n",
       "      <td>2020-06-05</td>\n",
       "      <td>A</td>\n",
       "      <td>122.225502</td>\n",
       "      <td>124.432503</td>\n",
       "      <td>121.856499</td>\n",
       "      <td>124.150002</td>\n",
       "      <td>124.150002</td>\n",
       "      <td>66128000</td>\n",
       "      <td>0.0</td>\n",
       "      <td>0.0</td>\n",
       "      <td>Amazon</td>\n",
       "      <td>0.0</td>\n",
       "    </tr>\n",
       "    <tr>\n",
       "      <th>2</th>\n",
       "      <td>Stocks That Hit 52-Week Highs On Friday</td>\n",
       "      <td>https://www.benzinga.com/news/20/06/16190091/s...</td>\n",
       "      <td>Benzinga Insights</td>\n",
       "      <td>2020-06-05</td>\n",
       "      <td>A</td>\n",
       "      <td>70.658501</td>\n",
       "      <td>72.252502</td>\n",
       "      <td>70.300003</td>\n",
       "      <td>71.919502</td>\n",
       "      <td>71.837753</td>\n",
       "      <td>34698000</td>\n",
       "      <td>0.0</td>\n",
       "      <td>0.0</td>\n",
       "      <td>Google</td>\n",
       "      <td>0.0</td>\n",
       "    </tr>\n",
       "    <tr>\n",
       "      <th>3</th>\n",
       "      <td>Stocks That Hit 52-Week Highs On Friday</td>\n",
       "      <td>https://www.benzinga.com/news/20/06/16190091/s...</td>\n",
       "      <td>Benzinga Insights</td>\n",
       "      <td>2020-06-05</td>\n",
       "      <td>A</td>\n",
       "      <td>226.710007</td>\n",
       "      <td>231.350006</td>\n",
       "      <td>225.309998</td>\n",
       "      <td>230.770004</td>\n",
       "      <td>230.296753</td>\n",
       "      <td>16750400</td>\n",
       "      <td>0.0</td>\n",
       "      <td>0.0</td>\n",
       "      <td>Meta</td>\n",
       "      <td>0.0</td>\n",
       "    </tr>\n",
       "    <tr>\n",
       "      <th>4</th>\n",
       "      <td>Stocks That Hit 52-Week Highs On Friday</td>\n",
       "      <td>https://www.benzinga.com/news/20/06/16190091/s...</td>\n",
       "      <td>Benzinga Insights</td>\n",
       "      <td>2020-06-05</td>\n",
       "      <td>A</td>\n",
       "      <td>182.619995</td>\n",
       "      <td>187.729996</td>\n",
       "      <td>182.009995</td>\n",
       "      <td>187.199997</td>\n",
       "      <td>180.403564</td>\n",
       "      <td>39893600</td>\n",
       "      <td>0.0</td>\n",
       "      <td>0.0</td>\n",
       "      <td>Microsoft</td>\n",
       "      <td>0.0</td>\n",
       "    </tr>\n",
       "  </tbody>\n",
       "</table>\n",
       "</div>"
      ],
      "text/plain": [
       "                                  headline  \\\n",
       "0  Stocks That Hit 52-Week Highs On Friday   \n",
       "1  Stocks That Hit 52-Week Highs On Friday   \n",
       "2  Stocks That Hit 52-Week Highs On Friday   \n",
       "3  Stocks That Hit 52-Week Highs On Friday   \n",
       "4  Stocks That Hit 52-Week Highs On Friday   \n",
       "\n",
       "                                                 url          publisher  \\\n",
       "0  https://www.benzinga.com/news/20/06/16190091/s...  Benzinga Insights   \n",
       "1  https://www.benzinga.com/news/20/06/16190091/s...  Benzinga Insights   \n",
       "2  https://www.benzinga.com/news/20/06/16190091/s...  Benzinga Insights   \n",
       "3  https://www.benzinga.com/news/20/06/16190091/s...  Benzinga Insights   \n",
       "4  https://www.benzinga.com/news/20/06/16190091/s...  Benzinga Insights   \n",
       "\n",
       "         date stock        Open        High         Low       Close  \\\n",
       "0  2020-06-05     A   80.837502   82.937500   80.807503   82.875000   \n",
       "1  2020-06-05     A  122.225502  124.432503  121.856499  124.150002   \n",
       "2  2020-06-05     A   70.658501   72.252502   70.300003   71.919502   \n",
       "3  2020-06-05     A  226.710007  231.350006  225.309998  230.770004   \n",
       "4  2020-06-05     A  182.619995  187.729996  182.009995  187.199997   \n",
       "\n",
       "    Adj Close     Volume  Dividends  Stock Splits    Company  sentiment  \n",
       "0   80.843407  137250400        0.0           0.0      Apple        0.0  \n",
       "1  124.150002   66128000        0.0           0.0     Amazon        0.0  \n",
       "2   71.837753   34698000        0.0           0.0     Google        0.0  \n",
       "3  230.296753   16750400        0.0           0.0       Meta        0.0  \n",
       "4  180.403564   39893600        0.0           0.0  Microsoft        0.0  "
      ]
     },
     "execution_count": 29,
     "metadata": {},
     "output_type": "execute_result"
    }
   ],
   "source": [
    "merged_df.head()"
   ]
  },
  {
   "cell_type": "code",
   "execution_count": 30,
   "metadata": {},
   "outputs": [],
   "source": [
    "# Calculate daily stock returns\n",
    "merged_df['Daily Return'] = merged_df['Close'].pct_change() * 100"
   ]
  },
  {
   "cell_type": "code",
   "execution_count": 32,
   "metadata": {},
   "outputs": [
    {
     "data": {
      "application/vnd.microsoft.datawrangler.viewer.v0+json": {
       "columns": [
        {
         "name": "index",
         "rawType": "int64",
         "type": "integer"
        },
        {
         "name": "headline",
         "rawType": "object",
         "type": "string"
        },
        {
         "name": "url",
         "rawType": "object",
         "type": "string"
        },
        {
         "name": "publisher",
         "rawType": "object",
         "type": "string"
        },
        {
         "name": "date",
         "rawType": "object",
         "type": "string"
        },
        {
         "name": "stock",
         "rawType": "object",
         "type": "string"
        },
        {
         "name": "Open",
         "rawType": "float64",
         "type": "float"
        },
        {
         "name": "High",
         "rawType": "float64",
         "type": "float"
        },
        {
         "name": "Low",
         "rawType": "float64",
         "type": "float"
        },
        {
         "name": "Close",
         "rawType": "float64",
         "type": "float"
        },
        {
         "name": "Adj Close",
         "rawType": "float64",
         "type": "float"
        },
        {
         "name": "Volume",
         "rawType": "int64",
         "type": "integer"
        },
        {
         "name": "Dividends",
         "rawType": "float64",
         "type": "float"
        },
        {
         "name": "Stock Splits",
         "rawType": "float64",
         "type": "float"
        },
        {
         "name": "Company",
         "rawType": "object",
         "type": "string"
        },
        {
         "name": "sentiment",
         "rawType": "float64",
         "type": "float"
        },
        {
         "name": "Daily Return",
         "rawType": "float64",
         "type": "float"
        }
       ],
       "ref": "ce98ca76-39cc-4592-bf3e-d6697ea70343",
       "rows": [
        [
         "0",
         "Stocks That Hit 52-Week Highs On Friday",
         "https://www.benzinga.com/news/20/06/16190091/stocks-that-hit-52-week-highs-on-friday",
         "Benzinga Insights",
         "2020-06-05",
         "A",
         "80.8375015258789",
         "82.9375",
         "80.80750274658203",
         "82.875",
         "80.8434066772461",
         "137250400",
         "0.0",
         "0.0",
         "Apple",
         "0.0",
         null
        ],
        [
         "1",
         "Stocks That Hit 52-Week Highs On Friday",
         "https://www.benzinga.com/news/20/06/16190091/stocks-that-hit-52-week-highs-on-friday",
         "Benzinga Insights",
         "2020-06-05",
         "A",
         "122.22550201416016",
         "124.43250274658205",
         "121.85649871826172",
         "124.1500015258789",
         "124.1500015258789",
         "66128000",
         "0.0",
         "0.0",
         "Amazon",
         "0.0",
         "49.80392340980864"
        ],
        [
         "2",
         "Stocks That Hit 52-Week Highs On Friday",
         "https://www.benzinga.com/news/20/06/16190091/stocks-that-hit-52-week-highs-on-friday",
         "Benzinga Insights",
         "2020-06-05",
         "A",
         "70.65850067138672",
         "72.25250244140625",
         "70.30000305175781",
         "71.91950225830078",
         "71.83775329589844",
         "34698000",
         "0.0",
         "0.0",
         "Google",
         "0.0",
         "-42.07047815194005"
        ],
        [
         "3",
         "Stocks That Hit 52-Week Highs On Friday",
         "https://www.benzinga.com/news/20/06/16190091/stocks-that-hit-52-week-highs-on-friday",
         "Benzinga Insights",
         "2020-06-05",
         "A",
         "226.7100067138672",
         "231.3500061035156",
         "225.30999755859372",
         "230.7700042724609",
         "230.2967529296875",
         "16750400",
         "0.0",
         "0.0",
         "Meta",
         "0.0",
         "220.87263819435842"
        ],
        [
         "4",
         "Stocks That Hit 52-Week Highs On Friday",
         "https://www.benzinga.com/news/20/06/16190091/stocks-that-hit-52-week-highs-on-friday",
         "Benzinga Insights",
         "2020-06-05",
         "A",
         "182.6199951171875",
         "187.72999572753903",
         "182.00999450683597",
         "187.1999969482422",
         "180.403564453125",
         "39893600",
         "0.0",
         "0.0",
         "Microsoft",
         "0.0",
         "-18.88027322336804"
        ]
       ],
       "shape": {
        "columns": 16,
        "rows": 5
       }
      },
      "text/html": [
       "<div>\n",
       "<style scoped>\n",
       "    .dataframe tbody tr th:only-of-type {\n",
       "        vertical-align: middle;\n",
       "    }\n",
       "\n",
       "    .dataframe tbody tr th {\n",
       "        vertical-align: top;\n",
       "    }\n",
       "\n",
       "    .dataframe thead th {\n",
       "        text-align: right;\n",
       "    }\n",
       "</style>\n",
       "<table border=\"1\" class=\"dataframe\">\n",
       "  <thead>\n",
       "    <tr style=\"text-align: right;\">\n",
       "      <th></th>\n",
       "      <th>headline</th>\n",
       "      <th>url</th>\n",
       "      <th>publisher</th>\n",
       "      <th>date</th>\n",
       "      <th>stock</th>\n",
       "      <th>Open</th>\n",
       "      <th>High</th>\n",
       "      <th>Low</th>\n",
       "      <th>Close</th>\n",
       "      <th>Adj Close</th>\n",
       "      <th>Volume</th>\n",
       "      <th>Dividends</th>\n",
       "      <th>Stock Splits</th>\n",
       "      <th>Company</th>\n",
       "      <th>sentiment</th>\n",
       "      <th>Daily Return</th>\n",
       "    </tr>\n",
       "  </thead>\n",
       "  <tbody>\n",
       "    <tr>\n",
       "      <th>0</th>\n",
       "      <td>Stocks That Hit 52-Week Highs On Friday</td>\n",
       "      <td>https://www.benzinga.com/news/20/06/16190091/s...</td>\n",
       "      <td>Benzinga Insights</td>\n",
       "      <td>2020-06-05</td>\n",
       "      <td>A</td>\n",
       "      <td>80.837502</td>\n",
       "      <td>82.937500</td>\n",
       "      <td>80.807503</td>\n",
       "      <td>82.875000</td>\n",
       "      <td>80.843407</td>\n",
       "      <td>137250400</td>\n",
       "      <td>0.0</td>\n",
       "      <td>0.0</td>\n",
       "      <td>Apple</td>\n",
       "      <td>0.0</td>\n",
       "      <td>NaN</td>\n",
       "    </tr>\n",
       "    <tr>\n",
       "      <th>1</th>\n",
       "      <td>Stocks That Hit 52-Week Highs On Friday</td>\n",
       "      <td>https://www.benzinga.com/news/20/06/16190091/s...</td>\n",
       "      <td>Benzinga Insights</td>\n",
       "      <td>2020-06-05</td>\n",
       "      <td>A</td>\n",
       "      <td>122.225502</td>\n",
       "      <td>124.432503</td>\n",
       "      <td>121.856499</td>\n",
       "      <td>124.150002</td>\n",
       "      <td>124.150002</td>\n",
       "      <td>66128000</td>\n",
       "      <td>0.0</td>\n",
       "      <td>0.0</td>\n",
       "      <td>Amazon</td>\n",
       "      <td>0.0</td>\n",
       "      <td>49.803923</td>\n",
       "    </tr>\n",
       "    <tr>\n",
       "      <th>2</th>\n",
       "      <td>Stocks That Hit 52-Week Highs On Friday</td>\n",
       "      <td>https://www.benzinga.com/news/20/06/16190091/s...</td>\n",
       "      <td>Benzinga Insights</td>\n",
       "      <td>2020-06-05</td>\n",
       "      <td>A</td>\n",
       "      <td>70.658501</td>\n",
       "      <td>72.252502</td>\n",
       "      <td>70.300003</td>\n",
       "      <td>71.919502</td>\n",
       "      <td>71.837753</td>\n",
       "      <td>34698000</td>\n",
       "      <td>0.0</td>\n",
       "      <td>0.0</td>\n",
       "      <td>Google</td>\n",
       "      <td>0.0</td>\n",
       "      <td>-42.070478</td>\n",
       "    </tr>\n",
       "    <tr>\n",
       "      <th>3</th>\n",
       "      <td>Stocks That Hit 52-Week Highs On Friday</td>\n",
       "      <td>https://www.benzinga.com/news/20/06/16190091/s...</td>\n",
       "      <td>Benzinga Insights</td>\n",
       "      <td>2020-06-05</td>\n",
       "      <td>A</td>\n",
       "      <td>226.710007</td>\n",
       "      <td>231.350006</td>\n",
       "      <td>225.309998</td>\n",
       "      <td>230.770004</td>\n",
       "      <td>230.296753</td>\n",
       "      <td>16750400</td>\n",
       "      <td>0.0</td>\n",
       "      <td>0.0</td>\n",
       "      <td>Meta</td>\n",
       "      <td>0.0</td>\n",
       "      <td>220.872638</td>\n",
       "    </tr>\n",
       "    <tr>\n",
       "      <th>4</th>\n",
       "      <td>Stocks That Hit 52-Week Highs On Friday</td>\n",
       "      <td>https://www.benzinga.com/news/20/06/16190091/s...</td>\n",
       "      <td>Benzinga Insights</td>\n",
       "      <td>2020-06-05</td>\n",
       "      <td>A</td>\n",
       "      <td>182.619995</td>\n",
       "      <td>187.729996</td>\n",
       "      <td>182.009995</td>\n",
       "      <td>187.199997</td>\n",
       "      <td>180.403564</td>\n",
       "      <td>39893600</td>\n",
       "      <td>0.0</td>\n",
       "      <td>0.0</td>\n",
       "      <td>Microsoft</td>\n",
       "      <td>0.0</td>\n",
       "      <td>-18.880273</td>\n",
       "    </tr>\n",
       "  </tbody>\n",
       "</table>\n",
       "</div>"
      ],
      "text/plain": [
       "                                  headline  \\\n",
       "0  Stocks That Hit 52-Week Highs On Friday   \n",
       "1  Stocks That Hit 52-Week Highs On Friday   \n",
       "2  Stocks That Hit 52-Week Highs On Friday   \n",
       "3  Stocks That Hit 52-Week Highs On Friday   \n",
       "4  Stocks That Hit 52-Week Highs On Friday   \n",
       "\n",
       "                                                 url          publisher  \\\n",
       "0  https://www.benzinga.com/news/20/06/16190091/s...  Benzinga Insights   \n",
       "1  https://www.benzinga.com/news/20/06/16190091/s...  Benzinga Insights   \n",
       "2  https://www.benzinga.com/news/20/06/16190091/s...  Benzinga Insights   \n",
       "3  https://www.benzinga.com/news/20/06/16190091/s...  Benzinga Insights   \n",
       "4  https://www.benzinga.com/news/20/06/16190091/s...  Benzinga Insights   \n",
       "\n",
       "         date stock        Open        High         Low       Close  \\\n",
       "0  2020-06-05     A   80.837502   82.937500   80.807503   82.875000   \n",
       "1  2020-06-05     A  122.225502  124.432503  121.856499  124.150002   \n",
       "2  2020-06-05     A   70.658501   72.252502   70.300003   71.919502   \n",
       "3  2020-06-05     A  226.710007  231.350006  225.309998  230.770004   \n",
       "4  2020-06-05     A  182.619995  187.729996  182.009995  187.199997   \n",
       "\n",
       "    Adj Close     Volume  Dividends  Stock Splits    Company  sentiment  \\\n",
       "0   80.843407  137250400        0.0           0.0      Apple        0.0   \n",
       "1  124.150002   66128000        0.0           0.0     Amazon        0.0   \n",
       "2   71.837753   34698000        0.0           0.0     Google        0.0   \n",
       "3  230.296753   16750400        0.0           0.0       Meta        0.0   \n",
       "4  180.403564   39893600        0.0           0.0  Microsoft        0.0   \n",
       "\n",
       "   Daily Return  \n",
       "0           NaN  \n",
       "1     49.803923  \n",
       "2    -42.070478  \n",
       "3    220.872638  \n",
       "4    -18.880273  "
      ]
     },
     "execution_count": 32,
     "metadata": {},
     "output_type": "execute_result"
    }
   ],
   "source": [
    "merged_df.head()"
   ]
  },
  {
   "cell_type": "markdown",
   "metadata": {},
   "source": [
    "#### Agrigate Sentiments by date\n",
    "##### Objective\n",
    "  * Group By Date: groups the merged_df DataFrame by the 'date' column, which allows for aggregation of sentiment scores for each unique date\n",
    "  * Calculate Average Sentiment:it calculates the mean of the 'sentiment' scores for each date, providing a summary measure of sentiment for that day.\n",
    "  * Create a New DataFrame: the results are reset into a new DataFrame called daily_sentiment, which contains two columns: the date and the corresponding average sentiment score.\n",
    "  * Rename Columns: the columns of the new DataFrame are renamed to 'date' and 'Average Sentiment' for clarity and better understanding."
   ]
  },
  {
   "cell_type": "code",
   "execution_count": 33,
   "metadata": {},
   "outputs": [],
   "source": [
    "# Aggregate sentiments by date\n",
    "daily_sentiment = merged_df.groupby('date')['sentiment'].mean().reset_index()\n",
    "daily_sentiment.columns = ['date', 'Average Sentiment']"
   ]
  },
  {
   "cell_type": "code",
   "execution_count": 34,
   "metadata": {},
   "outputs": [
    {
     "data": {
      "application/vnd.microsoft.datawrangler.viewer.v0+json": {
       "columns": [
        {
         "name": "index",
         "rawType": "int64",
         "type": "integer"
        },
        {
         "name": "date",
         "rawType": "object",
         "type": "string"
        },
        {
         "name": "Average Sentiment",
         "rawType": "float64",
         "type": "float"
        }
       ],
       "ref": "48b1c965-f8dc-4f41-b1cf-7c572ebcfa1b",
       "rows": [
        [
         "0",
         "2011-04-27",
         "0.0"
        ],
        [
         "1",
         "2011-04-28",
         "0.06818181818181818"
        ],
        [
         "2",
         "2011-04-29",
         "0.16666666666666666"
        ],
        [
         "3",
         "2011-05-02",
         "0.0"
        ],
        [
         "4",
         "2011-05-03",
         "0.0"
        ]
       ],
       "shape": {
        "columns": 2,
        "rows": 5
       }
      },
      "text/html": [
       "<div>\n",
       "<style scoped>\n",
       "    .dataframe tbody tr th:only-of-type {\n",
       "        vertical-align: middle;\n",
       "    }\n",
       "\n",
       "    .dataframe tbody tr th {\n",
       "        vertical-align: top;\n",
       "    }\n",
       "\n",
       "    .dataframe thead th {\n",
       "        text-align: right;\n",
       "    }\n",
       "</style>\n",
       "<table border=\"1\" class=\"dataframe\">\n",
       "  <thead>\n",
       "    <tr style=\"text-align: right;\">\n",
       "      <th></th>\n",
       "      <th>date</th>\n",
       "      <th>Average Sentiment</th>\n",
       "    </tr>\n",
       "  </thead>\n",
       "  <tbody>\n",
       "    <tr>\n",
       "      <th>0</th>\n",
       "      <td>2011-04-27</td>\n",
       "      <td>0.000000</td>\n",
       "    </tr>\n",
       "    <tr>\n",
       "      <th>1</th>\n",
       "      <td>2011-04-28</td>\n",
       "      <td>0.068182</td>\n",
       "    </tr>\n",
       "    <tr>\n",
       "      <th>2</th>\n",
       "      <td>2011-04-29</td>\n",
       "      <td>0.166667</td>\n",
       "    </tr>\n",
       "    <tr>\n",
       "      <th>3</th>\n",
       "      <td>2011-05-02</td>\n",
       "      <td>0.000000</td>\n",
       "    </tr>\n",
       "    <tr>\n",
       "      <th>4</th>\n",
       "      <td>2011-05-03</td>\n",
       "      <td>0.000000</td>\n",
       "    </tr>\n",
       "  </tbody>\n",
       "</table>\n",
       "</div>"
      ],
      "text/plain": [
       "         date  Average Sentiment\n",
       "0  2011-04-27           0.000000\n",
       "1  2011-04-28           0.068182\n",
       "2  2011-04-29           0.166667\n",
       "3  2011-05-02           0.000000\n",
       "4  2011-05-03           0.000000"
      ]
     },
     "execution_count": 34,
     "metadata": {},
     "output_type": "execute_result"
    }
   ],
   "source": [
    "daily_sentiment.head()"
   ]
  },
  {
   "cell_type": "markdown",
   "metadata": {},
   "source": [
    "#### Output Analysis\n",
    "  * Structure of daily_sentiment:\n",
    "     * The resulting DataFrame daily_sentiment have two columns:\n",
    "        * date: Contains unique dates from the merged_df.\n",
    "        * Average Sentiment: Contains the mean sentiment score for each date, reflecting the overall sentiment of news headlines for that day.\n",
    "  * Data Interpretation:\n",
    "     * The average sentiment scores can be interpreted to understand daily trends:\n",
    "        * Positive values indicate that, on average, the sentiment of news headlines was positive.\n",
    "        * Negative values suggest a generally negative sentiment.\n",
    "        * Values close to zero indicate neutrality."
   ]
  },
  {
   "cell_type": "markdown",
   "metadata": {},
   "source": [
    "#### Merge sentiment data with stock data\n",
    "##### Merging DataFrames:\n",
    "   * Merges two DataFrames: a subset of merged_df containing only the date and Daily Return columns, and the daily_sentiment DataFrame.\n",
    "      * This operation combines data on a common date basis, allowing for a more comprehensive analysis.\n",
    "   * Focus on Relevant Columns:\n",
    "      * the date and Daily Return columns from merged_df, the code ensures that daily_df contains only the necessary information for analysis, which helps reduce complexity.\n",
    "\n"
   ]
  },
  {
   "cell_type": "code",
   "execution_count": 35,
   "metadata": {},
   "outputs": [],
   "source": [
    "# Merge sentiment data with stock data\n",
    "daily_df = pd.merge(merged_df[['date', 'Daily Return']], daily_sentiment, on='date', how='inner')"
   ]
  },
  {
   "cell_type": "code",
   "execution_count": 36,
   "metadata": {},
   "outputs": [
    {
     "data": {
      "application/vnd.microsoft.datawrangler.viewer.v0+json": {
       "columns": [
        {
         "name": "index",
         "rawType": "int64",
         "type": "integer"
        },
        {
         "name": "date",
         "rawType": "object",
         "type": "string"
        },
        {
         "name": "Daily Return",
         "rawType": "float64",
         "type": "float"
        },
        {
         "name": "Average Sentiment",
         "rawType": "float64",
         "type": "float"
        }
       ],
       "ref": "37eb8226-aea2-4925-9899-bba87f2246c6",
       "rows": [
        [
         "0",
         "2020-06-05",
         null,
         "0.10836031724590417"
        ],
        [
         "1",
         "2020-06-05",
         "49.80392340980864",
         "0.10836031724590417"
        ],
        [
         "2",
         "2020-06-05",
         "-42.07047815194005",
         "0.10836031724590417"
        ],
        [
         "3",
         "2020-06-05",
         "220.87263819435842",
         "0.10836031724590417"
        ],
        [
         "4",
         "2020-06-05",
         "-18.88027322336804",
         "0.10836031724590417"
        ]
       ],
       "shape": {
        "columns": 3,
        "rows": 5
       }
      },
      "text/html": [
       "<div>\n",
       "<style scoped>\n",
       "    .dataframe tbody tr th:only-of-type {\n",
       "        vertical-align: middle;\n",
       "    }\n",
       "\n",
       "    .dataframe tbody tr th {\n",
       "        vertical-align: top;\n",
       "    }\n",
       "\n",
       "    .dataframe thead th {\n",
       "        text-align: right;\n",
       "    }\n",
       "</style>\n",
       "<table border=\"1\" class=\"dataframe\">\n",
       "  <thead>\n",
       "    <tr style=\"text-align: right;\">\n",
       "      <th></th>\n",
       "      <th>date</th>\n",
       "      <th>Daily Return</th>\n",
       "      <th>Average Sentiment</th>\n",
       "    </tr>\n",
       "  </thead>\n",
       "  <tbody>\n",
       "    <tr>\n",
       "      <th>0</th>\n",
       "      <td>2020-06-05</td>\n",
       "      <td>NaN</td>\n",
       "      <td>0.10836</td>\n",
       "    </tr>\n",
       "    <tr>\n",
       "      <th>1</th>\n",
       "      <td>2020-06-05</td>\n",
       "      <td>49.803923</td>\n",
       "      <td>0.10836</td>\n",
       "    </tr>\n",
       "    <tr>\n",
       "      <th>2</th>\n",
       "      <td>2020-06-05</td>\n",
       "      <td>-42.070478</td>\n",
       "      <td>0.10836</td>\n",
       "    </tr>\n",
       "    <tr>\n",
       "      <th>3</th>\n",
       "      <td>2020-06-05</td>\n",
       "      <td>220.872638</td>\n",
       "      <td>0.10836</td>\n",
       "    </tr>\n",
       "    <tr>\n",
       "      <th>4</th>\n",
       "      <td>2020-06-05</td>\n",
       "      <td>-18.880273</td>\n",
       "      <td>0.10836</td>\n",
       "    </tr>\n",
       "  </tbody>\n",
       "</table>\n",
       "</div>"
      ],
      "text/plain": [
       "         date  Daily Return  Average Sentiment\n",
       "0  2020-06-05           NaN            0.10836\n",
       "1  2020-06-05     49.803923            0.10836\n",
       "2  2020-06-05    -42.070478            0.10836\n",
       "3  2020-06-05    220.872638            0.10836\n",
       "4  2020-06-05    -18.880273            0.10836"
      ]
     },
     "execution_count": 36,
     "metadata": {},
     "output_type": "execute_result"
    }
   ],
   "source": [
    "daily_df.head()"
   ]
  },
  {
   "cell_type": "markdown",
   "metadata": {},
   "source": [
    "#### Output Analysis\n",
    "  * Structure of daily_df:\n",
    "     * The resulting DataFrame daily_df have three columns:\n",
    "        * date: The common date for which both daily returns and average sentiment are available.\n",
    "        * Daily Return: The daily return value from the stock data.\n",
    "        * Average Sentiment: The average sentiment score corresponding to that date.\n",
    "  * Data Interpretation:\n",
    "       * This DataFrame enables a side-by-side comparison of daily stock returns and average sentiment scores.\n",
    "       * Analysts can investigate correlations between sentiment and stock performance, helping to identify patterns or trends."
   ]
  },
  {
   "cell_type": "markdown",
   "metadata": {},
   "source": [
    "#### Calculate correlation\n",
    "##### Objective\n",
    "   * Calculate the Pearson correlation coefficient between two variables: Average Sentiment and Daily Return from the daily_df DataFrame.\n"
   ]
  },
  {
   "cell_type": "code",
   "execution_count": 37,
   "metadata": {},
   "outputs": [
    {
     "name": "stdout",
     "output_type": "stream",
     "text": [
      "Pearson correlation coefficient: 0.000577290186737864\n"
     ]
    }
   ],
   "source": [
    "# Calculate correlation\n",
    "correlation = daily_df[['Average Sentiment', 'Daily Return']].corr().iloc[0, 1]\n",
    "print(f'Pearson correlation coefficient: {correlation}')"
   ]
  },
  {
   "cell_type": "markdown",
   "metadata": {},
   "source": [
    "#### Analysis of the Output\n",
    "1. Value Interpretation:\n",
    "    * The correlation coefficient is approximately 0.00058, which is very close to 0. This suggests that there is almost no linear relationship between the average sentiment of news headlines and the daily stock returns.\n",
    "2. Implications:\n",
    "    * A correlation coefficient near 0 implies that changes in average sentiment do not systematically correlate with changes in daily returns. In practical terms, this means that fluctuations in sentiment do not appear to have a significant impact on stock price movements for the dataset analyzed.\n",
    "3. Contextual Considerations:\n",
    "   * While the sentiment might not have a direct linear relationship with daily returns, other factors could still influence stock performance. These might include market conditions, economic indicators, or company-specific news that are not captured solely by sentiment analysis.\n"
   ]
  },
  {
   "cell_type": "code",
   "execution_count": 40,
   "metadata": {},
   "outputs": [
    {
     "name": "stdout",
     "output_type": "stream",
     "text": [
      "         Date      Open      High       Low     Close  Adj Close     Volume  \\\n",
      "0  1980-12-12  0.128348  0.128906  0.128348  0.128348   0.098943  469033600   \n",
      "1  1980-12-15  0.122210  0.122210  0.121652  0.121652   0.093781  175884800   \n",
      "2  1980-12-16  0.113281  0.113281  0.112723  0.112723   0.086898  105728000   \n",
      "3  1980-12-17  0.115513  0.116071  0.115513  0.115513   0.089049   86441600   \n",
      "4  1980-12-18  0.118862  0.119420  0.118862  0.118862   0.091630   73449600   \n",
      "\n",
      "   Dividends  Stock Splits        date  \n",
      "0        0.0           0.0  1980-12-12  \n",
      "1        0.0           0.0  1980-12-15  \n",
      "2        0.0           0.0  1980-12-16  \n",
      "3        0.0           0.0  1980-12-17  \n",
      "4        0.0           0.0  1980-12-18  \n"
     ]
    }
   ],
   "source": [
    "import pandas as pd\n",
    "from datetime import datetime\n",
    "\n",
    "# Define the file paths and corresponding company names or tickers\n",
    "file_paths = {\n",
    "    'Apple': r'D:/10Acadamy/week1_challenge/data/AAPL_historical_data.csv',\n",
    "    'Amazon': r'D:/10Acadamy/week1_challenge/data/AMZN_historical_data.csv',\n",
    "    'Google': r'D:/10Acadamy/week1_challenge/data/GOOG_historical_data.csv',\n",
    "    'Meta': r'D:/10Acadamy/week1_challenge/data/META_historical_data.csv',\n",
    "    'Microsoft': r'D:/10Acadamy/week1_challenge/data/MSFT_historical_data.csv',\n",
    "    'Nvidia': r'D:/10Acadamy/week1_challenge/data/NVDA_historical_data.csv',\n",
    "    'Tesla': r'D:/10Acadamy/week1_challenge/data/TSLA_historical_data.csv',\n",
    "    'News': r'D:/10Acadamy/week1_challenge/data/raw_analyst_ratings.csv'\n",
    "}\n",
    "\n",
    "# Load news dataset\n",
    "news_df = pd.read_csv(file_paths['News'])\n",
    "\n",
    "# Create an empty dictionary to hold the DataFrames for each company\n",
    "stock_data = {}\n",
    "\n",
    "# Loop through the file paths and read each CSV file into a DataFrame\n",
    "for company, file_path in file_paths.items():\n",
    "    if company != 'News':  # Skip the news file path\n",
    "        stock_data[company] = pd.read_csv(file_path)\n",
    "\n",
    "# 1.1 Convert Date Columns to Same Format for News and Stock Data\n",
    "news_df['date'] = pd.to_datetime(news_df['date'], errors='coerce').dt.strftime('%Y-%m-%d')\n",
    "\n",
    "# Convert stock data dates to the same format\n",
    "for company, df in stock_data.items():\n",
    "    df['date'] = pd.to_datetime(df['Date'], errors='coerce').dt.strftime('%Y-%m-%d')  # Assuming the column name is 'Date'\n",
    "\n",
    "# 1.2 Filter out non-trading days from the news data by aligning dates\n",
    "for company, df in stock_data.items():\n",
    "    news_df = news_df[news_df['date'].isin(df['date'])]\n",
    "\n",
    "# Check for missing or inconsistent dates\n",
    "for company, df in stock_data.items():\n",
    "    missing_dates = set(news_df['date']) - set(df['date'])\n",
    "    if missing_dates:\n",
    "        print(f\"Missing Dates in {company}: \", missing_dates)\n",
    "\n",
    "# Example to show the first few rows of the DataFrame for 'Apple'\n",
    "print(stock_data['Apple'].head())\n"
   ]
  },
  {
   "cell_type": "markdown",
   "metadata": {},
   "source": [
    "#### Stock Movement\n",
    "##### Objective \n",
    "   * Computes the daily stock returns for each company in the stock_data dictionary. Daily returns are calculated using the percentage change of the closing prices from one day to the next.\n",
    "   * Add Daily Returns to DataFrame:\n",
    "   * It creates a new column called daily_return in each company's DataFrame, storing the computed return values.\n",
    "   * Prints the first 10 rows of the DataFrame for each company, specifically displaying the date, closing price, and the newly calculated daily return. This verification step helps ensure that the calculations were performed correctly."
   ]
  },
  {
   "cell_type": "code",
   "execution_count": 41,
   "metadata": {},
   "outputs": [
    {
     "name": "stdout",
     "output_type": "stream",
     "text": [
      "Daily Returns for Apple:\n",
      "         Date     Close  daily_return\n",
      "0  1980-12-12  0.128348           NaN\n",
      "1  1980-12-15  0.121652     -0.052171\n",
      "2  1980-12-16  0.112723     -0.073398\n",
      "3  1980-12-17  0.115513      0.024751\n",
      "4  1980-12-18  0.118862      0.028992\n",
      "5  1980-12-19  0.126116      0.061029\n",
      "6  1980-12-22  0.132254      0.048670\n",
      "7  1980-12-23  0.137835      0.042199\n",
      "8  1980-12-24  0.145089      0.052628\n",
      "9  1980-12-26  0.158482      0.092309\n",
      "Daily Returns for Amazon:\n",
      "         Date     Close  daily_return\n",
      "0  1997-05-15  0.097917           NaN\n",
      "1  1997-05-16  0.086458     -0.117028\n",
      "2  1997-05-19  0.085417     -0.012040\n",
      "3  1997-05-20  0.081771     -0.042685\n",
      "4  1997-05-21  0.071354     -0.127392\n",
      "5  1997-05-22  0.069792     -0.021891\n",
      "6  1997-05-23  0.075000      0.074622\n",
      "7  1997-05-27  0.079167      0.055560\n",
      "8  1997-05-28  0.076563     -0.032892\n",
      "9  1997-05-29  0.075260     -0.017019\n",
      "Daily Returns for Google:\n",
      "         Date     Close  daily_return\n",
      "0  2004-08-19  2.499133           NaN\n",
      "1  2004-08-20  2.697639      0.079430\n",
      "2  2004-08-23  2.724787      0.010064\n",
      "3  2004-08-24  2.611960     -0.041408\n",
      "4  2004-08-25  2.640104      0.010775\n",
      "5  2004-08-26  2.687676      0.018019\n",
      "6  2004-08-27  2.643840     -0.016310\n",
      "7  2004-08-30  2.540727     -0.039001\n",
      "8  2004-08-31  2.549693      0.003529\n",
      "9  2004-09-01  2.496891     -0.020709\n",
      "Daily Returns for Meta:\n",
      "         Date      Close  daily_return\n",
      "0  2012-12-12  27.580000           NaN\n",
      "1  2012-12-13  28.240000      0.023930\n",
      "2  2012-12-14  26.809999     -0.050637\n",
      "3  2012-12-17  26.750000     -0.002238\n",
      "4  2012-12-18  27.709999      0.035888\n",
      "5  2012-12-19  27.410000     -0.010826\n",
      "6  2012-12-20  27.360001     -0.001824\n",
      "7  2012-12-21  26.260000     -0.040205\n",
      "8  2012-12-24  26.930000      0.025514\n",
      "9  2012-12-26  26.510000     -0.015596\n",
      "Daily Returns for Microsoft:\n",
      "         Date     Close  daily_return\n",
      "0  1986-03-13  0.097222           NaN\n",
      "1  1986-03-14  0.100694      0.035712\n",
      "2  1986-03-17  0.102431      0.017250\n",
      "3  1986-03-18  0.099826     -0.025432\n",
      "4  1986-03-19  0.098090     -0.017390\n",
      "5  1986-03-20  0.095486     -0.026547\n",
      "6  1986-03-21  0.092882     -0.027271\n",
      "7  1986-03-24  0.090278     -0.028036\n",
      "8  1986-03-25  0.092014      0.019229\n",
      "9  1986-03-26  0.094618      0.028300\n",
      "Daily Returns for Nvidia:\n",
      "         Date     Close  daily_return\n",
      "0  1999-01-22  0.041016           NaN\n",
      "1  1999-01-25  0.045313      0.104764\n",
      "2  1999-01-26  0.041797     -0.077594\n",
      "3  1999-01-27  0.041667     -0.003110\n",
      "4  1999-01-28  0.041536     -0.003144\n",
      "5  1999-01-29  0.039583     -0.047019\n",
      "6  1999-02-01  0.040365      0.019756\n",
      "7  1999-02-02  0.037240     -0.077419\n",
      "8  1999-02-03  0.038021      0.020972\n",
      "9  1999-02-04  0.040104      0.054786\n",
      "Daily Returns for Tesla:\n",
      "         Date     Close  daily_return\n",
      "0  2010-06-29  1.592667           NaN\n",
      "1  2010-06-30  1.588667     -0.002511\n",
      "2  2010-07-01  1.464000     -0.078473\n",
      "3  2010-07-02  1.280000     -0.125683\n",
      "4  2010-07-06  1.074000     -0.160937\n",
      "5  2010-07-07  1.053333     -0.019243\n",
      "6  2010-07-08  1.164000      0.105064\n",
      "7  2010-07-09  1.160000     -0.003436\n",
      "8  2010-07-12  1.136667     -0.020115\n",
      "9  2010-07-13  1.209333      0.063929\n"
     ]
    }
   ],
   "source": [
    "# Loop through each company's DataFrame in the stock_data dictionary\n",
    "for company, df in stock_data.items():\n",
    "    # Compute Daily Stock Returns\n",
    "    df['daily_return'] = df['Close'].pct_change()  # Assuming 'Close' is the column name for closing prices\n",
    "    \n",
    "    # Verify the results by checking a few rows for each company\n",
    "    print(f\"Daily Returns for {company}:\")\n",
    "    print(df[['Date', 'Close', 'daily_return']].head(10))"
   ]
  },
  {
   "cell_type": "markdown",
   "metadata": {},
   "source": [
    "#### Analysis \n",
    "* The output shows the daily returns for each company, Apple and Amazon, etc. and along with their respective closing prices. Here's a detailed analysis:"
   ]
  },
  {
   "cell_type": "markdown",
   "metadata": {},
   "source": [
    "#### Visualizations\n",
    "##### Objective \n",
    "  * Generating the plot is to visualize the relationship between daily stock returns and average daily sentiment over time.\n",
    "    * Specifically, the goals are:\n",
    "      * Display Daily Stock Returns:\n",
    "      * Display Average Daily Sentiment:"
   ]
  },
  {
   "cell_type": "code",
   "execution_count": 42,
   "metadata": {},
   "outputs": [
    {
     "data": {
      "image/png": "[encoded data removed]",
      "text/plain": [
       "<Figure size 1400x700 with 2 Axes>"
      ]
     },
     "metadata": {},
     "output_type": "display_data"
    },
    {
     "data": {
      "image/png": "[encoded data removed]",
      "text/plain": [
       "<Figure size 800x600 with 1 Axes>"
      ]
     },
     "metadata": {},
     "output_type": "display_data"
    }
   ],
   "source": [
    "# Plot daily returns and average sentiment\n",
    "plt.figure(figsize=(14, 7))\n",
    "\n",
    "# Plot stock returns\n",
    "plt.subplot(2, 1, 1)\n",
    "plt.plot(daily_df.index, daily_df['Daily Return'], label='Daily Return', color='blue')\n",
    "plt.title('Daily Stock Returns')\n",
    "plt.xlabel('Date')\n",
    "plt.ylabel('Return (%)')\n",
    "plt.legend()\n",
    "\n",
    "# Plot average sentiment\n",
    "plt.subplot(2, 1, 2)\n",
    "plt.plot(daily_df.index, daily_df['Average Sentiment'], label='Average Sentiment', color='orange')\n",
    "plt.title('Average Daily Sentiment')\n",
    "plt.xlabel('Date')\n",
    "plt.ylabel('Sentiment Score')\n",
    "plt.legend()\n",
    "\n",
    "plt.tight_layout()\n",
    "plt.show()\n",
    "\n",
    "# Scatter plot to visualize correlation\n",
    "plt.figure(figsize=(8, 6))\n",
    "sns.scatterplot(data=daily_df, x='Average Sentiment', y='Daily Return', alpha=0.5)\n",
    "plt.title('Sentiment Score vs. Stock Returns')\n",
    "plt.xlabel('Average Sentiment Score')\n",
    "plt.ylabel('Daily Return (%)')\n",
    "plt.show()"
   ]
  },
  {
   "cell_type": "markdown",
   "metadata": {},
   "source": [
    "### Analysis of the Output\n",
    "   * The plot is divided into two sections:\n",
    "       * Top Section: Displays daily stock returns, represented in blue.\n",
    "       * Bottom Section: Displays average daily sentiment scores, represented in orange.\n",
    "   * Daily Stock Returns (Top Section):\n",
    "       * Fluctuations: The daily stock returns show significant variability, with spikes indicating days of high volatility and substantial price changes.\n",
    "       * Positive and Negative Returns: The distribution of returns likely includes both positive (gains) and negative (losses) days, reflecting the normal behavior of stock prices.\n",
    "   * Average Daily Sentiment (Bottom Section):\n",
    "       * Trend: The average daily sentiment scores fluctuate but may remain within a certain range. Analyzing these scores helps gauge market sentiment over time.\n",
    "       * Correlation Observation: By visually comparing the trends in sentiment with stock returns, one can explore potential relationships. For instance, periods of high positive sentiment may align with positive stock returns."
   ]
  },
  {
   "cell_type": "code",
   "execution_count": 43,
   "metadata": {},
   "outputs": [
    {
     "name": "stderr",
     "output_type": "stream",
     "text": [
      "[nltk_data] Downloading package punkt to\n",
      "[nltk_data]     C:\\Users\\W-HP\\AppData\\Roaming\\nltk_data...\n",
      "[nltk_data]   Package punkt is already up-to-date!\n"
     ]
    }
   ],
   "source": [
    "from textblob import TextBlob\n",
    "import nltk\n",
    "nltk.download('punkt')\n",
    "\n",
    "# 2.1 Perform Sentiment Analysis\n",
    "def get_sentiment(headline):\n",
    "    analysis = TextBlob(headline)\n",
    "    # Categorize sentiment as positive, negative, or neutral\n",
    "    if analysis.sentiment.polarity > 0:\n",
    "        return 1\n",
    "    elif analysis.sentiment.polarity < 0:\n",
    "        return -1\n",
    "    else:\n",
    "        return 0\n",
    "\n",
    "news_df['sentiment'] = news_df['headline'].apply(get_sentiment)\n",
    "\n",
    "# 2.2 Aggregate Sentiment Scores by Date\n",
    "aggregated_sentiment = news_df.groupby('date')['sentiment'].mean().reset_index()\n",
    "aggregated_sentiment.columns = ['date', 'avg_sentiment']"
   ]
  },
  {
   "cell_type": "code",
   "execution_count": 44,
   "metadata": {},
   "outputs": [
    {
     "name": "stdout",
     "output_type": "stream",
     "text": [
      "Pearson Correlation between Sentiment and Stock Returns for Apple: -0.000798160323532208\n"
     ]
    },
    {
     "data": {
      "image/png": "[encoded data removed]",
      "text/plain": [
       "<Figure size 1000x600 with 1 Axes>"
      ]
     },
     "metadata": {},
     "output_type": "display_data"
    },
    {
     "name": "stdout",
     "output_type": "stream",
     "text": [
      "Pearson Correlation between Sentiment and Stock Returns for Amazon: -0.045517708157538146\n"
     ]
    },
    {
     "data": {
      "image/png": "[encoded data removed]",
      "text/plain": [
       "<Figure size 1000x600 with 1 Axes>"
      ]
     },
     "metadata": {},
     "output_type": "display_data"
    },
    {
     "name": "stdout",
     "output_type": "stream",
     "text": [
      "Pearson Correlation between Sentiment and Stock Returns for Google: -0.009507858119798363\n"
     ]
    },
    {
     "data": {
      "image/png": "[encoded data removed]",
      "text/plain": [
       "<Figure size 1000x600 with 1 Axes>"
      ]
     },
     "metadata": {},
     "output_type": "display_data"
    },
    {
     "name": "stdout",
     "output_type": "stream",
     "text": [
      "Pearson Correlation between Sentiment and Stock Returns for Meta: -0.004606663909727634\n"
     ]
    },
    {
     "data": {
      "image/png": "[encoded data removed]",
      "text/plain": [
       "<Figure size 1000x600 with 1 Axes>"
      ]
     },
     "metadata": {},
     "output_type": "display_data"
    },
    {
     "name": "stdout",
     "output_type": "stream",
     "text": [
      "Pearson Correlation between Sentiment and Stock Returns for Microsoft: -0.022008234870930708\n"
     ]
    },
    {
     "data": {
      "image/png": "[encoded data removed]",
      "text/plain": [
       "<Figure size 1000x600 with 1 Axes>"
      ]
     },
     "metadata": {},
     "output_type": "display_data"
    },
    {
     "name": "stdout",
     "output_type": "stream",
     "text": [
      "Pearson Correlation between Sentiment and Stock Returns for Nvidia: -0.026632247886047088\n"
     ]
    },
    {
     "data": {
      "image/png": "[encoded data removed]",
      "text/plain": [
       "<Figure size 1000x600 with 1 Axes>"
      ]
     },
     "metadata": {},
     "output_type": "display_data"
    },
    {
     "name": "stdout",
     "output_type": "stream",
     "text": [
      "Pearson Correlation between Sentiment and Stock Returns for Tesla: -0.004348947580204543\n"
     ]
    },
    {
     "data": {
      "image/png": "[encoded data removed]",
      "text/plain": [
       "<Figure size 1000x600 with 1 Axes>"
      ]
     },
     "metadata": {},
     "output_type": "display_data"
    }
   ],
   "source": [
    "import matplotlib.pyplot as plt\n",
    "for company, df in stock_data.items():\n",
    "    # Align Datasets by Date\n",
    "    merged_df = pd.merge(aggregated_sentiment, df[['Date', 'daily_return']], left_on='date', right_on='Date')\n",
    "    \n",
    "    # Drop the redundant 'Date' column after merging\n",
    "    merged_df.drop(columns=['Date'], inplace=True)\n",
    "\n",
    "    # Calculate Correlation\n",
    "    correlation = merged_df['avg_sentiment'].corr(merged_df['daily_return'])\n",
    "    print(f\"Pearson Correlation between Sentiment and Stock Returns for {company}: {correlation}\")\n",
    "\n",
    "    # Visualize the Correlation\n",
    "    plt.figure(figsize=(10, 6))\n",
    "    plt.scatter(merged_df['avg_sentiment'], merged_df['daily_return'])\n",
    "    plt.title(f'Correlation between News Sentiment and Stock Returns for {company}')\n",
    "    plt.xlabel('Average Sentiment Score')\n",
    "    plt.ylabel('Daily Stock Returns')\n",
    "    plt.show()"
   ]
  },
  {
   "cell_type": "markdown",
   "metadata": {},
   "source": [
    "### Output Analysis\n",
    "  * Interpretation of Pearson Correlation Coefficients\n",
    "      * Apple: -0.000798\n",
    "           * Interpretation: This value indicates an almost negligible negative correlation between sentiment and daily stock returns. It suggests that there is virtually no relationship; changes in sentiment do not significantly affect Apple’s stock performance.\n",
    "      * Amazon: -0.045518\n",
    "           * Interpretation: This coefficient shows a slightly stronger negative correlation than Apple. While still weak, it indicates a minor tendency for higher sentiment to correlate with lower stock returns. However, the relationship is not strong enough to draw significant conclusions.\n",
    "     * Google: -0.009508\n",
    "          * Interpretation: Similar to Apple, this correlation coefficient is very close to zero, suggesting a negligible negative relationship. Changes in sentiment do not appear to influence Google’s stock returns significantly.\n",
    "     * Meta: -0.004607\n",
    "         * Interpretation: This value is also very close to zero, indicating a negligible negative correlation. The relationship between sentiment and stock returns for Meta is minimal, suggesting that sentiment does not play a significant role in affecting stock performance.\n",
    "     * Nvidia: -0.026632\n",
    "        * Interpretation: This coefficient indicates a slightly more pronounced negative correlation than the other companies mentioned, but it remains weak. It suggests that there may be a minor inverse relationship between sentiment and stock returns, though it’s not statistically significant.\n",
    "     * Tesla: -0.004349\n",
    "       * Interpretation: This value is very close to zero, indicating a negligible negative correlation. Similar to Meta, it suggests that sentiment does not have a meaningful impact on Tesla’s stock returns."
   ]
  }
 ],
 "metadata": {
  "kernelspec": {
   "display_name": ".venv",
   "language": "python",
   "name": "python3"
  },
  "language_info": {
   "codemirror_mode": {
    "name": "ipython",
    "version": 3
   },
   "file_extension": ".py",
   "mimetype": "text/x-python",
   "name": "python",
   "nbconvert_exporter": "python",
   "pygments_lexer": "ipython3",
   "version": "3.13.2"
  }
 },
 "nbformat": 4,
 "nbformat_minor": 2
}
