{
 "cells": [
  {
   "cell_type": "code",
   "execution_count": 1,
   "id": "5c554889",
   "metadata": {},
   "outputs": [],
   "source": [
    "import numpy as np\n",
    "import pandas as pd\n",
    "import matplotlib.pyplot as plt\n",
    "import seaborn as sns\n",
    "from textblob import TextBlob"
   ]
  },
  {
   "cell_type": "code",
   "execution_count": 52,
   "id": "a8b0530e",
   "metadata": {},
   "outputs": [
    {
     "name": "stdout",
     "output_type": "stream",
     "text": [
      "Path already exist\n"
     ]
    }
   ],
   "source": [
    "import sys\n",
    "import os\n",
    "# Add src directory to the Python path\n",
    "system_path = os.path.abspath('..')\n",
    "if system_path in sys.path:\n",
    "    print('Path already exist')\n",
    "else:\n",
    "    sys.path.append(system_path)\n",
    "\n"
   ]
  },
  {
   "cell_type": "code",
   "execution_count": 53,
   "id": "fe23a1c5",
   "metadata": {},
   "outputs": [
    {
     "name": "stderr",
     "output_type": "stream",
     "text": [
      "[nltk_data] Downloading package stopwords to\n",
      "[nltk_data]     C:\\Users\\W-HP\\AppData\\Roaming\\nltk_data...\n",
      "[nltk_data]   Package stopwords is already up-to-date!\n"
     ]
    }
   ],
   "source": [
    "%load_ext autoreload\n",
    "%autoreload 2\n",
    "from src.EDA_publisher_analysis import *"
   ]
  },
  {
   "cell_type": "code",
   "execution_count": 54,
   "id": "5c1fe122",
   "metadata": {},
   "outputs": [],
   "source": [
    "apple_data = pd.read_csv('../data/AAPL_historical_data.csv')\n",
    "amazon_data = pd.read_csv('../data/AMZN_historical_data.csv')\n",
    "google_data = pd.read_csv('../data/GOOG_historical_data.csv')\n",
    "meta_data = pd.read_csv('../data/META_historical_data.csv')\n",
    "microsoft_data = pd.read_csv('../data/MSFT_historical_data.csv')\n",
    "nividia_data = pd.read_csv('../data/NVDA_historical_data.csv')\n",
    "tesla_data = pd.read_csv('../data/TSLA_historical_data.csv')\n",
    "\n",
    "news_df = pd.read_csv('../data/raw_analyst_ratings.csv')"
   ]
  },
  {
   "cell_type": "code",
   "execution_count": null,
   "id": "0dc62d59",
   "metadata": {},
   "outputs": [],
   "source": [
    "# Add a 'Company' column to each dataframe\n",
    "apple_data['Company'] = 'Apple'\n",
    "amazon_data['Company'] = 'Amazon'\n",
    "google_data['Company'] = 'Google'\n",
    "meta_data['Company'] = 'Meta'\n",
    "microsoft_data['Company'] = 'Microsoft'\n",
    "nividia_data['Company'] = 'Nvidia'\n",
    "tesla_data['Company'] = 'Tesla'\n",
    "\n",
    "# Concatenate the dataframes\n",
    "stock_df = pd.concat([apple_data, amazon_data, google_data, meta_data, microsoft_data, nividia_data, tesla_data])"
   ]
  },
  {
   "cell_type": "code",
   "execution_count": 57,
   "id": "fbfe9b1a",
   "metadata": {},
   "outputs": [
    {
     "data": {
      "application/vnd.microsoft.datawrangler.viewer.v0+json": {
       "columns": [
        {
         "name": "index",
         "rawType": "int64",
         "type": "integer"
        },
        {
         "name": "Unnamed: 0",
         "rawType": "int64",
         "type": "integer"
        },
        {
         "name": "headline",
         "rawType": "object",
         "type": "string"
        },
        {
         "name": "url",
         "rawType": "object",
         "type": "string"
        },
        {
         "name": "publisher",
         "rawType": "object",
         "type": "string"
        },
        {
         "name": "date",
         "rawType": "object",
         "type": "string"
        },
        {
         "name": "stock",
         "rawType": "object",
         "type": "string"
        }
       ],
       "ref": "2b23e1c6-0947-4a2e-901e-5494704cb0f2",
       "rows": [
        [
         "0",
         "0",
         "Stocks That Hit 52-Week Highs On Friday",
         "https://www.benzinga.com/news/20/06/16190091/stocks-that-hit-52-week-highs-on-friday",
         "Benzinga Insights",
         "2020-06-05 10:30:54-04:00",
         "A"
        ],
        [
         "1",
         "1",
         "Stocks That Hit 52-Week Highs On Wednesday",
         "https://www.benzinga.com/news/20/06/16170189/stocks-that-hit-52-week-highs-on-wednesday",
         "Benzinga Insights",
         "2020-06-03 10:45:20-04:00",
         "A"
        ],
        [
         "2",
         "2",
         "71 Biggest Movers From Friday",
         "https://www.benzinga.com/news/20/05/16103463/71-biggest-movers-from-friday",
         "Lisa Levin",
         "2020-05-26 04:30:07-04:00",
         "A"
        ],
        [
         "3",
         "3",
         "46 Stocks Moving In Friday's Mid-Day Session",
         "https://www.benzinga.com/news/20/05/16095921/46-stocks-moving-in-fridays-mid-day-session",
         "Lisa Levin",
         "2020-05-22 12:45:06-04:00",
         "A"
        ],
        [
         "4",
         "4",
         "B of A Securities Maintains Neutral on Agilent Technologies, Raises Price Target to $88",
         "https://www.benzinga.com/news/20/05/16095304/b-of-a-securities-maintains-neutral-on-agilent-technologies-raises-price-target-to-88",
         "Vick Meyer",
         "2020-05-22 11:38:59-04:00",
         "A"
        ]
       ],
       "shape": {
        "columns": 6,
        "rows": 5
       }
      },
      "text/html": [
       "<div>\n",
       "<style scoped>\n",
       "    .dataframe tbody tr th:only-of-type {\n",
       "        vertical-align: middle;\n",
       "    }\n",
       "\n",
       "    .dataframe tbody tr th {\n",
       "        vertical-align: top;\n",
       "    }\n",
       "\n",
       "    .dataframe thead th {\n",
       "        text-align: right;\n",
       "    }\n",
       "</style>\n",
       "<table border=\"1\" class=\"dataframe\">\n",
       "  <thead>\n",
       "    <tr style=\"text-align: right;\">\n",
       "      <th></th>\n",
       "      <th>Unnamed: 0</th>\n",
       "      <th>headline</th>\n",
       "      <th>url</th>\n",
       "      <th>publisher</th>\n",
       "      <th>date</th>\n",
       "      <th>stock</th>\n",
       "    </tr>\n",
       "  </thead>\n",
       "  <tbody>\n",
       "    <tr>\n",
       "      <th>0</th>\n",
       "      <td>0</td>\n",
       "      <td>Stocks That Hit 52-Week Highs On Friday</td>\n",
       "      <td>https://www.benzinga.com/news/20/06/16190091/s...</td>\n",
       "      <td>Benzinga Insights</td>\n",
       "      <td>2020-06-05 10:30:54-04:00</td>\n",
       "      <td>A</td>\n",
       "    </tr>\n",
       "    <tr>\n",
       "      <th>1</th>\n",
       "      <td>1</td>\n",
       "      <td>Stocks That Hit 52-Week Highs On Wednesday</td>\n",
       "      <td>https://www.benzinga.com/news/20/06/16170189/s...</td>\n",
       "      <td>Benzinga Insights</td>\n",
       "      <td>2020-06-03 10:45:20-04:00</td>\n",
       "      <td>A</td>\n",
       "    </tr>\n",
       "    <tr>\n",
       "      <th>2</th>\n",
       "      <td>2</td>\n",
       "      <td>71 Biggest Movers From Friday</td>\n",
       "      <td>https://www.benzinga.com/news/20/05/16103463/7...</td>\n",
       "      <td>Lisa Levin</td>\n",
       "      <td>2020-05-26 04:30:07-04:00</td>\n",
       "      <td>A</td>\n",
       "    </tr>\n",
       "    <tr>\n",
       "      <th>3</th>\n",
       "      <td>3</td>\n",
       "      <td>46 Stocks Moving In Friday's Mid-Day Session</td>\n",
       "      <td>https://www.benzinga.com/news/20/05/16095921/4...</td>\n",
       "      <td>Lisa Levin</td>\n",
       "      <td>2020-05-22 12:45:06-04:00</td>\n",
       "      <td>A</td>\n",
       "    </tr>\n",
       "    <tr>\n",
       "      <th>4</th>\n",
       "      <td>4</td>\n",
       "      <td>B of A Securities Maintains Neutral on Agilent...</td>\n",
       "      <td>https://www.benzinga.com/news/20/05/16095304/b...</td>\n",
       "      <td>Vick Meyer</td>\n",
       "      <td>2020-05-22 11:38:59-04:00</td>\n",
       "      <td>A</td>\n",
       "    </tr>\n",
       "  </tbody>\n",
       "</table>\n",
       "</div>"
      ],
      "text/plain": [
       "   Unnamed: 0                                           headline  \\\n",
       "0           0            Stocks That Hit 52-Week Highs On Friday   \n",
       "1           1         Stocks That Hit 52-Week Highs On Wednesday   \n",
       "2           2                      71 Biggest Movers From Friday   \n",
       "3           3       46 Stocks Moving In Friday's Mid-Day Session   \n",
       "4           4  B of A Securities Maintains Neutral on Agilent...   \n",
       "\n",
       "                                                 url          publisher  \\\n",
       "0  https://www.benzinga.com/news/20/06/16190091/s...  Benzinga Insights   \n",
       "1  https://www.benzinga.com/news/20/06/16170189/s...  Benzinga Insights   \n",
       "2  https://www.benzinga.com/news/20/05/16103463/7...         Lisa Levin   \n",
       "3  https://www.benzinga.com/news/20/05/16095921/4...         Lisa Levin   \n",
       "4  https://www.benzinga.com/news/20/05/16095304/b...         Vick Meyer   \n",
       "\n",
       "                        date stock  \n",
       "0  2020-06-05 10:30:54-04:00     A  \n",
       "1  2020-06-03 10:45:20-04:00     A  \n",
       "2  2020-05-26 04:30:07-04:00     A  \n",
       "3  2020-05-22 12:45:06-04:00     A  \n",
       "4  2020-05-22 11:38:59-04:00     A  "
      ]
     },
     "execution_count": 57,
     "metadata": {},
     "output_type": "execute_result"
    }
   ],
   "source": [
    "news_df.head()"
   ]
  },
  {
   "cell_type": "code",
   "execution_count": 58,
   "id": "0066fd7a",
   "metadata": {},
   "outputs": [
    {
     "data": {
      "application/vnd.microsoft.datawrangler.viewer.v0+json": {
       "columns": [
        {
         "name": "index",
         "rawType": "int64",
         "type": "integer"
        },
        {
         "name": "Date",
         "rawType": "object",
         "type": "string"
        },
        {
         "name": "Open",
         "rawType": "float64",
         "type": "float"
        },
        {
         "name": "High",
         "rawType": "float64",
         "type": "float"
        },
        {
         "name": "Low",
         "rawType": "float64",
         "type": "float"
        },
        {
         "name": "Close",
         "rawType": "float64",
         "type": "float"
        },
        {
         "name": "Adj Close",
         "rawType": "float64",
         "type": "float"
        },
        {
         "name": "Volume",
         "rawType": "int64",
         "type": "integer"
        },
        {
         "name": "Dividends",
         "rawType": "float64",
         "type": "float"
        },
        {
         "name": "Stock Splits",
         "rawType": "float64",
         "type": "float"
        },
        {
         "name": "Company",
         "rawType": "object",
         "type": "string"
        }
       ],
       "ref": "c3a0e748-1794-4e94-8b81-a39e0de728d4",
       "rows": [
        [
         "0",
         "1980-12-12",
         "0.1283479928970337",
         "0.1289059966802597",
         "0.1283479928970337",
         "0.1283479928970337",
         "0.098943218588829",
         "469033600",
         "0.0",
         "0.0",
         "Apple"
        ],
        [
         "1",
         "1980-12-15",
         "0.1222100034356117",
         "0.1222100034356117",
         "0.1216519996523857",
         "0.1216519996523857",
         "0.093781292438507",
         "175884800",
         "0.0",
         "0.0",
         "Apple"
        ],
        [
         "2",
         "1980-12-16",
         "0.1132809966802597",
         "0.1132809966802597",
         "0.1127230003476142",
         "0.1127230003476142",
         "0.0868979692459106",
         "105728000",
         "0.0",
         "0.0",
         "Apple"
        ],
        [
         "3",
         "1980-12-17",
         "0.1155129969120025",
         "0.1160710006952285",
         "0.1155129969120025",
         "0.1155129969120025",
         "0.089048758149147",
         "86441600",
         "0.0",
         "0.0",
         "Apple"
        ],
        [
         "4",
         "1980-12-18",
         "0.1188620030879974",
         "0.1194199994206428",
         "0.1188620030879974",
         "0.1188620030879974",
         "0.0916304588317871",
         "73449600",
         "0.0",
         "0.0",
         "Apple"
        ]
       ],
       "shape": {
        "columns": 10,
        "rows": 5
       }
      },
      "text/html": [
       "<div>\n",
       "<style scoped>\n",
       "    .dataframe tbody tr th:only-of-type {\n",
       "        vertical-align: middle;\n",
       "    }\n",
       "\n",
       "    .dataframe tbody tr th {\n",
       "        vertical-align: top;\n",
       "    }\n",
       "\n",
       "    .dataframe thead th {\n",
       "        text-align: right;\n",
       "    }\n",
       "</style>\n",
       "<table border=\"1\" class=\"dataframe\">\n",
       "  <thead>\n",
       "    <tr style=\"text-align: right;\">\n",
       "      <th></th>\n",
       "      <th>Date</th>\n",
       "      <th>Open</th>\n",
       "      <th>High</th>\n",
       "      <th>Low</th>\n",
       "      <th>Close</th>\n",
       "      <th>Adj Close</th>\n",
       "      <th>Volume</th>\n",
       "      <th>Dividends</th>\n",
       "      <th>Stock Splits</th>\n",
       "      <th>Company</th>\n",
       "    </tr>\n",
       "  </thead>\n",
       "  <tbody>\n",
       "    <tr>\n",
       "      <th>0</th>\n",
       "      <td>1980-12-12</td>\n",
       "      <td>0.128348</td>\n",
       "      <td>0.128906</td>\n",
       "      <td>0.128348</td>\n",
       "      <td>0.128348</td>\n",
       "      <td>0.098943</td>\n",
       "      <td>469033600</td>\n",
       "      <td>0.0</td>\n",
       "      <td>0.0</td>\n",
       "      <td>Apple</td>\n",
       "    </tr>\n",
       "    <tr>\n",
       "      <th>1</th>\n",
       "      <td>1980-12-15</td>\n",
       "      <td>0.122210</td>\n",
       "      <td>0.122210</td>\n",
       "      <td>0.121652</td>\n",
       "      <td>0.121652</td>\n",
       "      <td>0.093781</td>\n",
       "      <td>175884800</td>\n",
       "      <td>0.0</td>\n",
       "      <td>0.0</td>\n",
       "      <td>Apple</td>\n",
       "    </tr>\n",
       "    <tr>\n",
       "      <th>2</th>\n",
       "      <td>1980-12-16</td>\n",
       "      <td>0.113281</td>\n",
       "      <td>0.113281</td>\n",
       "      <td>0.112723</td>\n",
       "      <td>0.112723</td>\n",
       "      <td>0.086898</td>\n",
       "      <td>105728000</td>\n",
       "      <td>0.0</td>\n",
       "      <td>0.0</td>\n",
       "      <td>Apple</td>\n",
       "    </tr>\n",
       "    <tr>\n",
       "      <th>3</th>\n",
       "      <td>1980-12-17</td>\n",
       "      <td>0.115513</td>\n",
       "      <td>0.116071</td>\n",
       "      <td>0.115513</td>\n",
       "      <td>0.115513</td>\n",
       "      <td>0.089049</td>\n",
       "      <td>86441600</td>\n",
       "      <td>0.0</td>\n",
       "      <td>0.0</td>\n",
       "      <td>Apple</td>\n",
       "    </tr>\n",
       "    <tr>\n",
       "      <th>4</th>\n",
       "      <td>1980-12-18</td>\n",
       "      <td>0.118862</td>\n",
       "      <td>0.119420</td>\n",
       "      <td>0.118862</td>\n",
       "      <td>0.118862</td>\n",
       "      <td>0.091630</td>\n",
       "      <td>73449600</td>\n",
       "      <td>0.0</td>\n",
       "      <td>0.0</td>\n",
       "      <td>Apple</td>\n",
       "    </tr>\n",
       "  </tbody>\n",
       "</table>\n",
       "</div>"
      ],
      "text/plain": [
       "         Date      Open      High       Low     Close  Adj Close     Volume  \\\n",
       "0  1980-12-12  0.128348  0.128906  0.128348  0.128348   0.098943  469033600   \n",
       "1  1980-12-15  0.122210  0.122210  0.121652  0.121652   0.093781  175884800   \n",
       "2  1980-12-16  0.113281  0.113281  0.112723  0.112723   0.086898  105728000   \n",
       "3  1980-12-17  0.115513  0.116071  0.115513  0.115513   0.089049   86441600   \n",
       "4  1980-12-18  0.118862  0.119420  0.118862  0.118862   0.091630   73449600   \n",
       "\n",
       "   Dividends  Stock Splits Company  \n",
       "0        0.0           0.0   Apple  \n",
       "1        0.0           0.0   Apple  \n",
       "2        0.0           0.0   Apple  \n",
       "3        0.0           0.0   Apple  \n",
       "4        0.0           0.0   Apple  "
      ]
     },
     "execution_count": 58,
     "metadata": {},
     "output_type": "execute_result"
    }
   ],
   "source": [
    "stock_df.head()"
   ]
  },
  {
   "cell_type": "code",
   "execution_count": 62,
   "id": "8dcad841",
   "metadata": {},
   "outputs": [
    {
     "data": {
      "text/plain": [
       "((1048575, 5), (45428, 10))"
      ]
     },
     "execution_count": 62,
     "metadata": {},
     "output_type": "execute_result"
    }
   ],
   "source": [
    "news_df.shape, stock_df.shape"
   ]
  },
  {
   "cell_type": "code",
   "execution_count": 63,
   "id": "4735cb72",
   "metadata": {},
   "outputs": [],
   "source": [
    "news_df= news_df.drop(news_df.columns[0], axis=1)"
   ]
  },
  {
   "cell_type": "code",
   "execution_count": 64,
   "id": "89efd62e",
   "metadata": {},
   "outputs": [],
   "source": [
    "# Convert 'date' columns to datetime\n",
    "news_df['date'] = pd.to_datetime(news_df['date'],  errors='coerce').dt.tz_localize(None)\n",
    "stock_df['Date'] = pd.to_datetime(stock_df['Date'],  errors='coerce').dt.tz_localize(None)"
   ]
  },
  {
   "cell_type": "code",
   "execution_count": 65,
   "id": "055b8f0a",
   "metadata": {},
   "outputs": [
    {
     "data": {
      "application/vnd.microsoft.datawrangler.viewer.v0+json": {
       "columns": [
        {
         "name": "index",
         "rawType": "int64",
         "type": "integer"
        },
        {
         "name": "url",
         "rawType": "object",
         "type": "string"
        },
        {
         "name": "publisher",
         "rawType": "object",
         "type": "string"
        },
        {
         "name": "date",
         "rawType": "datetime64[ns]",
         "type": "datetime"
        },
        {
         "name": "stock",
         "rawType": "object",
         "type": "string"
        }
       ],
       "ref": "3cc78655-f1b2-43f6-b0ac-7db8176ec83b",
       "rows": [
        [
         "0",
         "https://www.benzinga.com/news/20/06/16190091/stocks-that-hit-52-week-highs-on-friday",
         "Benzinga Insights",
         "2020-06-05 10:30:54",
         "A"
        ],
        [
         "1",
         "https://www.benzinga.com/news/20/06/16170189/stocks-that-hit-52-week-highs-on-wednesday",
         "Benzinga Insights",
         "2020-06-03 10:45:20",
         "A"
        ],
        [
         "2",
         "https://www.benzinga.com/news/20/05/16103463/71-biggest-movers-from-friday",
         "Lisa Levin",
         "2020-05-26 04:30:07",
         "A"
        ],
        [
         "3",
         "https://www.benzinga.com/news/20/05/16095921/46-stocks-moving-in-fridays-mid-day-session",
         "Lisa Levin",
         "2020-05-22 12:45:06",
         "A"
        ],
        [
         "4",
         "https://www.benzinga.com/news/20/05/16095304/b-of-a-securities-maintains-neutral-on-agilent-technologies-raises-price-target-to-88",
         "Vick Meyer",
         "2020-05-22 11:38:59",
         "A"
        ]
       ],
       "shape": {
        "columns": 4,
        "rows": 5
       }
      },
      "text/html": [
       "<div>\n",
       "<style scoped>\n",
       "    .dataframe tbody tr th:only-of-type {\n",
       "        vertical-align: middle;\n",
       "    }\n",
       "\n",
       "    .dataframe tbody tr th {\n",
       "        vertical-align: top;\n",
       "    }\n",
       "\n",
       "    .dataframe thead th {\n",
       "        text-align: right;\n",
       "    }\n",
       "</style>\n",
       "<table border=\"1\" class=\"dataframe\">\n",
       "  <thead>\n",
       "    <tr style=\"text-align: right;\">\n",
       "      <th></th>\n",
       "      <th>url</th>\n",
       "      <th>publisher</th>\n",
       "      <th>date</th>\n",
       "      <th>stock</th>\n",
       "    </tr>\n",
       "  </thead>\n",
       "  <tbody>\n",
       "    <tr>\n",
       "      <th>0</th>\n",
       "      <td>https://www.benzinga.com/news/20/06/16190091/s...</td>\n",
       "      <td>Benzinga Insights</td>\n",
       "      <td>2020-06-05 10:30:54</td>\n",
       "      <td>A</td>\n",
       "    </tr>\n",
       "    <tr>\n",
       "      <th>1</th>\n",
       "      <td>https://www.benzinga.com/news/20/06/16170189/s...</td>\n",
       "      <td>Benzinga Insights</td>\n",
       "      <td>2020-06-03 10:45:20</td>\n",
       "      <td>A</td>\n",
       "    </tr>\n",
       "    <tr>\n",
       "      <th>2</th>\n",
       "      <td>https://www.benzinga.com/news/20/05/16103463/7...</td>\n",
       "      <td>Lisa Levin</td>\n",
       "      <td>2020-05-26 04:30:07</td>\n",
       "      <td>A</td>\n",
       "    </tr>\n",
       "    <tr>\n",
       "      <th>3</th>\n",
       "      <td>https://www.benzinga.com/news/20/05/16095921/4...</td>\n",
       "      <td>Lisa Levin</td>\n",
       "      <td>2020-05-22 12:45:06</td>\n",
       "      <td>A</td>\n",
       "    </tr>\n",
       "    <tr>\n",
       "      <th>4</th>\n",
       "      <td>https://www.benzinga.com/news/20/05/16095304/b...</td>\n",
       "      <td>Vick Meyer</td>\n",
       "      <td>2020-05-22 11:38:59</td>\n",
       "      <td>A</td>\n",
       "    </tr>\n",
       "  </tbody>\n",
       "</table>\n",
       "</div>"
      ],
      "text/plain": [
       "                                                 url          publisher  \\\n",
       "0  https://www.benzinga.com/news/20/06/16190091/s...  Benzinga Insights   \n",
       "1  https://www.benzinga.com/news/20/06/16170189/s...  Benzinga Insights   \n",
       "2  https://www.benzinga.com/news/20/05/16103463/7...         Lisa Levin   \n",
       "3  https://www.benzinga.com/news/20/05/16095921/4...         Lisa Levin   \n",
       "4  https://www.benzinga.com/news/20/05/16095304/b...         Vick Meyer   \n",
       "\n",
       "                 date stock  \n",
       "0 2020-06-05 10:30:54     A  \n",
       "1 2020-06-03 10:45:20     A  \n",
       "2 2020-05-26 04:30:07     A  \n",
       "3 2020-05-22 12:45:06     A  \n",
       "4 2020-05-22 11:38:59     A  "
      ]
     },
     "execution_count": 65,
     "metadata": {},
     "output_type": "execute_result"
    }
   ],
   "source": [
    "## Checking formatting\n",
    "news_df.head()"
   ]
  },
  {
   "cell_type": "code",
   "execution_count": 66,
   "id": "9da394b4",
   "metadata": {},
   "outputs": [
    {
     "data": {
      "application/vnd.microsoft.datawrangler.viewer.v0+json": {
       "columns": [
        {
         "name": "index",
         "rawType": "int64",
         "type": "integer"
        },
        {
         "name": "url",
         "rawType": "object",
         "type": "string"
        },
        {
         "name": "publisher",
         "rawType": "object",
         "type": "string"
        },
        {
         "name": "date",
         "rawType": "datetime64[ns]",
         "type": "datetime"
        },
        {
         "name": "stock",
         "rawType": "object",
         "type": "string"
        }
       ],
       "ref": "73fda6d1-b503-44a8-9e89-8effa6a9e202",
       "rows": [
        [
         "0",
         "https://www.benzinga.com/news/20/06/16190091/stocks-that-hit-52-week-highs-on-friday",
         "Benzinga Insights",
         "2020-06-05 10:30:54",
         "A"
        ],
        [
         "1",
         "https://www.benzinga.com/news/20/06/16170189/stocks-that-hit-52-week-highs-on-wednesday",
         "Benzinga Insights",
         "2020-06-03 10:45:20",
         "A"
        ],
        [
         "2",
         "https://www.benzinga.com/news/20/05/16103463/71-biggest-movers-from-friday",
         "Lisa Levin",
         "2020-05-26 04:30:07",
         "A"
        ],
        [
         "3",
         "https://www.benzinga.com/news/20/05/16095921/46-stocks-moving-in-fridays-mid-day-session",
         "Lisa Levin",
         "2020-05-22 12:45:06",
         "A"
        ],
        [
         "4",
         "https://www.benzinga.com/news/20/05/16095304/b-of-a-securities-maintains-neutral-on-agilent-technologies-raises-price-target-to-88",
         "Vick Meyer",
         "2020-05-22 11:38:59",
         "A"
        ]
       ],
       "shape": {
        "columns": 4,
        "rows": 5
       }
      },
      "text/html": [
       "<div>\n",
       "<style scoped>\n",
       "    .dataframe tbody tr th:only-of-type {\n",
       "        vertical-align: middle;\n",
       "    }\n",
       "\n",
       "    .dataframe tbody tr th {\n",
       "        vertical-align: top;\n",
       "    }\n",
       "\n",
       "    .dataframe thead th {\n",
       "        text-align: right;\n",
       "    }\n",
       "</style>\n",
       "<table border=\"1\" class=\"dataframe\">\n",
       "  <thead>\n",
       "    <tr style=\"text-align: right;\">\n",
       "      <th></th>\n",
       "      <th>url</th>\n",
       "      <th>publisher</th>\n",
       "      <th>date</th>\n",
       "      <th>stock</th>\n",
       "    </tr>\n",
       "  </thead>\n",
       "  <tbody>\n",
       "    <tr>\n",
       "      <th>0</th>\n",
       "      <td>https://www.benzinga.com/news/20/06/16190091/s...</td>\n",
       "      <td>Benzinga Insights</td>\n",
       "      <td>2020-06-05 10:30:54</td>\n",
       "      <td>A</td>\n",
       "    </tr>\n",
       "    <tr>\n",
       "      <th>1</th>\n",
       "      <td>https://www.benzinga.com/news/20/06/16170189/s...</td>\n",
       "      <td>Benzinga Insights</td>\n",
       "      <td>2020-06-03 10:45:20</td>\n",
       "      <td>A</td>\n",
       "    </tr>\n",
       "    <tr>\n",
       "      <th>2</th>\n",
       "      <td>https://www.benzinga.com/news/20/05/16103463/7...</td>\n",
       "      <td>Lisa Levin</td>\n",
       "      <td>2020-05-26 04:30:07</td>\n",
       "      <td>A</td>\n",
       "    </tr>\n",
       "    <tr>\n",
       "      <th>3</th>\n",
       "      <td>https://www.benzinga.com/news/20/05/16095921/4...</td>\n",
       "      <td>Lisa Levin</td>\n",
       "      <td>2020-05-22 12:45:06</td>\n",
       "      <td>A</td>\n",
       "    </tr>\n",
       "    <tr>\n",
       "      <th>4</th>\n",
       "      <td>https://www.benzinga.com/news/20/05/16095304/b...</td>\n",
       "      <td>Vick Meyer</td>\n",
       "      <td>2020-05-22 11:38:59</td>\n",
       "      <td>A</td>\n",
       "    </tr>\n",
       "  </tbody>\n",
       "</table>\n",
       "</div>"
      ],
      "text/plain": [
       "                                                 url          publisher  \\\n",
       "0  https://www.benzinga.com/news/20/06/16190091/s...  Benzinga Insights   \n",
       "1  https://www.benzinga.com/news/20/06/16170189/s...  Benzinga Insights   \n",
       "2  https://www.benzinga.com/news/20/05/16103463/7...         Lisa Levin   \n",
       "3  https://www.benzinga.com/news/20/05/16095921/4...         Lisa Levin   \n",
       "4  https://www.benzinga.com/news/20/05/16095304/b...         Vick Meyer   \n",
       "\n",
       "                 date stock  \n",
       "0 2020-06-05 10:30:54     A  \n",
       "1 2020-06-03 10:45:20     A  \n",
       "2 2020-05-26 04:30:07     A  \n",
       "3 2020-05-22 12:45:06     A  \n",
       "4 2020-05-22 11:38:59     A  "
      ]
     },
     "execution_count": 66,
     "metadata": {},
     "output_type": "execute_result"
    }
   ],
   "source": [
    "news_df.head()"
   ]
  },
  {
   "cell_type": "code",
   "execution_count": 67,
   "id": "ee66f7f4",
   "metadata": {},
   "outputs": [],
   "source": [
    "# Rename 'Date' column to 'date' in stock_df and convert to datetime format\n",
    "stock_df.rename(columns={'Date': 'date'}, inplace=True)"
   ]
  },
  {
   "cell_type": "code",
   "execution_count": 68,
   "id": "9cd82306",
   "metadata": {},
   "outputs": [
    {
     "data": {
      "application/vnd.microsoft.datawrangler.viewer.v0+json": {
       "columns": [
        {
         "name": "index",
         "rawType": "int64",
         "type": "integer"
        },
        {
         "name": "date",
         "rawType": "datetime64[ns]",
         "type": "datetime"
        },
        {
         "name": "Open",
         "rawType": "float64",
         "type": "float"
        },
        {
         "name": "High",
         "rawType": "float64",
         "type": "float"
        },
        {
         "name": "Low",
         "rawType": "float64",
         "type": "float"
        },
        {
         "name": "Close",
         "rawType": "float64",
         "type": "float"
        },
        {
         "name": "Adj Close",
         "rawType": "float64",
         "type": "float"
        },
        {
         "name": "Volume",
         "rawType": "int64",
         "type": "integer"
        },
        {
         "name": "Dividends",
         "rawType": "float64",
         "type": "float"
        },
        {
         "name": "Stock Splits",
         "rawType": "float64",
         "type": "float"
        },
        {
         "name": "Company",
         "rawType": "object",
         "type": "string"
        }
       ],
       "ref": "dbccdae6-6c67-44cd-884a-6239898b8299",
       "rows": [
        [
         "0",
         "1980-12-12 00:00:00",
         "0.1283479928970337",
         "0.1289059966802597",
         "0.1283479928970337",
         "0.1283479928970337",
         "0.098943218588829",
         "469033600",
         "0.0",
         "0.0",
         "Apple"
        ],
        [
         "1",
         "1980-12-15 00:00:00",
         "0.1222100034356117",
         "0.1222100034356117",
         "0.1216519996523857",
         "0.1216519996523857",
         "0.093781292438507",
         "175884800",
         "0.0",
         "0.0",
         "Apple"
        ],
        [
         "2",
         "1980-12-16 00:00:00",
         "0.1132809966802597",
         "0.1132809966802597",
         "0.1127230003476142",
         "0.1127230003476142",
         "0.0868979692459106",
         "105728000",
         "0.0",
         "0.0",
         "Apple"
        ],
        [
         "3",
         "1980-12-17 00:00:00",
         "0.1155129969120025",
         "0.1160710006952285",
         "0.1155129969120025",
         "0.1155129969120025",
         "0.089048758149147",
         "86441600",
         "0.0",
         "0.0",
         "Apple"
        ],
        [
         "4",
         "1980-12-18 00:00:00",
         "0.1188620030879974",
         "0.1194199994206428",
         "0.1188620030879974",
         "0.1188620030879974",
         "0.0916304588317871",
         "73449600",
         "0.0",
         "0.0",
         "Apple"
        ]
       ],
       "shape": {
        "columns": 10,
        "rows": 5
       }
      },
      "text/html": [
       "<div>\n",
       "<style scoped>\n",
       "    .dataframe tbody tr th:only-of-type {\n",
       "        vertical-align: middle;\n",
       "    }\n",
       "\n",
       "    .dataframe tbody tr th {\n",
       "        vertical-align: top;\n",
       "    }\n",
       "\n",
       "    .dataframe thead th {\n",
       "        text-align: right;\n",
       "    }\n",
       "</style>\n",
       "<table border=\"1\" class=\"dataframe\">\n",
       "  <thead>\n",
       "    <tr style=\"text-align: right;\">\n",
       "      <th></th>\n",
       "      <th>date</th>\n",
       "      <th>Open</th>\n",
       "      <th>High</th>\n",
       "      <th>Low</th>\n",
       "      <th>Close</th>\n",
       "      <th>Adj Close</th>\n",
       "      <th>Volume</th>\n",
       "      <th>Dividends</th>\n",
       "      <th>Stock Splits</th>\n",
       "      <th>Company</th>\n",
       "    </tr>\n",
       "  </thead>\n",
       "  <tbody>\n",
       "    <tr>\n",
       "      <th>0</th>\n",
       "      <td>1980-12-12</td>\n",
       "      <td>0.128348</td>\n",
       "      <td>0.128906</td>\n",
       "      <td>0.128348</td>\n",
       "      <td>0.128348</td>\n",
       "      <td>0.098943</td>\n",
       "      <td>469033600</td>\n",
       "      <td>0.0</td>\n",
       "      <td>0.0</td>\n",
       "      <td>Apple</td>\n",
       "    </tr>\n",
       "    <tr>\n",
       "      <th>1</th>\n",
       "      <td>1980-12-15</td>\n",
       "      <td>0.122210</td>\n",
       "      <td>0.122210</td>\n",
       "      <td>0.121652</td>\n",
       "      <td>0.121652</td>\n",
       "      <td>0.093781</td>\n",
       "      <td>175884800</td>\n",
       "      <td>0.0</td>\n",
       "      <td>0.0</td>\n",
       "      <td>Apple</td>\n",
       "    </tr>\n",
       "    <tr>\n",
       "      <th>2</th>\n",
       "      <td>1980-12-16</td>\n",
       "      <td>0.113281</td>\n",
       "      <td>0.113281</td>\n",
       "      <td>0.112723</td>\n",
       "      <td>0.112723</td>\n",
       "      <td>0.086898</td>\n",
       "      <td>105728000</td>\n",
       "      <td>0.0</td>\n",
       "      <td>0.0</td>\n",
       "      <td>Apple</td>\n",
       "    </tr>\n",
       "    <tr>\n",
       "      <th>3</th>\n",
       "      <td>1980-12-17</td>\n",
       "      <td>0.115513</td>\n",
       "      <td>0.116071</td>\n",
       "      <td>0.115513</td>\n",
       "      <td>0.115513</td>\n",
       "      <td>0.089049</td>\n",
       "      <td>86441600</td>\n",
       "      <td>0.0</td>\n",
       "      <td>0.0</td>\n",
       "      <td>Apple</td>\n",
       "    </tr>\n",
       "    <tr>\n",
       "      <th>4</th>\n",
       "      <td>1980-12-18</td>\n",
       "      <td>0.118862</td>\n",
       "      <td>0.119420</td>\n",
       "      <td>0.118862</td>\n",
       "      <td>0.118862</td>\n",
       "      <td>0.091630</td>\n",
       "      <td>73449600</td>\n",
       "      <td>0.0</td>\n",
       "      <td>0.0</td>\n",
       "      <td>Apple</td>\n",
       "    </tr>\n",
       "  </tbody>\n",
       "</table>\n",
       "</div>"
      ],
      "text/plain": [
       "        date      Open      High       Low     Close  Adj Close     Volume  \\\n",
       "0 1980-12-12  0.128348  0.128906  0.128348  0.128348   0.098943  469033600   \n",
       "1 1980-12-15  0.122210  0.122210  0.121652  0.121652   0.093781  175884800   \n",
       "2 1980-12-16  0.113281  0.113281  0.112723  0.112723   0.086898  105728000   \n",
       "3 1980-12-17  0.115513  0.116071  0.115513  0.115513   0.089049   86441600   \n",
       "4 1980-12-18  0.118862  0.119420  0.118862  0.118862   0.091630   73449600   \n",
       "\n",
       "   Dividends  Stock Splits Company  \n",
       "0        0.0           0.0   Apple  \n",
       "1        0.0           0.0   Apple  \n",
       "2        0.0           0.0   Apple  \n",
       "3        0.0           0.0   Apple  \n",
       "4        0.0           0.0   Apple  "
      ]
     },
     "execution_count": 68,
     "metadata": {},
     "output_type": "execute_result"
    }
   ],
   "source": [
    "stock_df.head()"
   ]
  },
  {
   "cell_type": "code",
   "execution_count": 69,
   "id": "53c4dc87",
   "metadata": {},
   "outputs": [],
   "source": [
    "news_df['date'] = pd.to_datetime(news_df['date']).dt.date\n",
    "stock_df['date'] = pd.to_datetime(stock_df['date']).dt.date"
   ]
  },
  {
   "cell_type": "code",
   "execution_count": 70,
   "id": "3e3300c5",
   "metadata": {},
   "outputs": [
    {
     "data": {
      "application/vnd.microsoft.datawrangler.viewer.v0+json": {
       "columns": [
        {
         "name": "index",
         "rawType": "int64",
         "type": "integer"
        },
        {
         "name": "url",
         "rawType": "object",
         "type": "string"
        },
        {
         "name": "publisher",
         "rawType": "object",
         "type": "string"
        },
        {
         "name": "date",
         "rawType": "object",
         "type": "unknown"
        },
        {
         "name": "stock",
         "rawType": "object",
         "type": "string"
        },
        {
         "name": "Open",
         "rawType": "float64",
         "type": "float"
        },
        {
         "name": "High",
         "rawType": "float64",
         "type": "float"
        },
        {
         "name": "Low",
         "rawType": "float64",
         "type": "float"
        },
        {
         "name": "Close",
         "rawType": "float64",
         "type": "float"
        },
        {
         "name": "Adj Close",
         "rawType": "float64",
         "type": "float"
        },
        {
         "name": "Volume",
         "rawType": "int64",
         "type": "integer"
        },
        {
         "name": "Dividends",
         "rawType": "float64",
         "type": "float"
        },
        {
         "name": "Stock Splits",
         "rawType": "float64",
         "type": "float"
        },
        {
         "name": "Company",
         "rawType": "object",
         "type": "string"
        }
       ],
       "ref": "308dbd5d-13d0-40ad-82e6-e926019da386",
       "rows": [
        [
         "0",
         "https://www.benzinga.com/news/20/06/16190091/stocks-that-hit-52-week-highs-on-friday",
         "Benzinga Insights",
         "2020-06-05",
         "A",
         "80.8375015258789",
         "82.9375",
         "80.80750274658203",
         "82.875",
         "80.8434066772461",
         "137250400",
         "0.0",
         "0.0",
         "Apple"
        ],
        [
         "1",
         "https://www.benzinga.com/news/20/06/16190091/stocks-that-hit-52-week-highs-on-friday",
         "Benzinga Insights",
         "2020-06-05",
         "A",
         "122.22550201416016",
         "124.43250274658205",
         "121.85649871826172",
         "124.1500015258789",
         "124.1500015258789",
         "66128000",
         "0.0",
         "0.0",
         "Amazon"
        ],
        [
         "2",
         "https://www.benzinga.com/news/20/06/16190091/stocks-that-hit-52-week-highs-on-friday",
         "Benzinga Insights",
         "2020-06-05",
         "A",
         "70.65850067138672",
         "72.25250244140625",
         "70.30000305175781",
         "71.91950225830078",
         "71.83775329589844",
         "34698000",
         "0.0",
         "0.0",
         "Google"
        ],
        [
         "3",
         "https://www.benzinga.com/news/20/06/16190091/stocks-that-hit-52-week-highs-on-friday",
         "Benzinga Insights",
         "2020-06-05",
         "A",
         "226.7100067138672",
         "231.3500061035156",
         "225.30999755859372",
         "230.7700042724609",
         "230.2967529296875",
         "16750400",
         "0.0",
         "0.0",
         "Meta"
        ],
        [
         "4",
         "https://www.benzinga.com/news/20/06/16190091/stocks-that-hit-52-week-highs-on-friday",
         "Benzinga Insights",
         "2020-06-05",
         "A",
         "182.6199951171875",
         "187.72999572753903",
         "182.00999450683597",
         "187.1999969482422",
         "180.403564453125",
         "39893600",
         "0.0",
         "0.0",
         "Microsoft"
        ]
       ],
       "shape": {
        "columns": 13,
        "rows": 5
       }
      },
      "text/html": [
       "<div>\n",
       "<style scoped>\n",
       "    .dataframe tbody tr th:only-of-type {\n",
       "        vertical-align: middle;\n",
       "    }\n",
       "\n",
       "    .dataframe tbody tr th {\n",
       "        vertical-align: top;\n",
       "    }\n",
       "\n",
       "    .dataframe thead th {\n",
       "        text-align: right;\n",
       "    }\n",
       "</style>\n",
       "<table border=\"1\" class=\"dataframe\">\n",
       "  <thead>\n",
       "    <tr style=\"text-align: right;\">\n",
       "      <th></th>\n",
       "      <th>url</th>\n",
       "      <th>publisher</th>\n",
       "      <th>date</th>\n",
       "      <th>stock</th>\n",
       "      <th>Open</th>\n",
       "      <th>High</th>\n",
       "      <th>Low</th>\n",
       "      <th>Close</th>\n",
       "      <th>Adj Close</th>\n",
       "      <th>Volume</th>\n",
       "      <th>Dividends</th>\n",
       "      <th>Stock Splits</th>\n",
       "      <th>Company</th>\n",
       "    </tr>\n",
       "  </thead>\n",
       "  <tbody>\n",
       "    <tr>\n",
       "      <th>0</th>\n",
       "      <td>https://www.benzinga.com/news/20/06/16190091/s...</td>\n",
       "      <td>Benzinga Insights</td>\n",
       "      <td>2020-06-05</td>\n",
       "      <td>A</td>\n",
       "      <td>80.837502</td>\n",
       "      <td>82.937500</td>\n",
       "      <td>80.807503</td>\n",
       "      <td>82.875000</td>\n",
       "      <td>80.843407</td>\n",
       "      <td>137250400</td>\n",
       "      <td>0.0</td>\n",
       "      <td>0.0</td>\n",
       "      <td>Apple</td>\n",
       "    </tr>\n",
       "    <tr>\n",
       "      <th>1</th>\n",
       "      <td>https://www.benzinga.com/news/20/06/16190091/s...</td>\n",
       "      <td>Benzinga Insights</td>\n",
       "      <td>2020-06-05</td>\n",
       "      <td>A</td>\n",
       "      <td>122.225502</td>\n",
       "      <td>124.432503</td>\n",
       "      <td>121.856499</td>\n",
       "      <td>124.150002</td>\n",
       "      <td>124.150002</td>\n",
       "      <td>66128000</td>\n",
       "      <td>0.0</td>\n",
       "      <td>0.0</td>\n",
       "      <td>Amazon</td>\n",
       "    </tr>\n",
       "    <tr>\n",
       "      <th>2</th>\n",
       "      <td>https://www.benzinga.com/news/20/06/16190091/s...</td>\n",
       "      <td>Benzinga Insights</td>\n",
       "      <td>2020-06-05</td>\n",
       "      <td>A</td>\n",
       "      <td>70.658501</td>\n",
       "      <td>72.252502</td>\n",
       "      <td>70.300003</td>\n",
       "      <td>71.919502</td>\n",
       "      <td>71.837753</td>\n",
       "      <td>34698000</td>\n",
       "      <td>0.0</td>\n",
       "      <td>0.0</td>\n",
       "      <td>Google</td>\n",
       "    </tr>\n",
       "    <tr>\n",
       "      <th>3</th>\n",
       "      <td>https://www.benzinga.com/news/20/06/16190091/s...</td>\n",
       "      <td>Benzinga Insights</td>\n",
       "      <td>2020-06-05</td>\n",
       "      <td>A</td>\n",
       "      <td>226.710007</td>\n",
       "      <td>231.350006</td>\n",
       "      <td>225.309998</td>\n",
       "      <td>230.770004</td>\n",
       "      <td>230.296753</td>\n",
       "      <td>16750400</td>\n",
       "      <td>0.0</td>\n",
       "      <td>0.0</td>\n",
       "      <td>Meta</td>\n",
       "    </tr>\n",
       "    <tr>\n",
       "      <th>4</th>\n",
       "      <td>https://www.benzinga.com/news/20/06/16190091/s...</td>\n",
       "      <td>Benzinga Insights</td>\n",
       "      <td>2020-06-05</td>\n",
       "      <td>A</td>\n",
       "      <td>182.619995</td>\n",
       "      <td>187.729996</td>\n",
       "      <td>182.009995</td>\n",
       "      <td>187.199997</td>\n",
       "      <td>180.403564</td>\n",
       "      <td>39893600</td>\n",
       "      <td>0.0</td>\n",
       "      <td>0.0</td>\n",
       "      <td>Microsoft</td>\n",
       "    </tr>\n",
       "  </tbody>\n",
       "</table>\n",
       "</div>"
      ],
      "text/plain": [
       "                                                 url          publisher  \\\n",
       "0  https://www.benzinga.com/news/20/06/16190091/s...  Benzinga Insights   \n",
       "1  https://www.benzinga.com/news/20/06/16190091/s...  Benzinga Insights   \n",
       "2  https://www.benzinga.com/news/20/06/16190091/s...  Benzinga Insights   \n",
       "3  https://www.benzinga.com/news/20/06/16190091/s...  Benzinga Insights   \n",
       "4  https://www.benzinga.com/news/20/06/16190091/s...  Benzinga Insights   \n",
       "\n",
       "         date stock        Open        High         Low       Close  \\\n",
       "0  2020-06-05     A   80.837502   82.937500   80.807503   82.875000   \n",
       "1  2020-06-05     A  122.225502  124.432503  121.856499  124.150002   \n",
       "2  2020-06-05     A   70.658501   72.252502   70.300003   71.919502   \n",
       "3  2020-06-05     A  226.710007  231.350006  225.309998  230.770004   \n",
       "4  2020-06-05     A  182.619995  187.729996  182.009995  187.199997   \n",
       "\n",
       "    Adj Close     Volume  Dividends  Stock Splits    Company  \n",
       "0   80.843407  137250400        0.0           0.0      Apple  \n",
       "1  124.150002   66128000        0.0           0.0     Amazon  \n",
       "2   71.837753   34698000        0.0           0.0     Google  \n",
       "3  230.296753   16750400        0.0           0.0       Meta  \n",
       "4  180.403564   39893600        0.0           0.0  Microsoft  "
      ]
     },
     "execution_count": 70,
     "metadata": {},
     "output_type": "execute_result"
    }
   ],
   "source": [
    "# Merge the two DataFrames on the 'date' column\n",
    "merged_df = pd.merge(news_df, stock_df, on='date')\n",
    "merged_df.head()"
   ]
  },
  {
   "cell_type": "code",
   "execution_count": 71,
   "id": "f50662db",
   "metadata": {},
   "outputs": [
    {
     "data": {
      "application/vnd.microsoft.datawrangler.viewer.v0+json": {
       "columns": [
        {
         "name": "index",
         "rawType": "object",
         "type": "string"
        },
        {
         "name": "0",
         "rawType": "int64",
         "type": "integer"
        }
       ],
       "ref": "32fb482f-08f6-4f08-a7d8-480f7acfc63d",
       "rows": [
        [
         "url",
         "0"
        ],
        [
         "publisher",
         "0"
        ],
        [
         "date",
         "0"
        ],
        [
         "stock",
         "0"
        ],
        [
         "Open",
         "0"
        ],
        [
         "High",
         "0"
        ],
        [
         "Low",
         "0"
        ],
        [
         "Close",
         "0"
        ],
        [
         "Adj Close",
         "0"
        ],
        [
         "Volume",
         "0"
        ],
        [
         "Dividends",
         "0"
        ],
        [
         "Stock Splits",
         "0"
        ],
        [
         "Company",
         "0"
        ]
       ],
       "shape": {
        "columns": 1,
        "rows": 13
       }
      },
      "text/plain": [
       "url             0\n",
       "publisher       0\n",
       "date            0\n",
       "stock           0\n",
       "Open            0\n",
       "High            0\n",
       "Low             0\n",
       "Close           0\n",
       "Adj Close       0\n",
       "Volume          0\n",
       "Dividends       0\n",
       "Stock Splits    0\n",
       "Company         0\n",
       "dtype: int64"
      ]
     },
     "execution_count": 71,
     "metadata": {},
     "output_type": "execute_result"
    }
   ],
   "source": [
    "merged_df.isnull().sum()"
   ]
  },
  {
   "cell_type": "code",
   "execution_count": 72,
   "id": "0921d17b",
   "metadata": {},
   "outputs": [
    {
     "data": {
      "text/plain": [
       "np.int64(0)"
      ]
     },
     "execution_count": 72,
     "metadata": {},
     "output_type": "execute_result"
    }
   ],
   "source": [
    "merged_df.duplicated().sum()"
   ]
  },
  {
   "cell_type": "code",
   "execution_count": 73,
   "id": "38d1a3f3",
   "metadata": {},
   "outputs": [
    {
     "data": {
      "application/vnd.microsoft.datawrangler.viewer.v0+json": {
       "columns": [
        {
         "name": "index",
         "rawType": "object",
         "type": "string"
        },
        {
         "name": "Open",
         "rawType": "float64",
         "type": "float"
        },
        {
         "name": "High",
         "rawType": "float64",
         "type": "float"
        },
        {
         "name": "Low",
         "rawType": "float64",
         "type": "float"
        },
        {
         "name": "Close",
         "rawType": "float64",
         "type": "float"
        },
        {
         "name": "Adj Close",
         "rawType": "float64",
         "type": "float"
        },
        {
         "name": "Volume",
         "rawType": "float64",
         "type": "float"
        },
        {
         "name": "Dividends",
         "rawType": "float64",
         "type": "float"
        },
        {
         "name": "Stock Splits",
         "rawType": "float64",
         "type": "float"
        }
       ],
       "ref": "55a7dd35-f10c-40ce-a7e0-8ffc521549b5",
       "rows": [
        [
         "count",
         "285028.0",
         "285028.0",
         "285028.0",
         "285028.0",
         "285028.0",
         "285028.0",
         "285028.0",
         "285028.0"
        ],
        [
         "mean",
         "76.11221309119557",
         "77.27787630769424",
         "75.07137693698645",
         "76.21012419114534",
         "74.92538240724963",
         "155129534.86479926",
         "0.0017232685525632569",
         "0.00012643561860589136"
        ],
        [
         "std",
         "62.45252238686438",
         "63.36988278619343",
         "61.634852081326954",
         "62.555049460075125",
         "61.79718621735236",
         "202670187.72655863",
         "0.025836662090891454",
         "0.02399264405363348"
        ],
        [
         "min",
         "0.2872500121593475",
         "0.2907499969005584",
         "0.2787500023841858",
         "0.2845000028610229",
         "0.2609510123729706",
         "158434.0",
         "0.0",
         "0.0"
        ],
        [
         "25%",
         "24.667499542236328",
         "25.059999465942383",
         "24.07999992370605",
         "24.665000915527344",
         "23.30250072479248",
         "32410000.0",
         "0.0",
         "0.0"
        ],
        [
         "50%",
         "61.56666564941406",
         "62.94449996948242",
         "60.61066818237305",
         "61.23249816894531",
         "60.25362014770508",
         "75872000.0",
         "0.0",
         "0.0"
        ],
        [
         "75%",
         "116.47200012207033",
         "117.56999969482422",
         "114.20999908447266",
         "115.79949951171876",
         "115.7040023803711",
         "189620000.0",
         "0.0",
         "0.0"
        ],
        [
         "max",
         "240.9600067138672",
         "241.2100067138672",
         "235.27999877929688",
         "238.6699981689453",
         "238.18055725097656",
         "3692928000.0",
         "0.51",
         "7.0"
        ]
       ],
       "shape": {
        "columns": 8,
        "rows": 8
       }
      },
      "text/html": [
       "<div>\n",
       "<style scoped>\n",
       "    .dataframe tbody tr th:only-of-type {\n",
       "        vertical-align: middle;\n",
       "    }\n",
       "\n",
       "    .dataframe tbody tr th {\n",
       "        vertical-align: top;\n",
       "    }\n",
       "\n",
       "    .dataframe thead th {\n",
       "        text-align: right;\n",
       "    }\n",
       "</style>\n",
       "<table border=\"1\" class=\"dataframe\">\n",
       "  <thead>\n",
       "    <tr style=\"text-align: right;\">\n",
       "      <th></th>\n",
       "      <th>Open</th>\n",
       "      <th>High</th>\n",
       "      <th>Low</th>\n",
       "      <th>Close</th>\n",
       "      <th>Adj Close</th>\n",
       "      <th>Volume</th>\n",
       "      <th>Dividends</th>\n",
       "      <th>Stock Splits</th>\n",
       "    </tr>\n",
       "  </thead>\n",
       "  <tbody>\n",
       "    <tr>\n",
       "      <th>count</th>\n",
       "      <td>285028.000000</td>\n",
       "      <td>285028.000000</td>\n",
       "      <td>285028.000000</td>\n",
       "      <td>285028.000000</td>\n",
       "      <td>285028.000000</td>\n",
       "      <td>2.850280e+05</td>\n",
       "      <td>285028.000000</td>\n",
       "      <td>285028.000000</td>\n",
       "    </tr>\n",
       "    <tr>\n",
       "      <th>mean</th>\n",
       "      <td>76.112213</td>\n",
       "      <td>77.277876</td>\n",
       "      <td>75.071377</td>\n",
       "      <td>76.210124</td>\n",
       "      <td>74.925382</td>\n",
       "      <td>1.551295e+08</td>\n",
       "      <td>0.001723</td>\n",
       "      <td>0.000126</td>\n",
       "    </tr>\n",
       "    <tr>\n",
       "      <th>std</th>\n",
       "      <td>62.452522</td>\n",
       "      <td>63.369883</td>\n",
       "      <td>61.634852</td>\n",
       "      <td>62.555049</td>\n",
       "      <td>61.797186</td>\n",
       "      <td>2.026702e+08</td>\n",
       "      <td>0.025837</td>\n",
       "      <td>0.023993</td>\n",
       "    </tr>\n",
       "    <tr>\n",
       "      <th>min</th>\n",
       "      <td>0.287250</td>\n",
       "      <td>0.290750</td>\n",
       "      <td>0.278750</td>\n",
       "      <td>0.284500</td>\n",
       "      <td>0.260951</td>\n",
       "      <td>1.584340e+05</td>\n",
       "      <td>0.000000</td>\n",
       "      <td>0.000000</td>\n",
       "    </tr>\n",
       "    <tr>\n",
       "      <th>25%</th>\n",
       "      <td>24.667500</td>\n",
       "      <td>25.059999</td>\n",
       "      <td>24.080000</td>\n",
       "      <td>24.665001</td>\n",
       "      <td>23.302501</td>\n",
       "      <td>3.241000e+07</td>\n",
       "      <td>0.000000</td>\n",
       "      <td>0.000000</td>\n",
       "    </tr>\n",
       "    <tr>\n",
       "      <th>50%</th>\n",
       "      <td>61.566666</td>\n",
       "      <td>62.944500</td>\n",
       "      <td>60.610668</td>\n",
       "      <td>61.232498</td>\n",
       "      <td>60.253620</td>\n",
       "      <td>7.587200e+07</td>\n",
       "      <td>0.000000</td>\n",
       "      <td>0.000000</td>\n",
       "    </tr>\n",
       "    <tr>\n",
       "      <th>75%</th>\n",
       "      <td>116.472000</td>\n",
       "      <td>117.570000</td>\n",
       "      <td>114.209999</td>\n",
       "      <td>115.799500</td>\n",
       "      <td>115.704002</td>\n",
       "      <td>1.896200e+08</td>\n",
       "      <td>0.000000</td>\n",
       "      <td>0.000000</td>\n",
       "    </tr>\n",
       "    <tr>\n",
       "      <th>max</th>\n",
       "      <td>240.960007</td>\n",
       "      <td>241.210007</td>\n",
       "      <td>235.279999</td>\n",
       "      <td>238.669998</td>\n",
       "      <td>238.180557</td>\n",
       "      <td>3.692928e+09</td>\n",
       "      <td>0.510000</td>\n",
       "      <td>7.000000</td>\n",
       "    </tr>\n",
       "  </tbody>\n",
       "</table>\n",
       "</div>"
      ],
      "text/plain": [
       "                Open           High            Low          Close  \\\n",
       "count  285028.000000  285028.000000  285028.000000  285028.000000   \n",
       "mean       76.112213      77.277876      75.071377      76.210124   \n",
       "std        62.452522      63.369883      61.634852      62.555049   \n",
       "min         0.287250       0.290750       0.278750       0.284500   \n",
       "25%        24.667500      25.059999      24.080000      24.665001   \n",
       "50%        61.566666      62.944500      60.610668      61.232498   \n",
       "75%       116.472000     117.570000     114.209999     115.799500   \n",
       "max       240.960007     241.210007     235.279999     238.669998   \n",
       "\n",
       "           Adj Close        Volume      Dividends   Stock Splits  \n",
       "count  285028.000000  2.850280e+05  285028.000000  285028.000000  \n",
       "mean       74.925382  1.551295e+08       0.001723       0.000126  \n",
       "std        61.797186  2.026702e+08       0.025837       0.023993  \n",
       "min         0.260951  1.584340e+05       0.000000       0.000000  \n",
       "25%        23.302501  3.241000e+07       0.000000       0.000000  \n",
       "50%        60.253620  7.587200e+07       0.000000       0.000000  \n",
       "75%       115.704002  1.896200e+08       0.000000       0.000000  \n",
       "max       238.180557  3.692928e+09       0.510000       7.000000  "
      ]
     },
     "execution_count": 73,
     "metadata": {},
     "output_type": "execute_result"
    }
   ],
   "source": [
    "merged_df.describe()"
   ]
  },
  {
   "cell_type": "code",
   "execution_count": 78,
   "id": "64ffbf37",
   "metadata": {},
   "outputs": [],
   "source": [
    "def analyze_sentiment(text):\n",
    "    analysis = TextBlob(text)\n",
    "    return analysis.sentiment.polarity"
   ]
  },
  {
   "cell_type": "code",
   "execution_count": 79,
   "id": "21b17806",
   "metadata": {},
   "outputs": [
    {
     "ename": "KeyError",
     "evalue": "'headline'",
     "output_type": "error",
     "traceback": [
      "\u001b[31m---------------------------------------------------------------------------\u001b[39m",
      "\u001b[31mKeyError\u001b[39m                                  Traceback (most recent call last)",
      "\u001b[36mFile \u001b[39m\u001b[32md:\\10Acadamy\\week1_challenge\\.venv\\Lib\\site-packages\\pandas\\core\\indexes\\base.py:3805\u001b[39m, in \u001b[36mIndex.get_loc\u001b[39m\u001b[34m(self, key)\u001b[39m\n\u001b[32m   3804\u001b[39m \u001b[38;5;28;01mtry\u001b[39;00m:\n\u001b[32m-> \u001b[39m\u001b[32m3805\u001b[39m     \u001b[38;5;28;01mreturn\u001b[39;00m \u001b[38;5;28;43mself\u001b[39;49m\u001b[43m.\u001b[49m\u001b[43m_engine\u001b[49m\u001b[43m.\u001b[49m\u001b[43mget_loc\u001b[49m\u001b[43m(\u001b[49m\u001b[43mcasted_key\u001b[49m\u001b[43m)\u001b[49m\n\u001b[32m   3806\u001b[39m \u001b[38;5;28;01mexcept\u001b[39;00m \u001b[38;5;167;01mKeyError\u001b[39;00m \u001b[38;5;28;01mas\u001b[39;00m err:\n",
      "\u001b[36mFile \u001b[39m\u001b[32mindex.pyx:167\u001b[39m, in \u001b[36mpandas._libs.index.IndexEngine.get_loc\u001b[39m\u001b[34m()\u001b[39m\n",
      "\u001b[36mFile \u001b[39m\u001b[32mindex.pyx:196\u001b[39m, in \u001b[36mpandas._libs.index.IndexEngine.get_loc\u001b[39m\u001b[34m()\u001b[39m\n",
      "\u001b[36mFile \u001b[39m\u001b[32mpandas\\\\_libs\\\\hashtable_class_helper.pxi:7081\u001b[39m, in \u001b[36mpandas._libs.hashtable.PyObjectHashTable.get_item\u001b[39m\u001b[34m()\u001b[39m\n",
      "\u001b[36mFile \u001b[39m\u001b[32mpandas\\\\_libs\\\\hashtable_class_helper.pxi:7089\u001b[39m, in \u001b[36mpandas._libs.hashtable.PyObjectHashTable.get_item\u001b[39m\u001b[34m()\u001b[39m\n",
      "\u001b[31mKeyError\u001b[39m: 'headline'",
      "\nThe above exception was the direct cause of the following exception:\n",
      "\u001b[31mKeyError\u001b[39m                                  Traceback (most recent call last)",
      "\u001b[36mCell\u001b[39m\u001b[36m \u001b[39m\u001b[32mIn[79]\u001b[39m\u001b[32m, line 1\u001b[39m\n\u001b[32m----> \u001b[39m\u001b[32m1\u001b[39m merged_df[\u001b[33m'\u001b[39m\u001b[33msentiment\u001b[39m\u001b[33m'\u001b[39m] = \u001b[43mmerged_df\u001b[49m\u001b[43m[\u001b[49m\u001b[33;43m'\u001b[39;49m\u001b[33;43mheadline\u001b[39;49m\u001b[33;43m'\u001b[39;49m\u001b[43m]\u001b[49m.apply(analyze_sentiment)\n",
      "\u001b[36mFile \u001b[39m\u001b[32md:\\10Acadamy\\week1_challenge\\.venv\\Lib\\site-packages\\pandas\\core\\frame.py:4102\u001b[39m, in \u001b[36mDataFrame.__getitem__\u001b[39m\u001b[34m(self, key)\u001b[39m\n\u001b[32m   4100\u001b[39m \u001b[38;5;28;01mif\u001b[39;00m \u001b[38;5;28mself\u001b[39m.columns.nlevels > \u001b[32m1\u001b[39m:\n\u001b[32m   4101\u001b[39m     \u001b[38;5;28;01mreturn\u001b[39;00m \u001b[38;5;28mself\u001b[39m._getitem_multilevel(key)\n\u001b[32m-> \u001b[39m\u001b[32m4102\u001b[39m indexer = \u001b[38;5;28;43mself\u001b[39;49m\u001b[43m.\u001b[49m\u001b[43mcolumns\u001b[49m\u001b[43m.\u001b[49m\u001b[43mget_loc\u001b[49m\u001b[43m(\u001b[49m\u001b[43mkey\u001b[49m\u001b[43m)\u001b[49m\n\u001b[32m   4103\u001b[39m \u001b[38;5;28;01mif\u001b[39;00m is_integer(indexer):\n\u001b[32m   4104\u001b[39m     indexer = [indexer]\n",
      "\u001b[36mFile \u001b[39m\u001b[32md:\\10Acadamy\\week1_challenge\\.venv\\Lib\\site-packages\\pandas\\core\\indexes\\base.py:3812\u001b[39m, in \u001b[36mIndex.get_loc\u001b[39m\u001b[34m(self, key)\u001b[39m\n\u001b[32m   3807\u001b[39m     \u001b[38;5;28;01mif\u001b[39;00m \u001b[38;5;28misinstance\u001b[39m(casted_key, \u001b[38;5;28mslice\u001b[39m) \u001b[38;5;129;01mor\u001b[39;00m (\n\u001b[32m   3808\u001b[39m         \u001b[38;5;28misinstance\u001b[39m(casted_key, abc.Iterable)\n\u001b[32m   3809\u001b[39m         \u001b[38;5;129;01mand\u001b[39;00m \u001b[38;5;28many\u001b[39m(\u001b[38;5;28misinstance\u001b[39m(x, \u001b[38;5;28mslice\u001b[39m) \u001b[38;5;28;01mfor\u001b[39;00m x \u001b[38;5;129;01min\u001b[39;00m casted_key)\n\u001b[32m   3810\u001b[39m     ):\n\u001b[32m   3811\u001b[39m         \u001b[38;5;28;01mraise\u001b[39;00m InvalidIndexError(key)\n\u001b[32m-> \u001b[39m\u001b[32m3812\u001b[39m     \u001b[38;5;28;01mraise\u001b[39;00m \u001b[38;5;167;01mKeyError\u001b[39;00m(key) \u001b[38;5;28;01mfrom\u001b[39;00m\u001b[38;5;250m \u001b[39m\u001b[34;01merr\u001b[39;00m\n\u001b[32m   3813\u001b[39m \u001b[38;5;28;01mexcept\u001b[39;00m \u001b[38;5;167;01mTypeError\u001b[39;00m:\n\u001b[32m   3814\u001b[39m     \u001b[38;5;66;03m# If we have a listlike key, _check_indexing_error will raise\u001b[39;00m\n\u001b[32m   3815\u001b[39m     \u001b[38;5;66;03m#  InvalidIndexError. Otherwise we fall through and re-raise\u001b[39;00m\n\u001b[32m   3816\u001b[39m     \u001b[38;5;66;03m#  the TypeError.\u001b[39;00m\n\u001b[32m   3817\u001b[39m     \u001b[38;5;28mself\u001b[39m._check_indexing_error(key)\n",
      "\u001b[31mKeyError\u001b[39m: 'headline'"
     ]
    }
   ],
   "source": [
    "merged_df['sentiment'] = merged_df['headline'].apply(analyze_sentiment)"
   ]
  },
  {
   "cell_type": "code",
   "execution_count": 39,
   "id": "f6bb234b",
   "metadata": {},
   "outputs": [],
   "source": [
    "# Save the sentimented dataset to a CSV file\n",
    "merged_df.to_csv('sentimented_df.csv', index=False)"
   ]
  },
  {
   "cell_type": "code",
   "execution_count": 40,
   "id": "f86ddd5c",
   "metadata": {},
   "outputs": [
    {
     "data": {
      "application/vnd.microsoft.datawrangler.viewer.v0+json": {
       "columns": [
        {
         "name": "index",
         "rawType": "int64",
         "type": "integer"
        },
        {
         "name": "headline",
         "rawType": "object",
         "type": "string"
        },
        {
         "name": "url",
         "rawType": "object",
         "type": "string"
        },
        {
         "name": "publisher",
         "rawType": "object",
         "type": "string"
        },
        {
         "name": "date",
         "rawType": "object",
         "type": "unknown"
        },
        {
         "name": "stock",
         "rawType": "object",
         "type": "string"
        },
        {
         "name": "Open",
         "rawType": "float64",
         "type": "float"
        },
        {
         "name": "High",
         "rawType": "float64",
         "type": "float"
        },
        {
         "name": "Low",
         "rawType": "float64",
         "type": "float"
        },
        {
         "name": "Close",
         "rawType": "float64",
         "type": "float"
        },
        {
         "name": "Adj Close",
         "rawType": "float64",
         "type": "float"
        },
        {
         "name": "Volume",
         "rawType": "int64",
         "type": "integer"
        },
        {
         "name": "Dividends",
         "rawType": "float64",
         "type": "float"
        },
        {
         "name": "Stock Splits",
         "rawType": "float64",
         "type": "float"
        },
        {
         "name": "Company",
         "rawType": "object",
         "type": "string"
        },
        {
         "name": "sentiment",
         "rawType": "float64",
         "type": "float"
        }
       ],
       "ref": "ae07e9c7-c3b2-485b-9338-c7b353c70d1b",
       "rows": [
        [
         "0",
         "Stocks That Hit 52-Week Highs On Friday",
         "https://www.benzinga.com/news/20/06/16190091/stocks-that-hit-52-week-highs-on-friday",
         "Benzinga Insights",
         "2020-06-05",
         "A",
         "80.8375015258789",
         "82.9375",
         "80.80750274658203",
         "82.875",
         "80.8434066772461",
         "137250400",
         "0.0",
         "0.0",
         "Apple",
         "0.0"
        ],
        [
         "1",
         "Stocks That Hit 52-Week Highs On Friday",
         "https://www.benzinga.com/news/20/06/16190091/stocks-that-hit-52-week-highs-on-friday",
         "Benzinga Insights",
         "2020-06-05",
         "A",
         "122.22550201416016",
         "124.43250274658205",
         "121.85649871826172",
         "124.1500015258789",
         "124.1500015258789",
         "66128000",
         "0.0",
         "0.0",
         "Amazon",
         "0.0"
        ],
        [
         "2",
         "Stocks That Hit 52-Week Highs On Friday",
         "https://www.benzinga.com/news/20/06/16190091/stocks-that-hit-52-week-highs-on-friday",
         "Benzinga Insights",
         "2020-06-05",
         "A",
         "70.65850067138672",
         "72.25250244140625",
         "70.30000305175781",
         "71.91950225830078",
         "71.83775329589844",
         "34698000",
         "0.0",
         "0.0",
         "Google",
         "0.0"
        ],
        [
         "3",
         "Stocks That Hit 52-Week Highs On Friday",
         "https://www.benzinga.com/news/20/06/16190091/stocks-that-hit-52-week-highs-on-friday",
         "Benzinga Insights",
         "2020-06-05",
         "A",
         "226.7100067138672",
         "231.3500061035156",
         "225.30999755859372",
         "230.7700042724609",
         "230.2967529296875",
         "16750400",
         "0.0",
         "0.0",
         "Meta",
         "0.0"
        ],
        [
         "4",
         "Stocks That Hit 52-Week Highs On Friday",
         "https://www.benzinga.com/news/20/06/16190091/stocks-that-hit-52-week-highs-on-friday",
         "Benzinga Insights",
         "2020-06-05",
         "A",
         "182.6199951171875",
         "187.72999572753903",
         "182.00999450683597",
         "187.1999969482422",
         "180.403564453125",
         "39893600",
         "0.0",
         "0.0",
         "Microsoft",
         "0.0"
        ]
       ],
       "shape": {
        "columns": 15,
        "rows": 5
       }
      },
      "text/html": [
       "<div>\n",
       "<style scoped>\n",
       "    .dataframe tbody tr th:only-of-type {\n",
       "        vertical-align: middle;\n",
       "    }\n",
       "\n",
       "    .dataframe tbody tr th {\n",
       "        vertical-align: top;\n",
       "    }\n",
       "\n",
       "    .dataframe thead th {\n",
       "        text-align: right;\n",
       "    }\n",
       "</style>\n",
       "<table border=\"1\" class=\"dataframe\">\n",
       "  <thead>\n",
       "    <tr style=\"text-align: right;\">\n",
       "      <th></th>\n",
       "      <th>headline</th>\n",
       "      <th>url</th>\n",
       "      <th>publisher</th>\n",
       "      <th>date</th>\n",
       "      <th>stock</th>\n",
       "      <th>Open</th>\n",
       "      <th>High</th>\n",
       "      <th>Low</th>\n",
       "      <th>Close</th>\n",
       "      <th>Adj Close</th>\n",
       "      <th>Volume</th>\n",
       "      <th>Dividends</th>\n",
       "      <th>Stock Splits</th>\n",
       "      <th>Company</th>\n",
       "      <th>sentiment</th>\n",
       "    </tr>\n",
       "  </thead>\n",
       "  <tbody>\n",
       "    <tr>\n",
       "      <th>0</th>\n",
       "      <td>Stocks That Hit 52-Week Highs On Friday</td>\n",
       "      <td>https://www.benzinga.com/news/20/06/16190091/s...</td>\n",
       "      <td>Benzinga Insights</td>\n",
       "      <td>2020-06-05</td>\n",
       "      <td>A</td>\n",
       "      <td>80.837502</td>\n",
       "      <td>82.937500</td>\n",
       "      <td>80.807503</td>\n",
       "      <td>82.875000</td>\n",
       "      <td>80.843407</td>\n",
       "      <td>137250400</td>\n",
       "      <td>0.0</td>\n",
       "      <td>0.0</td>\n",
       "      <td>Apple</td>\n",
       "      <td>0.0</td>\n",
       "    </tr>\n",
       "    <tr>\n",
       "      <th>1</th>\n",
       "      <td>Stocks That Hit 52-Week Highs On Friday</td>\n",
       "      <td>https://www.benzinga.com/news/20/06/16190091/s...</td>\n",
       "      <td>Benzinga Insights</td>\n",
       "      <td>2020-06-05</td>\n",
       "      <td>A</td>\n",
       "      <td>122.225502</td>\n",
       "      <td>124.432503</td>\n",
       "      <td>121.856499</td>\n",
       "      <td>124.150002</td>\n",
       "      <td>124.150002</td>\n",
       "      <td>66128000</td>\n",
       "      <td>0.0</td>\n",
       "      <td>0.0</td>\n",
       "      <td>Amazon</td>\n",
       "      <td>0.0</td>\n",
       "    </tr>\n",
       "    <tr>\n",
       "      <th>2</th>\n",
       "      <td>Stocks That Hit 52-Week Highs On Friday</td>\n",
       "      <td>https://www.benzinga.com/news/20/06/16190091/s...</td>\n",
       "      <td>Benzinga Insights</td>\n",
       "      <td>2020-06-05</td>\n",
       "      <td>A</td>\n",
       "      <td>70.658501</td>\n",
       "      <td>72.252502</td>\n",
       "      <td>70.300003</td>\n",
       "      <td>71.919502</td>\n",
       "      <td>71.837753</td>\n",
       "      <td>34698000</td>\n",
       "      <td>0.0</td>\n",
       "      <td>0.0</td>\n",
       "      <td>Google</td>\n",
       "      <td>0.0</td>\n",
       "    </tr>\n",
       "    <tr>\n",
       "      <th>3</th>\n",
       "      <td>Stocks That Hit 52-Week Highs On Friday</td>\n",
       "      <td>https://www.benzinga.com/news/20/06/16190091/s...</td>\n",
       "      <td>Benzinga Insights</td>\n",
       "      <td>2020-06-05</td>\n",
       "      <td>A</td>\n",
       "      <td>226.710007</td>\n",
       "      <td>231.350006</td>\n",
       "      <td>225.309998</td>\n",
       "      <td>230.770004</td>\n",
       "      <td>230.296753</td>\n",
       "      <td>16750400</td>\n",
       "      <td>0.0</td>\n",
       "      <td>0.0</td>\n",
       "      <td>Meta</td>\n",
       "      <td>0.0</td>\n",
       "    </tr>\n",
       "    <tr>\n",
       "      <th>4</th>\n",
       "      <td>Stocks That Hit 52-Week Highs On Friday</td>\n",
       "      <td>https://www.benzinga.com/news/20/06/16190091/s...</td>\n",
       "      <td>Benzinga Insights</td>\n",
       "      <td>2020-06-05</td>\n",
       "      <td>A</td>\n",
       "      <td>182.619995</td>\n",
       "      <td>187.729996</td>\n",
       "      <td>182.009995</td>\n",
       "      <td>187.199997</td>\n",
       "      <td>180.403564</td>\n",
       "      <td>39893600</td>\n",
       "      <td>0.0</td>\n",
       "      <td>0.0</td>\n",
       "      <td>Microsoft</td>\n",
       "      <td>0.0</td>\n",
       "    </tr>\n",
       "  </tbody>\n",
       "</table>\n",
       "</div>"
      ],
      "text/plain": [
       "                                  headline  \\\n",
       "0  Stocks That Hit 52-Week Highs On Friday   \n",
       "1  Stocks That Hit 52-Week Highs On Friday   \n",
       "2  Stocks That Hit 52-Week Highs On Friday   \n",
       "3  Stocks That Hit 52-Week Highs On Friday   \n",
       "4  Stocks That Hit 52-Week Highs On Friday   \n",
       "\n",
       "                                                 url          publisher  \\\n",
       "0  https://www.benzinga.com/news/20/06/16190091/s...  Benzinga Insights   \n",
       "1  https://www.benzinga.com/news/20/06/16190091/s...  Benzinga Insights   \n",
       "2  https://www.benzinga.com/news/20/06/16190091/s...  Benzinga Insights   \n",
       "3  https://www.benzinga.com/news/20/06/16190091/s...  Benzinga Insights   \n",
       "4  https://www.benzinga.com/news/20/06/16190091/s...  Benzinga Insights   \n",
       "\n",
       "         date stock        Open        High         Low       Close  \\\n",
       "0  2020-06-05     A   80.837502   82.937500   80.807503   82.875000   \n",
       "1  2020-06-05     A  122.225502  124.432503  121.856499  124.150002   \n",
       "2  2020-06-05     A   70.658501   72.252502   70.300003   71.919502   \n",
       "3  2020-06-05     A  226.710007  231.350006  225.309998  230.770004   \n",
       "4  2020-06-05     A  182.619995  187.729996  182.009995  187.199997   \n",
       "\n",
       "    Adj Close     Volume  Dividends  Stock Splits    Company  sentiment  \n",
       "0   80.843407  137250400        0.0           0.0      Apple        0.0  \n",
       "1  124.150002   66128000        0.0           0.0     Amazon        0.0  \n",
       "2   71.837753   34698000        0.0           0.0     Google        0.0  \n",
       "3  230.296753   16750400        0.0           0.0       Meta        0.0  \n",
       "4  180.403564   39893600        0.0           0.0  Microsoft        0.0  "
      ]
     },
     "execution_count": 40,
     "metadata": {},
     "output_type": "execute_result"
    }
   ],
   "source": [
    "merged_df.head()"
   ]
  },
  {
   "cell_type": "code",
   "execution_count": 41,
   "id": "132c6d28",
   "metadata": {},
   "outputs": [],
   "source": [
    "# Calculate daily stock returns\n",
    "merged_df['Daily Return'] = merged_df['Close'].pct_change() * 100"
   ]
  },
  {
   "cell_type": "code",
   "execution_count": 42,
   "id": "9a20b9ae",
   "metadata": {},
   "outputs": [
    {
     "data": {
      "application/vnd.microsoft.datawrangler.viewer.v0+json": {
       "columns": [
        {
         "name": "index",
         "rawType": "int64",
         "type": "integer"
        },
        {
         "name": "headline",
         "rawType": "object",
         "type": "string"
        },
        {
         "name": "url",
         "rawType": "object",
         "type": "string"
        },
        {
         "name": "publisher",
         "rawType": "object",
         "type": "string"
        },
        {
         "name": "date",
         "rawType": "object",
         "type": "unknown"
        },
        {
         "name": "stock",
         "rawType": "object",
         "type": "string"
        },
        {
         "name": "Open",
         "rawType": "float64",
         "type": "float"
        },
        {
         "name": "High",
         "rawType": "float64",
         "type": "float"
        },
        {
         "name": "Low",
         "rawType": "float64",
         "type": "float"
        },
        {
         "name": "Close",
         "rawType": "float64",
         "type": "float"
        },
        {
         "name": "Adj Close",
         "rawType": "float64",
         "type": "float"
        },
        {
         "name": "Volume",
         "rawType": "int64",
         "type": "integer"
        },
        {
         "name": "Dividends",
         "rawType": "float64",
         "type": "float"
        },
        {
         "name": "Stock Splits",
         "rawType": "float64",
         "type": "float"
        },
        {
         "name": "Company",
         "rawType": "object",
         "type": "string"
        },
        {
         "name": "sentiment",
         "rawType": "float64",
         "type": "float"
        },
        {
         "name": "Daily Return",
         "rawType": "float64",
         "type": "float"
        }
       ],
       "ref": "c2bfbcef-9df2-42df-acf6-b101e5a20063",
       "rows": [
        [
         "0",
         "Stocks That Hit 52-Week Highs On Friday",
         "https://www.benzinga.com/news/20/06/16190091/stocks-that-hit-52-week-highs-on-friday",
         "Benzinga Insights",
         "2020-06-05",
         "A",
         "80.8375015258789",
         "82.9375",
         "80.80750274658203",
         "82.875",
         "80.8434066772461",
         "137250400",
         "0.0",
         "0.0",
         "Apple",
         "0.0",
         null
        ],
        [
         "1",
         "Stocks That Hit 52-Week Highs On Friday",
         "https://www.benzinga.com/news/20/06/16190091/stocks-that-hit-52-week-highs-on-friday",
         "Benzinga Insights",
         "2020-06-05",
         "A",
         "122.22550201416016",
         "124.43250274658205",
         "121.85649871826172",
         "124.1500015258789",
         "124.1500015258789",
         "66128000",
         "0.0",
         "0.0",
         "Amazon",
         "0.0",
         "49.80392340980864"
        ],
        [
         "2",
         "Stocks That Hit 52-Week Highs On Friday",
         "https://www.benzinga.com/news/20/06/16190091/stocks-that-hit-52-week-highs-on-friday",
         "Benzinga Insights",
         "2020-06-05",
         "A",
         "70.65850067138672",
         "72.25250244140625",
         "70.30000305175781",
         "71.91950225830078",
         "71.83775329589844",
         "34698000",
         "0.0",
         "0.0",
         "Google",
         "0.0",
         "-42.07047815194005"
        ],
        [
         "3",
         "Stocks That Hit 52-Week Highs On Friday",
         "https://www.benzinga.com/news/20/06/16190091/stocks-that-hit-52-week-highs-on-friday",
         "Benzinga Insights",
         "2020-06-05",
         "A",
         "226.7100067138672",
         "231.3500061035156",
         "225.30999755859372",
         "230.7700042724609",
         "230.2967529296875",
         "16750400",
         "0.0",
         "0.0",
         "Meta",
         "0.0",
         "220.87263819435842"
        ],
        [
         "4",
         "Stocks That Hit 52-Week Highs On Friday",
         "https://www.benzinga.com/news/20/06/16190091/stocks-that-hit-52-week-highs-on-friday",
         "Benzinga Insights",
         "2020-06-05",
         "A",
         "182.6199951171875",
         "187.72999572753903",
         "182.00999450683597",
         "187.1999969482422",
         "180.403564453125",
         "39893600",
         "0.0",
         "0.0",
         "Microsoft",
         "0.0",
         "-18.88027322336804"
        ]
       ],
       "shape": {
        "columns": 16,
        "rows": 5
       }
      },
      "text/html": [
       "<div>\n",
       "<style scoped>\n",
       "    .dataframe tbody tr th:only-of-type {\n",
       "        vertical-align: middle;\n",
       "    }\n",
       "\n",
       "    .dataframe tbody tr th {\n",
       "        vertical-align: top;\n",
       "    }\n",
       "\n",
       "    .dataframe thead th {\n",
       "        text-align: right;\n",
       "    }\n",
       "</style>\n",
       "<table border=\"1\" class=\"dataframe\">\n",
       "  <thead>\n",
       "    <tr style=\"text-align: right;\">\n",
       "      <th></th>\n",
       "      <th>headline</th>\n",
       "      <th>url</th>\n",
       "      <th>publisher</th>\n",
       "      <th>date</th>\n",
       "      <th>stock</th>\n",
       "      <th>Open</th>\n",
       "      <th>High</th>\n",
       "      <th>Low</th>\n",
       "      <th>Close</th>\n",
       "      <th>Adj Close</th>\n",
       "      <th>Volume</th>\n",
       "      <th>Dividends</th>\n",
       "      <th>Stock Splits</th>\n",
       "      <th>Company</th>\n",
       "      <th>sentiment</th>\n",
       "      <th>Daily Return</th>\n",
       "    </tr>\n",
       "  </thead>\n",
       "  <tbody>\n",
       "    <tr>\n",
       "      <th>0</th>\n",
       "      <td>Stocks That Hit 52-Week Highs On Friday</td>\n",
       "      <td>https://www.benzinga.com/news/20/06/16190091/s...</td>\n",
       "      <td>Benzinga Insights</td>\n",
       "      <td>2020-06-05</td>\n",
       "      <td>A</td>\n",
       "      <td>80.837502</td>\n",
       "      <td>82.937500</td>\n",
       "      <td>80.807503</td>\n",
       "      <td>82.875000</td>\n",
       "      <td>80.843407</td>\n",
       "      <td>137250400</td>\n",
       "      <td>0.0</td>\n",
       "      <td>0.0</td>\n",
       "      <td>Apple</td>\n",
       "      <td>0.0</td>\n",
       "      <td>NaN</td>\n",
       "    </tr>\n",
       "    <tr>\n",
       "      <th>1</th>\n",
       "      <td>Stocks That Hit 52-Week Highs On Friday</td>\n",
       "      <td>https://www.benzinga.com/news/20/06/16190091/s...</td>\n",
       "      <td>Benzinga Insights</td>\n",
       "      <td>2020-06-05</td>\n",
       "      <td>A</td>\n",
       "      <td>122.225502</td>\n",
       "      <td>124.432503</td>\n",
       "      <td>121.856499</td>\n",
       "      <td>124.150002</td>\n",
       "      <td>124.150002</td>\n",
       "      <td>66128000</td>\n",
       "      <td>0.0</td>\n",
       "      <td>0.0</td>\n",
       "      <td>Amazon</td>\n",
       "      <td>0.0</td>\n",
       "      <td>49.803923</td>\n",
       "    </tr>\n",
       "    <tr>\n",
       "      <th>2</th>\n",
       "      <td>Stocks That Hit 52-Week Highs On Friday</td>\n",
       "      <td>https://www.benzinga.com/news/20/06/16190091/s...</td>\n",
       "      <td>Benzinga Insights</td>\n",
       "      <td>2020-06-05</td>\n",
       "      <td>A</td>\n",
       "      <td>70.658501</td>\n",
       "      <td>72.252502</td>\n",
       "      <td>70.300003</td>\n",
       "      <td>71.919502</td>\n",
       "      <td>71.837753</td>\n",
       "      <td>34698000</td>\n",
       "      <td>0.0</td>\n",
       "      <td>0.0</td>\n",
       "      <td>Google</td>\n",
       "      <td>0.0</td>\n",
       "      <td>-42.070478</td>\n",
       "    </tr>\n",
       "    <tr>\n",
       "      <th>3</th>\n",
       "      <td>Stocks That Hit 52-Week Highs On Friday</td>\n",
       "      <td>https://www.benzinga.com/news/20/06/16190091/s...</td>\n",
       "      <td>Benzinga Insights</td>\n",
       "      <td>2020-06-05</td>\n",
       "      <td>A</td>\n",
       "      <td>226.710007</td>\n",
       "      <td>231.350006</td>\n",
       "      <td>225.309998</td>\n",
       "      <td>230.770004</td>\n",
       "      <td>230.296753</td>\n",
       "      <td>16750400</td>\n",
       "      <td>0.0</td>\n",
       "      <td>0.0</td>\n",
       "      <td>Meta</td>\n",
       "      <td>0.0</td>\n",
       "      <td>220.872638</td>\n",
       "    </tr>\n",
       "    <tr>\n",
       "      <th>4</th>\n",
       "      <td>Stocks That Hit 52-Week Highs On Friday</td>\n",
       "      <td>https://www.benzinga.com/news/20/06/16190091/s...</td>\n",
       "      <td>Benzinga Insights</td>\n",
       "      <td>2020-06-05</td>\n",
       "      <td>A</td>\n",
       "      <td>182.619995</td>\n",
       "      <td>187.729996</td>\n",
       "      <td>182.009995</td>\n",
       "      <td>187.199997</td>\n",
       "      <td>180.403564</td>\n",
       "      <td>39893600</td>\n",
       "      <td>0.0</td>\n",
       "      <td>0.0</td>\n",
       "      <td>Microsoft</td>\n",
       "      <td>0.0</td>\n",
       "      <td>-18.880273</td>\n",
       "    </tr>\n",
       "  </tbody>\n",
       "</table>\n",
       "</div>"
      ],
      "text/plain": [
       "                                  headline  \\\n",
       "0  Stocks That Hit 52-Week Highs On Friday   \n",
       "1  Stocks That Hit 52-Week Highs On Friday   \n",
       "2  Stocks That Hit 52-Week Highs On Friday   \n",
       "3  Stocks That Hit 52-Week Highs On Friday   \n",
       "4  Stocks That Hit 52-Week Highs On Friday   \n",
       "\n",
       "                                                 url          publisher  \\\n",
       "0  https://www.benzinga.com/news/20/06/16190091/s...  Benzinga Insights   \n",
       "1  https://www.benzinga.com/news/20/06/16190091/s...  Benzinga Insights   \n",
       "2  https://www.benzinga.com/news/20/06/16190091/s...  Benzinga Insights   \n",
       "3  https://www.benzinga.com/news/20/06/16190091/s...  Benzinga Insights   \n",
       "4  https://www.benzinga.com/news/20/06/16190091/s...  Benzinga Insights   \n",
       "\n",
       "         date stock        Open        High         Low       Close  \\\n",
       "0  2020-06-05     A   80.837502   82.937500   80.807503   82.875000   \n",
       "1  2020-06-05     A  122.225502  124.432503  121.856499  124.150002   \n",
       "2  2020-06-05     A   70.658501   72.252502   70.300003   71.919502   \n",
       "3  2020-06-05     A  226.710007  231.350006  225.309998  230.770004   \n",
       "4  2020-06-05     A  182.619995  187.729996  182.009995  187.199997   \n",
       "\n",
       "    Adj Close     Volume  Dividends  Stock Splits    Company  sentiment  \\\n",
       "0   80.843407  137250400        0.0           0.0      Apple        0.0   \n",
       "1  124.150002   66128000        0.0           0.0     Amazon        0.0   \n",
       "2   71.837753   34698000        0.0           0.0     Google        0.0   \n",
       "3  230.296753   16750400        0.0           0.0       Meta        0.0   \n",
       "4  180.403564   39893600        0.0           0.0  Microsoft        0.0   \n",
       "\n",
       "   Daily Return  \n",
       "0           NaN  \n",
       "1     49.803923  \n",
       "2    -42.070478  \n",
       "3    220.872638  \n",
       "4    -18.880273  "
      ]
     },
     "execution_count": 42,
     "metadata": {},
     "output_type": "execute_result"
    }
   ],
   "source": [
    "merged_df.head()"
   ]
  },
  {
   "cell_type": "code",
   "execution_count": 43,
   "id": "87efb38e",
   "metadata": {},
   "outputs": [],
   "source": [
    "# Aggregate sentiments by date\n",
    "daily_sentiment = merged_df.groupby('date')['sentiment'].mean().reset_index()\n",
    "daily_sentiment.columns = ['date', 'Average Sentiment']"
   ]
  },
  {
   "cell_type": "code",
   "execution_count": 45,
   "id": "7a71c5f1",
   "metadata": {},
   "outputs": [
    {
     "data": {
      "application/vnd.microsoft.datawrangler.viewer.v0+json": {
       "columns": [
        {
         "name": "index",
         "rawType": "int64",
         "type": "integer"
        },
        {
         "name": "date",
         "rawType": "object",
         "type": "unknown"
        },
        {
         "name": "Average Sentiment",
         "rawType": "float64",
         "type": "float"
        }
       ],
       "ref": "eda93aba-3462-4722-b5c2-64b0875b6784",
       "rows": [
        [
         "0",
         "2011-04-27",
         "0.0"
        ],
        [
         "1",
         "2011-04-28",
         "0.068"
        ],
        [
         "2",
         "2011-04-29",
         "0.167"
        ],
        [
         "3",
         "2011-05-02",
         "0.0"
        ],
        [
         "4",
         "2011-05-03",
         "0.0"
        ]
       ],
       "shape": {
        "columns": 2,
        "rows": 5
       }
      },
      "text/html": [
       "<div>\n",
       "<style scoped>\n",
       "    .dataframe tbody tr th:only-of-type {\n",
       "        vertical-align: middle;\n",
       "    }\n",
       "\n",
       "    .dataframe tbody tr th {\n",
       "        vertical-align: top;\n",
       "    }\n",
       "\n",
       "    .dataframe thead th {\n",
       "        text-align: right;\n",
       "    }\n",
       "</style>\n",
       "<table border=\"1\" class=\"dataframe\">\n",
       "  <thead>\n",
       "    <tr style=\"text-align: right;\">\n",
       "      <th></th>\n",
       "      <th>date</th>\n",
       "      <th>Average Sentiment</th>\n",
       "    </tr>\n",
       "  </thead>\n",
       "  <tbody>\n",
       "    <tr>\n",
       "      <th>0</th>\n",
       "      <td>2011-04-27</td>\n",
       "      <td>0.000</td>\n",
       "    </tr>\n",
       "    <tr>\n",
       "      <th>1</th>\n",
       "      <td>2011-04-28</td>\n",
       "      <td>0.068</td>\n",
       "    </tr>\n",
       "    <tr>\n",
       "      <th>2</th>\n",
       "      <td>2011-04-29</td>\n",
       "      <td>0.167</td>\n",
       "    </tr>\n",
       "    <tr>\n",
       "      <th>3</th>\n",
       "      <td>2011-05-02</td>\n",
       "      <td>0.000</td>\n",
       "    </tr>\n",
       "    <tr>\n",
       "      <th>4</th>\n",
       "      <td>2011-05-03</td>\n",
       "      <td>0.000</td>\n",
       "    </tr>\n",
       "  </tbody>\n",
       "</table>\n",
       "</div>"
      ],
      "text/plain": [
       "         date  Average Sentiment\n",
       "0  2011-04-27              0.000\n",
       "1  2011-04-28              0.068\n",
       "2  2011-04-29              0.167\n",
       "3  2011-05-02              0.000\n",
       "4  2011-05-03              0.000"
      ]
     },
     "execution_count": 45,
     "metadata": {},
     "output_type": "execute_result"
    }
   ],
   "source": [
    "daily_sentiment.round(3).head()"
   ]
  },
  {
   "cell_type": "code",
   "execution_count": 46,
   "id": "e71c4b58",
   "metadata": {},
   "outputs": [],
   "source": [
    "# Merge sentiment data with stock data\n",
    "daily_df = pd.merge(merged_df[['date', 'Daily Return']], daily_sentiment, on='date', how='inner')"
   ]
  },
  {
   "cell_type": "code",
   "execution_count": 47,
   "id": "6de37754",
   "metadata": {},
   "outputs": [
    {
     "data": {
      "application/vnd.microsoft.datawrangler.viewer.v0+json": {
       "columns": [
        {
         "name": "index",
         "rawType": "int64",
         "type": "integer"
        },
        {
         "name": "date",
         "rawType": "object",
         "type": "unknown"
        },
        {
         "name": "Daily Return",
         "rawType": "float64",
         "type": "float"
        },
        {
         "name": "Average Sentiment",
         "rawType": "float64",
         "type": "float"
        }
       ],
       "ref": "d8f98cbd-8dab-4bb0-a63c-195c79e5478a",
       "rows": [
        [
         "0",
         "2020-06-05",
         null,
         "0.10836031724590417"
        ],
        [
         "1",
         "2020-06-05",
         "49.80392340980864",
         "0.10836031724590417"
        ],
        [
         "2",
         "2020-06-05",
         "-42.07047815194005",
         "0.10836031724590417"
        ],
        [
         "3",
         "2020-06-05",
         "220.87263819435842",
         "0.10836031724590417"
        ],
        [
         "4",
         "2020-06-05",
         "-18.88027322336804",
         "0.10836031724590417"
        ]
       ],
       "shape": {
        "columns": 3,
        "rows": 5
       }
      },
      "text/html": [
       "<div>\n",
       "<style scoped>\n",
       "    .dataframe tbody tr th:only-of-type {\n",
       "        vertical-align: middle;\n",
       "    }\n",
       "\n",
       "    .dataframe tbody tr th {\n",
       "        vertical-align: top;\n",
       "    }\n",
       "\n",
       "    .dataframe thead th {\n",
       "        text-align: right;\n",
       "    }\n",
       "</style>\n",
       "<table border=\"1\" class=\"dataframe\">\n",
       "  <thead>\n",
       "    <tr style=\"text-align: right;\">\n",
       "      <th></th>\n",
       "      <th>date</th>\n",
       "      <th>Daily Return</th>\n",
       "      <th>Average Sentiment</th>\n",
       "    </tr>\n",
       "  </thead>\n",
       "  <tbody>\n",
       "    <tr>\n",
       "      <th>0</th>\n",
       "      <td>2020-06-05</td>\n",
       "      <td>NaN</td>\n",
       "      <td>0.10836</td>\n",
       "    </tr>\n",
       "    <tr>\n",
       "      <th>1</th>\n",
       "      <td>2020-06-05</td>\n",
       "      <td>49.803923</td>\n",
       "      <td>0.10836</td>\n",
       "    </tr>\n",
       "    <tr>\n",
       "      <th>2</th>\n",
       "      <td>2020-06-05</td>\n",
       "      <td>-42.070478</td>\n",
       "      <td>0.10836</td>\n",
       "    </tr>\n",
       "    <tr>\n",
       "      <th>3</th>\n",
       "      <td>2020-06-05</td>\n",
       "      <td>220.872638</td>\n",
       "      <td>0.10836</td>\n",
       "    </tr>\n",
       "    <tr>\n",
       "      <th>4</th>\n",
       "      <td>2020-06-05</td>\n",
       "      <td>-18.880273</td>\n",
       "      <td>0.10836</td>\n",
       "    </tr>\n",
       "  </tbody>\n",
       "</table>\n",
       "</div>"
      ],
      "text/plain": [
       "         date  Daily Return  Average Sentiment\n",
       "0  2020-06-05           NaN            0.10836\n",
       "1  2020-06-05     49.803923            0.10836\n",
       "2  2020-06-05    -42.070478            0.10836\n",
       "3  2020-06-05    220.872638            0.10836\n",
       "4  2020-06-05    -18.880273            0.10836"
      ]
     },
     "execution_count": 47,
     "metadata": {},
     "output_type": "execute_result"
    }
   ],
   "source": [
    "daily_df.head()"
   ]
  },
  {
   "cell_type": "code",
   "execution_count": 48,
   "id": "5ae6dcfa",
   "metadata": {},
   "outputs": [
    {
     "name": "stdout",
     "output_type": "stream",
     "text": [
      "Pearson correlation coefficient: 0.000577290186737864\n"
     ]
    }
   ],
   "source": [
    "# Calculate correlation\n",
    "correlation = daily_df[['Average Sentiment', 'Daily Return']].corr().iloc[0, 1]\n",
    "print(f'Pearson correlation coefficient: {correlation}')"
   ]
  },
  {
   "cell_type": "code",
   "execution_count": null,
   "id": "936eeed9",
   "metadata": {},
   "outputs": [],
   "source": []
  }
 ],
 "metadata": {
  "kernelspec": {
   "display_name": ".venv",
   "language": "python",
   "name": "python3"
  },
  "language_info": {
   "codemirror_mode": {
    "name": "ipython",
    "version": 3
   },
   "file_extension": ".py",
   "mimetype": "text/x-python",
   "name": "python",
   "nbconvert_exporter": "python",
   "pygments_lexer": "ipython3",
   "version": "3.13.2"
  }
 },
 "nbformat": 4,
 "nbformat_minor": 5
}
